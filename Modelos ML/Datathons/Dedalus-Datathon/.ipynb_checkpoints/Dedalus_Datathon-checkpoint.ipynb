{
 "cells": [
  {
   "cell_type": "markdown",
   "metadata": {},
   "source": [
    "# Introducción del Caso de Uso"
   ]
  },
  {
   "cell_type": "markdown",
   "metadata": {},
   "source": [
    "En este caso, me enfrento con la ayuda de dos compañeros a una competición en el que vamos a tener que implementar un **modelo de predicción para calcular el tiempo que un paciente va a estar en la UCI**, y por tanto, conocer la presión en las UCIs de cada centro hospitalario y poder derivar a los pacientes graves a los centros con menor presión. \n",
    "\n",
    "La única condición que nos ponen desde Dedalus (empresa organizadora) es que no hay restricciones, solamente una fecha límite de entrega y defensa de la solución implementada. En este caso nosotros eramos 3 participantes y pudimos reunirnos 3 días de la semana que nos dejaron. \n",
    "\n",
    "Para introducir la importancia del caso nos hemos tomado la molestia de buscar estadísticas de los hospitales españoles, que se resumen en la siguiente imagen:"
   ]
  },
  {
   "cell_type": "markdown",
   "metadata": {},
   "source": [
    "<img src=\"./img/Diapositiva1.PNG\">"
   ]
  },
  {
   "cell_type": "markdown",
   "metadata": {},
   "source": [
    "El proceso que seguimos lo dividimos en 7 pasos diferentes, desde definir el objetivo de nuestro trabajo hasta la presentación de nuestra solución final. Los primeros **6 pasos fueron parte de lo que se conoce como entendimiento, análisis y preprocesado de los datos**, y se pueden ver de manera gráfica en la siguiente diapositiva: "
   ]
  },
  {
   "cell_type": "markdown",
   "metadata": {},
   "source": [
    "<img src=\"./img/Proceso.PNG\">"
   ]
  },
  {
   "cell_type": "markdown",
   "metadata": {},
   "source": [
    "Empecemos por el objetivo del trabajo: \n",
    "\n",
    "<img src=\"./img/Objetivos.PNG\">\n",
    "\n",
    "- **Análisis del conjunto de datos**: Es un modelo relacional como 31 tablas y donde cada tabla posee varios atributos, por tanto, no es un modelo trivial que se puede entender de un vistazo al modelo relacional.\n",
    "\n",
    "\n",
    "- **Entender el caso de uso**: Dado que prácticamente ninguno de los integrantes tenemos conocimientos medicos, debemos dedicarle tiempo a buscar información en artículos y papers, con el objetivo de hacernos una idea de este caso\n",
    "\n",
    "\n",
    "- **Valorar diferentes aproximaciones**: Dependiendo de los datos el problema se puede afrontar de diferentes maneras, como por ejemplo, diferenciando si se va a utilizar un modelo de regresión o de clasificación. Posteriormente, entraré más en profundidad de la solución final planteada\n",
    "\n",
    "\n",
    "- **Solución realista y práctica**: No deja de ser un caso de uso real y tenemos que tener en mente durante todo el proceso que debemos implementar una arquitectura y un modelo aplicable a la realidad"
   ]
  },
  {
   "cell_type": "markdown",
   "metadata": {},
   "source": [
    "Por último, antes de comenzar con el código puro, he de decir que parte del análisis exploratorio realizado sobre el conjunto de datos no está dentro de este notebook, ya que he decidido centrarme en un flujo E2E con datos fijos. Es decir, voy a partir de unos datasets(tablas) y  voy a exponer el análisis para estos datos, saltandome la parte de selección de tablas, porque creo que mete más ruido que valor. \n",
    "\n",
    "**!!EMPECEMOS¡¡**"
   ]
  },
  {
   "cell_type": "markdown",
   "metadata": {
    "id": "M5bS6tO8Wp2Y"
   },
   "source": [
    "# Librerías y Ruta"
   ]
  },
  {
   "cell_type": "markdown",
   "metadata": {},
   "source": [
    "La primera sección del notebook la he querido dedicar para exponer el conjunto de librerías usadas, de tal manera que las dependencias del proyecto no estén definidas por todo el notebook, y se concentren en una celda"
   ]
  },
  {
   "cell_type": "code",
   "execution_count": 1,
   "metadata": {
    "colab": {
     "base_uri": "https://localhost:8080/"
    },
    "id": "3HU657Fbi3ln",
    "outputId": "95d29edf-fc56-4efa-e100-8ca1a72399ab"
   },
   "outputs": [],
   "source": [
    "# Esta celda estba dedicada a montar el repositorio de datos en Google Colab que es donde trabajamos\n",
    "\n",
    "#from google.colab import drive\n",
    "#drive.mount('/content/drive')"
   ]
  },
  {
   "cell_type": "code",
   "execution_count": 2,
   "metadata": {
    "id": "MBKCICAUW7PL"
   },
   "outputs": [],
   "source": [
    "import pandas as pd\n",
    "import numpy as np\n",
    "\n",
    "\n",
    "import seaborn as sns\n",
    "import matplotlib.pyplot as plt\n",
    "import matplotlib.colors as mcolors\n",
    "\n",
    "\n",
    "import scipy.stats\n",
    "\n",
    "from sklearn.metrics import mean_squared_error, accuracy_score, confusion_matrix\n",
    "from sklearn.neighbors import KNeighborsRegressor\n",
    "from sklearn.preprocessing import StandardScaler\n",
    "from sklearn.model_selection import train_test_split, GridSearchCV, KFold\n",
    "from sklearn.ensemble import RandomForestClassifier\n",
    "\n",
    "from category_encoders import CountEncoder\n",
    "\n",
    "from xgboost import XGBRegressor\n",
    "from xgboost import XGBClassifier"
   ]
  },
  {
   "cell_type": "code",
   "execution_count": 3,
   "metadata": {
    "id": "VkVwoj-PXN-H"
   },
   "outputs": [],
   "source": [
    "# Variable para establecer donde están los datasets\n",
    "ruta_datasets = './datasets/'"
   ]
  },
  {
   "cell_type": "markdown",
   "metadata": {
    "id": "xJh3VtAbXHoj"
   },
   "source": [
    "# Dataset Paciente\n",
    "\n",
    "Empecemos exponiendo el análisis realizado sobre el dataset central, el conjunto de datos que contiene la información primaria de cada admisión de pacientes en una UCI. La idea que hemos planteado es tratar los datos de este dataset y posteriormente, añadir columnas(características) procedentes de los otros datasets elegidos."
   ]
  },
  {
   "cell_type": "markdown",
   "metadata": {
    "id": "Gynm-MTcXZnX"
   },
   "source": [
    "## Carga del Dataset"
   ]
  },
  {
   "cell_type": "code",
   "execution_count": 4,
   "metadata": {
    "id": "sWluvxMVWkWI"
   },
   "outputs": [],
   "source": [
    "data = pd.read_csv(ruta_datasets+\"patient.csv\")"
   ]
  },
  {
   "cell_type": "code",
   "execution_count": 5,
   "metadata": {
    "colab": {
     "base_uri": "https://localhost:8080/",
     "height": 404
    },
    "id": "iYiSV62dXWXp",
    "outputId": "204c1a55-56fc-4c2d-d2c5-7b336ffae613"
   },
   "outputs": [
    {
     "data": {
      "text/html": [
       "<div>\n",
       "<style scoped>\n",
       "    .dataframe tbody tr th:only-of-type {\n",
       "        vertical-align: middle;\n",
       "    }\n",
       "\n",
       "    .dataframe tbody tr th {\n",
       "        vertical-align: top;\n",
       "    }\n",
       "\n",
       "    .dataframe thead th {\n",
       "        text-align: right;\n",
       "    }\n",
       "</style>\n",
       "<table border=\"1\" class=\"dataframe\">\n",
       "  <thead>\n",
       "    <tr style=\"text-align: right;\">\n",
       "      <th></th>\n",
       "      <th>patientunitstayid</th>\n",
       "      <th>patienthealthsystemstayid</th>\n",
       "      <th>gender</th>\n",
       "      <th>age</th>\n",
       "      <th>ethnicity</th>\n",
       "      <th>hospitalid</th>\n",
       "      <th>wardid</th>\n",
       "      <th>apacheadmissiondx</th>\n",
       "      <th>admissionheight</th>\n",
       "      <th>hospitaladmittime24</th>\n",
       "      <th>...</th>\n",
       "      <th>unitadmitsource</th>\n",
       "      <th>unitvisitnumber</th>\n",
       "      <th>unitstaytype</th>\n",
       "      <th>admissionweight</th>\n",
       "      <th>dischargeweight</th>\n",
       "      <th>unitdischargetime24</th>\n",
       "      <th>unitdischargeoffset</th>\n",
       "      <th>unitdischargelocation</th>\n",
       "      <th>unitdischargestatus</th>\n",
       "      <th>uniquepid</th>\n",
       "    </tr>\n",
       "  </thead>\n",
       "  <tbody>\n",
       "    <tr>\n",
       "      <th>0</th>\n",
       "      <td>141764</td>\n",
       "      <td>129391</td>\n",
       "      <td>Female</td>\n",
       "      <td>87</td>\n",
       "      <td>Caucasian</td>\n",
       "      <td>59</td>\n",
       "      <td>91</td>\n",
       "      <td>NaN</td>\n",
       "      <td>157.5</td>\n",
       "      <td>23:36:00</td>\n",
       "      <td>...</td>\n",
       "      <td>ICU to SDU</td>\n",
       "      <td>2</td>\n",
       "      <td>stepdown/other</td>\n",
       "      <td>NaN</td>\n",
       "      <td>NaN</td>\n",
       "      <td>18:58:00</td>\n",
       "      <td>344</td>\n",
       "      <td>Home</td>\n",
       "      <td>Alive</td>\n",
       "      <td>002-1039</td>\n",
       "    </tr>\n",
       "    <tr>\n",
       "      <th>1</th>\n",
       "      <td>141765</td>\n",
       "      <td>129391</td>\n",
       "      <td>Female</td>\n",
       "      <td>87</td>\n",
       "      <td>Caucasian</td>\n",
       "      <td>59</td>\n",
       "      <td>91</td>\n",
       "      <td>Rhythm disturbance (atrial, supraventricular)</td>\n",
       "      <td>157.5</td>\n",
       "      <td>23:36:00</td>\n",
       "      <td>...</td>\n",
       "      <td>Emergency Department</td>\n",
       "      <td>1</td>\n",
       "      <td>admit</td>\n",
       "      <td>46.5</td>\n",
       "      <td>45.0</td>\n",
       "      <td>13:14:00</td>\n",
       "      <td>2250</td>\n",
       "      <td>Step-Down Unit (SDU)</td>\n",
       "      <td>Alive</td>\n",
       "      <td>002-1039</td>\n",
       "    </tr>\n",
       "    <tr>\n",
       "      <th>2</th>\n",
       "      <td>143870</td>\n",
       "      <td>131022</td>\n",
       "      <td>Male</td>\n",
       "      <td>76</td>\n",
       "      <td>Caucasian</td>\n",
       "      <td>68</td>\n",
       "      <td>103</td>\n",
       "      <td>Endarterectomy, carotid</td>\n",
       "      <td>167.0</td>\n",
       "      <td>20:46:00</td>\n",
       "      <td>...</td>\n",
       "      <td>Operating Room</td>\n",
       "      <td>1</td>\n",
       "      <td>admit</td>\n",
       "      <td>77.5</td>\n",
       "      <td>79.4</td>\n",
       "      <td>10:00:00</td>\n",
       "      <td>793</td>\n",
       "      <td>Floor</td>\n",
       "      <td>Alive</td>\n",
       "      <td>002-12289</td>\n",
       "    </tr>\n",
       "    <tr>\n",
       "      <th>3</th>\n",
       "      <td>144815</td>\n",
       "      <td>131736</td>\n",
       "      <td>Female</td>\n",
       "      <td>34</td>\n",
       "      <td>Caucasian</td>\n",
       "      <td>56</td>\n",
       "      <td>82</td>\n",
       "      <td>Overdose, other toxin, poison or drug</td>\n",
       "      <td>172.7</td>\n",
       "      <td>01:44:00</td>\n",
       "      <td>...</td>\n",
       "      <td>Emergency Department</td>\n",
       "      <td>1</td>\n",
       "      <td>admit</td>\n",
       "      <td>60.3</td>\n",
       "      <td>60.7</td>\n",
       "      <td>20:48:00</td>\n",
       "      <td>1121</td>\n",
       "      <td>Other External</td>\n",
       "      <td>Alive</td>\n",
       "      <td>002-1116</td>\n",
       "    </tr>\n",
       "    <tr>\n",
       "      <th>4</th>\n",
       "      <td>145427</td>\n",
       "      <td>132209</td>\n",
       "      <td>Male</td>\n",
       "      <td>61</td>\n",
       "      <td>Caucasian</td>\n",
       "      <td>68</td>\n",
       "      <td>103</td>\n",
       "      <td>GI perforation/rupture, surgery for</td>\n",
       "      <td>177.8</td>\n",
       "      <td>23:48:00</td>\n",
       "      <td>...</td>\n",
       "      <td>Operating Room</td>\n",
       "      <td>1</td>\n",
       "      <td>admit</td>\n",
       "      <td>91.7</td>\n",
       "      <td>93.1</td>\n",
       "      <td>22:47:00</td>\n",
       "      <td>1369</td>\n",
       "      <td>Floor</td>\n",
       "      <td>Alive</td>\n",
       "      <td>002-12243</td>\n",
       "    </tr>\n",
       "  </tbody>\n",
       "</table>\n",
       "<p>5 rows × 29 columns</p>\n",
       "</div>"
      ],
      "text/plain": [
       "   patientunitstayid  patienthealthsystemstayid  gender age  ethnicity  \\\n",
       "0             141764                     129391  Female  87  Caucasian   \n",
       "1             141765                     129391  Female  87  Caucasian   \n",
       "2             143870                     131022    Male  76  Caucasian   \n",
       "3             144815                     131736  Female  34  Caucasian   \n",
       "4             145427                     132209    Male  61  Caucasian   \n",
       "\n",
       "   hospitalid  wardid                              apacheadmissiondx  \\\n",
       "0          59      91                                            NaN   \n",
       "1          59      91  Rhythm disturbance (atrial, supraventricular)   \n",
       "2          68     103                        Endarterectomy, carotid   \n",
       "3          56      82          Overdose, other toxin, poison or drug   \n",
       "4          68     103            GI perforation/rupture, surgery for   \n",
       "\n",
       "   admissionheight hospitaladmittime24  ...       unitadmitsource  \\\n",
       "0            157.5            23:36:00  ...            ICU to SDU   \n",
       "1            157.5            23:36:00  ...  Emergency Department   \n",
       "2            167.0            20:46:00  ...        Operating Room   \n",
       "3            172.7            01:44:00  ...  Emergency Department   \n",
       "4            177.8            23:48:00  ...        Operating Room   \n",
       "\n",
       "  unitvisitnumber    unitstaytype admissionweight  dischargeweight  \\\n",
       "0               2  stepdown/other             NaN              NaN   \n",
       "1               1           admit            46.5             45.0   \n",
       "2               1           admit            77.5             79.4   \n",
       "3               1           admit            60.3             60.7   \n",
       "4               1           admit            91.7             93.1   \n",
       "\n",
       "  unitdischargetime24 unitdischargeoffset unitdischargelocation  \\\n",
       "0            18:58:00                 344                  Home   \n",
       "1            13:14:00                2250  Step-Down Unit (SDU)   \n",
       "2            10:00:00                 793                 Floor   \n",
       "3            20:48:00                1121        Other External   \n",
       "4            22:47:00                1369                 Floor   \n",
       "\n",
       "  unitdischargestatus  uniquepid  \n",
       "0               Alive   002-1039  \n",
       "1               Alive   002-1039  \n",
       "2               Alive  002-12289  \n",
       "3               Alive   002-1116  \n",
       "4               Alive  002-12243  \n",
       "\n",
       "[5 rows x 29 columns]"
      ]
     },
     "execution_count": 5,
     "metadata": {},
     "output_type": "execute_result"
    }
   ],
   "source": [
    "data.head()"
   ]
  },
  {
   "cell_type": "markdown",
   "metadata": {
    "id": "iDda8nurXgTI"
   },
   "source": [
    "## Análisis Previo"
   ]
  },
  {
   "cell_type": "markdown",
   "metadata": {},
   "source": [
    "Este análisis se va a dividir en vairos pasos, lo primero seleccionar las columnas que nos aportan valor según hemos podido investigar en el enlace al modelo de datos: https://eicu-crd.mit.edu/about/eicu/"
   ]
  },
  {
   "cell_type": "code",
   "execution_count": 6,
   "metadata": {
    "id": "cwpbB0T2pV35"
   },
   "outputs": [],
   "source": [
    "data = data[['patientunitstayid', 'gender', 'age', 'hospitalid', 'apacheadmissiondx','admissionheight', 'unittype',\n",
    "             'unitadmitsource', 'unitvisitnumber', 'unitstaytype', 'unitdischargeoffset']]"
   ]
  },
  {
   "cell_type": "code",
   "execution_count": 7,
   "metadata": {
    "colab": {
     "base_uri": "https://localhost:8080/"
    },
    "id": "Geg0KM9vXfh6",
    "outputId": "345ee110-eaea-4de1-ceb9-d82fa9d45b12",
    "scrolled": true
   },
   "outputs": [
    {
     "data": {
      "text/plain": [
       "(2520, 11)"
      ]
     },
     "execution_count": 7,
     "metadata": {},
     "output_type": "execute_result"
    }
   ],
   "source": [
    "data.shape"
   ]
  },
  {
   "cell_type": "markdown",
   "metadata": {},
   "source": [
    "Es esencial conocer los tipos de cada característica que python ha detactado en la carga de variables. Así sabremos si por ejemplo, una columna dedicada a la edad lo detecto como texto, número entero o decimal."
   ]
  },
  {
   "cell_type": "code",
   "execution_count": 8,
   "metadata": {
    "colab": {
     "base_uri": "https://localhost:8080/"
    },
    "id": "HT6li5TkXpDP",
    "outputId": "5d7f016e-b8e2-4e48-c002-7976c44b50f9"
   },
   "outputs": [
    {
     "data": {
      "text/plain": [
       "patientunitstayid        int64\n",
       "gender                  object\n",
       "age                     object\n",
       "hospitalid               int64\n",
       "apacheadmissiondx       object\n",
       "admissionheight        float64\n",
       "unittype                object\n",
       "unitadmitsource         object\n",
       "unitvisitnumber          int64\n",
       "unitstaytype            object\n",
       "unitdischargeoffset      int64\n",
       "dtype: object"
      ]
     },
     "execution_count": 8,
     "metadata": {},
     "output_type": "execute_result"
    }
   ],
   "source": [
    "data.dtypes"
   ]
  },
  {
   "cell_type": "markdown",
   "metadata": {},
   "source": [
    "El siguiente piso es hacernos una idea de los valores que tiene cada característica númerica. De tal manera que podemos detectar outliers, datos potencialmente erróneos, distribuciones, etcétera de un solo vistazo."
   ]
  },
  {
   "cell_type": "code",
   "execution_count": 9,
   "metadata": {
    "colab": {
     "base_uri": "https://localhost:8080/",
     "height": 300
    },
    "id": "0Q3lNG3YXpYb",
    "outputId": "17b3678d-2294-44d8-f3ea-0b03e0e91c7f"
   },
   "outputs": [
    {
     "data": {
      "text/html": [
       "<div>\n",
       "<style scoped>\n",
       "    .dataframe tbody tr th:only-of-type {\n",
       "        vertical-align: middle;\n",
       "    }\n",
       "\n",
       "    .dataframe tbody tr th {\n",
       "        vertical-align: top;\n",
       "    }\n",
       "\n",
       "    .dataframe thead th {\n",
       "        text-align: right;\n",
       "    }\n",
       "</style>\n",
       "<table border=\"1\" class=\"dataframe\">\n",
       "  <thead>\n",
       "    <tr style=\"text-align: right;\">\n",
       "      <th></th>\n",
       "      <th>patientunitstayid</th>\n",
       "      <th>hospitalid</th>\n",
       "      <th>admissionheight</th>\n",
       "      <th>unitvisitnumber</th>\n",
       "      <th>unitdischargeoffset</th>\n",
       "    </tr>\n",
       "  </thead>\n",
       "  <tbody>\n",
       "    <tr>\n",
       "      <th>count</th>\n",
       "      <td>2.520000e+03</td>\n",
       "      <td>2520.000000</td>\n",
       "      <td>2451.000000</td>\n",
       "      <td>2520.000000</td>\n",
       "      <td>2520.000000</td>\n",
       "    </tr>\n",
       "    <tr>\n",
       "      <th>mean</th>\n",
       "      <td>1.666226e+06</td>\n",
       "      <td>261.042460</td>\n",
       "      <td>169.740445</td>\n",
       "      <td>1.200000</td>\n",
       "      <td>3484.075000</td>\n",
       "    </tr>\n",
       "    <tr>\n",
       "      <th>std</th>\n",
       "      <td>1.022224e+06</td>\n",
       "      <td>119.109829</td>\n",
       "      <td>15.986092</td>\n",
       "      <td>0.510003</td>\n",
       "      <td>4977.160994</td>\n",
       "    </tr>\n",
       "    <tr>\n",
       "      <th>min</th>\n",
       "      <td>1.417640e+05</td>\n",
       "      <td>56.000000</td>\n",
       "      <td>0.300000</td>\n",
       "      <td>1.000000</td>\n",
       "      <td>0.000000</td>\n",
       "    </tr>\n",
       "    <tr>\n",
       "      <th>25%</th>\n",
       "      <td>7.722628e+05</td>\n",
       "      <td>158.000000</td>\n",
       "      <td>162.600000</td>\n",
       "      <td>1.000000</td>\n",
       "      <td>1137.750000</td>\n",
       "    </tr>\n",
       "    <tr>\n",
       "      <th>50%</th>\n",
       "      <td>1.590372e+06</td>\n",
       "      <td>252.500000</td>\n",
       "      <td>170.200000</td>\n",
       "      <td>1.000000</td>\n",
       "      <td>2120.000000</td>\n",
       "    </tr>\n",
       "    <tr>\n",
       "      <th>75%</th>\n",
       "      <td>2.697422e+06</td>\n",
       "      <td>384.500000</td>\n",
       "      <td>177.800000</td>\n",
       "      <td>1.000000</td>\n",
       "      <td>3998.500000</td>\n",
       "    </tr>\n",
       "    <tr>\n",
       "      <th>max</th>\n",
       "      <td>3.353113e+06</td>\n",
       "      <td>459.000000</td>\n",
       "      <td>600.000000</td>\n",
       "      <td>5.000000</td>\n",
       "      <td>66499.000000</td>\n",
       "    </tr>\n",
       "  </tbody>\n",
       "</table>\n",
       "</div>"
      ],
      "text/plain": [
       "       patientunitstayid   hospitalid  admissionheight  unitvisitnumber  \\\n",
       "count       2.520000e+03  2520.000000      2451.000000      2520.000000   \n",
       "mean        1.666226e+06   261.042460       169.740445         1.200000   \n",
       "std         1.022224e+06   119.109829        15.986092         0.510003   \n",
       "min         1.417640e+05    56.000000         0.300000         1.000000   \n",
       "25%         7.722628e+05   158.000000       162.600000         1.000000   \n",
       "50%         1.590372e+06   252.500000       170.200000         1.000000   \n",
       "75%         2.697422e+06   384.500000       177.800000         1.000000   \n",
       "max         3.353113e+06   459.000000       600.000000         5.000000   \n",
       "\n",
       "       unitdischargeoffset  \n",
       "count          2520.000000  \n",
       "mean           3484.075000  \n",
       "std            4977.160994  \n",
       "min               0.000000  \n",
       "25%            1137.750000  \n",
       "50%            2120.000000  \n",
       "75%            3998.500000  \n",
       "max           66499.000000  "
      ]
     },
     "execution_count": 9,
     "metadata": {},
     "output_type": "execute_result"
    }
   ],
   "source": [
    "data.describe()"
   ]
  },
  {
   "cell_type": "markdown",
   "metadata": {},
   "source": [
    "Posteriormente, hacemos un análisis parecido pero aplicado a las características categóricas. Por ejemplo, nos permiter detectar el porque ha detectado la característica edad como un objeto y no con un número, a partir de 90 años lo clasifican como '>89'"
   ]
  },
  {
   "cell_type": "code",
   "execution_count": 10,
   "metadata": {
    "colab": {
     "base_uri": "https://localhost:8080/",
     "height": 175
    },
    "id": "DeDrkNFhXrCi",
    "outputId": "16e07af4-03f9-4a92-e2a2-4f7d9a990c25"
   },
   "outputs": [
    {
     "data": {
      "text/html": [
       "<div>\n",
       "<style scoped>\n",
       "    .dataframe tbody tr th:only-of-type {\n",
       "        vertical-align: middle;\n",
       "    }\n",
       "\n",
       "    .dataframe tbody tr th {\n",
       "        vertical-align: top;\n",
       "    }\n",
       "\n",
       "    .dataframe thead th {\n",
       "        text-align: right;\n",
       "    }\n",
       "</style>\n",
       "<table border=\"1\" class=\"dataframe\">\n",
       "  <thead>\n",
       "    <tr style=\"text-align: right;\">\n",
       "      <th></th>\n",
       "      <th>gender</th>\n",
       "      <th>age</th>\n",
       "      <th>apacheadmissiondx</th>\n",
       "      <th>unittype</th>\n",
       "      <th>unitadmitsource</th>\n",
       "      <th>unitstaytype</th>\n",
       "    </tr>\n",
       "  </thead>\n",
       "  <tbody>\n",
       "    <tr>\n",
       "      <th>count</th>\n",
       "      <td>2516</td>\n",
       "      <td>2516</td>\n",
       "      <td>2221</td>\n",
       "      <td>2520</td>\n",
       "      <td>2498</td>\n",
       "      <td>2520</td>\n",
       "    </tr>\n",
       "    <tr>\n",
       "      <th>unique</th>\n",
       "      <td>2</td>\n",
       "      <td>76</td>\n",
       "      <td>236</td>\n",
       "      <td>8</td>\n",
       "      <td>13</td>\n",
       "      <td>4</td>\n",
       "    </tr>\n",
       "    <tr>\n",
       "      <th>top</th>\n",
       "      <td>Male</td>\n",
       "      <td>&gt; 89</td>\n",
       "      <td>Sepsis, pulmonary</td>\n",
       "      <td>Med-Surg ICU</td>\n",
       "      <td>Emergency Department</td>\n",
       "      <td>admit</td>\n",
       "    </tr>\n",
       "    <tr>\n",
       "      <th>freq</th>\n",
       "      <td>1508</td>\n",
       "      <td>98</td>\n",
       "      <td>121</td>\n",
       "      <td>1898</td>\n",
       "      <td>1304</td>\n",
       "      <td>2064</td>\n",
       "    </tr>\n",
       "  </tbody>\n",
       "</table>\n",
       "</div>"
      ],
      "text/plain": [
       "       gender   age  apacheadmissiondx      unittype       unitadmitsource  \\\n",
       "count    2516  2516               2221          2520                  2498   \n",
       "unique      2    76                236             8                    13   \n",
       "top      Male  > 89  Sepsis, pulmonary  Med-Surg ICU  Emergency Department   \n",
       "freq     1508    98                121          1898                  1304   \n",
       "\n",
       "       unitstaytype  \n",
       "count          2520  \n",
       "unique            4  \n",
       "top           admit  \n",
       "freq           2064  "
      ]
     },
     "execution_count": 10,
     "metadata": {},
     "output_type": "execute_result"
    }
   ],
   "source": [
    "data.describe(exclude=[np.number])"
   ]
  },
  {
   "cell_type": "markdown",
   "metadata": {},
   "source": [
    "Como en todo proyecto de Big Data y análisis de datos debemos conocer cuantos valores nulos(\"missing data\") tiene cada característica. Con la siguiente instrucción obtenemos una lista que nos expone en porcentaje absoluto cuantos valores nulos tiene cada característica. Cabe destacar, que según la documentación(link anterior) de este modelo de datos, ninguna de las características seleccionadas para Patient define un valor específico a los valores nulos, dicho con otras palabras, los valores nulos no tienen un significado propio. "
   ]
  },
  {
   "cell_type": "code",
   "execution_count": 11,
   "metadata": {
    "colab": {
     "base_uri": "https://localhost:8080/"
    },
    "id": "TC0BanXzXtC6",
    "outputId": "eae7cc09-7242-4dbc-e228-93edb7ba6b4e"
   },
   "outputs": [
    {
     "data": {
      "text/plain": [
       "patientunitstayid      0.000000\n",
       "gender                 0.001587\n",
       "age                    0.001587\n",
       "hospitalid             0.000000\n",
       "apacheadmissiondx      0.118651\n",
       "admissionheight        0.027381\n",
       "unittype               0.000000\n",
       "unitadmitsource        0.008730\n",
       "unitvisitnumber        0.000000\n",
       "unitstaytype           0.000000\n",
       "unitdischargeoffset    0.000000\n",
       "dtype: float64"
      ]
     },
     "execution_count": 11,
     "metadata": {},
     "output_type": "execute_result"
    }
   ],
   "source": [
    "data.isnull().sum() / data.shape[0]"
   ]
  },
  {
   "cell_type": "markdown",
   "metadata": {},
   "source": [
    "Como último paso de este análisis previo de Patient, he decidido mostrar una lista de las frecuencias absolutas de cada valor categórico en cada uno de sus niveles."
   ]
  },
  {
   "cell_type": "code",
   "execution_count": 12,
   "metadata": {
    "colab": {
     "base_uri": "https://localhost:8080/",
     "height": 1000
    },
    "id": "ZTdpcROtXukG",
    "outputId": "a167a121-0a52-4fc7-9274-fd35fb145e0e"
   },
   "outputs": [
    {
     "data": {
      "text/html": [
       "<div>\n",
       "<style scoped>\n",
       "    .dataframe tbody tr th:only-of-type {\n",
       "        vertical-align: middle;\n",
       "    }\n",
       "\n",
       "    .dataframe tbody tr th {\n",
       "        vertical-align: top;\n",
       "    }\n",
       "\n",
       "    .dataframe thead th {\n",
       "        text-align: right;\n",
       "    }\n",
       "</style>\n",
       "<table border=\"1\" class=\"dataframe\">\n",
       "  <thead>\n",
       "    <tr style=\"text-align: right;\">\n",
       "      <th></th>\n",
       "      <th>gender</th>\n",
       "      <th>counts</th>\n",
       "    </tr>\n",
       "  </thead>\n",
       "  <tbody>\n",
       "    <tr>\n",
       "      <th>0</th>\n",
       "      <td>Female</td>\n",
       "      <td>0.400000</td>\n",
       "    </tr>\n",
       "    <tr>\n",
       "      <th>1</th>\n",
       "      <td>Male</td>\n",
       "      <td>0.598413</td>\n",
       "    </tr>\n",
       "  </tbody>\n",
       "</table>\n",
       "</div>"
      ],
      "text/plain": [
       "   gender    counts\n",
       "0  Female  0.400000\n",
       "1    Male  0.598413"
      ]
     },
     "metadata": {},
     "output_type": "display_data"
    },
    {
     "data": {
      "text/html": [
       "<div>\n",
       "<style scoped>\n",
       "    .dataframe tbody tr th:only-of-type {\n",
       "        vertical-align: middle;\n",
       "    }\n",
       "\n",
       "    .dataframe tbody tr th {\n",
       "        vertical-align: top;\n",
       "    }\n",
       "\n",
       "    .dataframe thead th {\n",
       "        text-align: right;\n",
       "    }\n",
       "</style>\n",
       "<table border=\"1\" class=\"dataframe\">\n",
       "  <thead>\n",
       "    <tr style=\"text-align: right;\">\n",
       "      <th></th>\n",
       "      <th>age</th>\n",
       "      <th>counts</th>\n",
       "    </tr>\n",
       "  </thead>\n",
       "  <tbody>\n",
       "    <tr>\n",
       "      <th>0</th>\n",
       "      <td>15</td>\n",
       "      <td>0.000397</td>\n",
       "    </tr>\n",
       "    <tr>\n",
       "      <th>1</th>\n",
       "      <td>16</td>\n",
       "      <td>0.000397</td>\n",
       "    </tr>\n",
       "    <tr>\n",
       "      <th>2</th>\n",
       "      <td>17</td>\n",
       "      <td>0.000794</td>\n",
       "    </tr>\n",
       "    <tr>\n",
       "      <th>3</th>\n",
       "      <td>18</td>\n",
       "      <td>0.003175</td>\n",
       "    </tr>\n",
       "    <tr>\n",
       "      <th>4</th>\n",
       "      <td>19</td>\n",
       "      <td>0.003175</td>\n",
       "    </tr>\n",
       "    <tr>\n",
       "      <th>...</th>\n",
       "      <td>...</td>\n",
       "      <td>...</td>\n",
       "    </tr>\n",
       "    <tr>\n",
       "      <th>71</th>\n",
       "      <td>86</td>\n",
       "      <td>0.010317</td>\n",
       "    </tr>\n",
       "    <tr>\n",
       "      <th>72</th>\n",
       "      <td>87</td>\n",
       "      <td>0.017063</td>\n",
       "    </tr>\n",
       "    <tr>\n",
       "      <th>73</th>\n",
       "      <td>88</td>\n",
       "      <td>0.009921</td>\n",
       "    </tr>\n",
       "    <tr>\n",
       "      <th>74</th>\n",
       "      <td>89</td>\n",
       "      <td>0.011508</td>\n",
       "    </tr>\n",
       "    <tr>\n",
       "      <th>75</th>\n",
       "      <td>&gt; 89</td>\n",
       "      <td>0.038889</td>\n",
       "    </tr>\n",
       "  </tbody>\n",
       "</table>\n",
       "<p>76 rows × 2 columns</p>\n",
       "</div>"
      ],
      "text/plain": [
       "     age    counts\n",
       "0     15  0.000397\n",
       "1     16  0.000397\n",
       "2     17  0.000794\n",
       "3     18  0.003175\n",
       "4     19  0.003175\n",
       "..   ...       ...\n",
       "71    86  0.010317\n",
       "72    87  0.017063\n",
       "73    88  0.009921\n",
       "74    89  0.011508\n",
       "75  > 89  0.038889\n",
       "\n",
       "[76 rows x 2 columns]"
      ]
     },
     "metadata": {},
     "output_type": "display_data"
    },
    {
     "data": {
      "text/html": [
       "<div>\n",
       "<style scoped>\n",
       "    .dataframe tbody tr th:only-of-type {\n",
       "        vertical-align: middle;\n",
       "    }\n",
       "\n",
       "    .dataframe tbody tr th {\n",
       "        vertical-align: top;\n",
       "    }\n",
       "\n",
       "    .dataframe thead th {\n",
       "        text-align: right;\n",
       "    }\n",
       "</style>\n",
       "<table border=\"1\" class=\"dataframe\">\n",
       "  <thead>\n",
       "    <tr style=\"text-align: right;\">\n",
       "      <th></th>\n",
       "      <th>apacheadmissiondx</th>\n",
       "      <th>counts</th>\n",
       "    </tr>\n",
       "  </thead>\n",
       "  <tbody>\n",
       "    <tr>\n",
       "      <th>0</th>\n",
       "      <td>ARDS-adult respiratory distress syndrome, non-...</td>\n",
       "      <td>0.003571</td>\n",
       "    </tr>\n",
       "    <tr>\n",
       "      <th>1</th>\n",
       "      <td>Abdomen only trauma</td>\n",
       "      <td>0.000397</td>\n",
       "    </tr>\n",
       "    <tr>\n",
       "      <th>2</th>\n",
       "      <td>Abdomen/extremity trauma</td>\n",
       "      <td>0.000794</td>\n",
       "    </tr>\n",
       "    <tr>\n",
       "      <th>3</th>\n",
       "      <td>Abdomen/multiple trauma</td>\n",
       "      <td>0.000397</td>\n",
       "    </tr>\n",
       "    <tr>\n",
       "      <th>4</th>\n",
       "      <td>Ablation or mapping of cardiac conduction pathway</td>\n",
       "      <td>0.000794</td>\n",
       "    </tr>\n",
       "    <tr>\n",
       "      <th>...</th>\n",
       "      <td>...</td>\n",
       "      <td>...</td>\n",
       "    </tr>\n",
       "    <tr>\n",
       "      <th>231</th>\n",
       "      <td>Vascular medical, other</td>\n",
       "      <td>0.002778</td>\n",
       "    </tr>\n",
       "    <tr>\n",
       "      <th>232</th>\n",
       "      <td>Vascular surgery, other</td>\n",
       "      <td>0.000794</td>\n",
       "    </tr>\n",
       "    <tr>\n",
       "      <th>233</th>\n",
       "      <td>Vena cava filter insertion</td>\n",
       "      <td>0.000397</td>\n",
       "    </tr>\n",
       "    <tr>\n",
       "      <th>234</th>\n",
       "      <td>Ventriculostomy</td>\n",
       "      <td>0.000397</td>\n",
       "    </tr>\n",
       "    <tr>\n",
       "      <th>235</th>\n",
       "      <td>Weaning from mechanical ventilation (transfer ...</td>\n",
       "      <td>0.002381</td>\n",
       "    </tr>\n",
       "  </tbody>\n",
       "</table>\n",
       "<p>236 rows × 2 columns</p>\n",
       "</div>"
      ],
      "text/plain": [
       "                                     apacheadmissiondx    counts\n",
       "0    ARDS-adult respiratory distress syndrome, non-...  0.003571\n",
       "1                                  Abdomen only trauma  0.000397\n",
       "2                             Abdomen/extremity trauma  0.000794\n",
       "3                              Abdomen/multiple trauma  0.000397\n",
       "4    Ablation or mapping of cardiac conduction pathway  0.000794\n",
       "..                                                 ...       ...\n",
       "231                            Vascular medical, other  0.002778\n",
       "232                            Vascular surgery, other  0.000794\n",
       "233                         Vena cava filter insertion  0.000397\n",
       "234                                    Ventriculostomy  0.000397\n",
       "235  Weaning from mechanical ventilation (transfer ...  0.002381\n",
       "\n",
       "[236 rows x 2 columns]"
      ]
     },
     "metadata": {},
     "output_type": "display_data"
    },
    {
     "data": {
      "text/html": [
       "<div>\n",
       "<style scoped>\n",
       "    .dataframe tbody tr th:only-of-type {\n",
       "        vertical-align: middle;\n",
       "    }\n",
       "\n",
       "    .dataframe tbody tr th {\n",
       "        vertical-align: top;\n",
       "    }\n",
       "\n",
       "    .dataframe thead th {\n",
       "        text-align: right;\n",
       "    }\n",
       "</style>\n",
       "<table border=\"1\" class=\"dataframe\">\n",
       "  <thead>\n",
       "    <tr style=\"text-align: right;\">\n",
       "      <th></th>\n",
       "      <th>unittype</th>\n",
       "      <th>counts</th>\n",
       "    </tr>\n",
       "  </thead>\n",
       "  <tbody>\n",
       "    <tr>\n",
       "      <th>0</th>\n",
       "      <td>CCU-CTICU</td>\n",
       "      <td>0.032540</td>\n",
       "    </tr>\n",
       "    <tr>\n",
       "      <th>1</th>\n",
       "      <td>CSICU</td>\n",
       "      <td>0.025794</td>\n",
       "    </tr>\n",
       "    <tr>\n",
       "      <th>2</th>\n",
       "      <td>CTICU</td>\n",
       "      <td>0.020635</td>\n",
       "    </tr>\n",
       "    <tr>\n",
       "      <th>3</th>\n",
       "      <td>Cardiac ICU</td>\n",
       "      <td>0.052778</td>\n",
       "    </tr>\n",
       "    <tr>\n",
       "      <th>4</th>\n",
       "      <td>MICU</td>\n",
       "      <td>0.056349</td>\n",
       "    </tr>\n",
       "    <tr>\n",
       "      <th>5</th>\n",
       "      <td>Med-Surg ICU</td>\n",
       "      <td>0.753175</td>\n",
       "    </tr>\n",
       "    <tr>\n",
       "      <th>6</th>\n",
       "      <td>Neuro ICU</td>\n",
       "      <td>0.025794</td>\n",
       "    </tr>\n",
       "    <tr>\n",
       "      <th>7</th>\n",
       "      <td>SICU</td>\n",
       "      <td>0.032937</td>\n",
       "    </tr>\n",
       "  </tbody>\n",
       "</table>\n",
       "</div>"
      ],
      "text/plain": [
       "       unittype    counts\n",
       "0     CCU-CTICU  0.032540\n",
       "1         CSICU  0.025794\n",
       "2         CTICU  0.020635\n",
       "3   Cardiac ICU  0.052778\n",
       "4          MICU  0.056349\n",
       "5  Med-Surg ICU  0.753175\n",
       "6     Neuro ICU  0.025794\n",
       "7          SICU  0.032937"
      ]
     },
     "metadata": {},
     "output_type": "display_data"
    },
    {
     "data": {
      "text/html": [
       "<div>\n",
       "<style scoped>\n",
       "    .dataframe tbody tr th:only-of-type {\n",
       "        vertical-align: middle;\n",
       "    }\n",
       "\n",
       "    .dataframe tbody tr th {\n",
       "        vertical-align: top;\n",
       "    }\n",
       "\n",
       "    .dataframe thead th {\n",
       "        text-align: right;\n",
       "    }\n",
       "</style>\n",
       "<table border=\"1\" class=\"dataframe\">\n",
       "  <thead>\n",
       "    <tr style=\"text-align: right;\">\n",
       "      <th></th>\n",
       "      <th>unitadmitsource</th>\n",
       "      <th>counts</th>\n",
       "    </tr>\n",
       "  </thead>\n",
       "  <tbody>\n",
       "    <tr>\n",
       "      <th>0</th>\n",
       "      <td>Acute Care/Floor</td>\n",
       "      <td>0.022222</td>\n",
       "    </tr>\n",
       "    <tr>\n",
       "      <th>1</th>\n",
       "      <td>Chest Pain Center</td>\n",
       "      <td>0.000794</td>\n",
       "    </tr>\n",
       "    <tr>\n",
       "      <th>2</th>\n",
       "      <td>Direct Admit</td>\n",
       "      <td>0.055952</td>\n",
       "    </tr>\n",
       "    <tr>\n",
       "      <th>3</th>\n",
       "      <td>Emergency Department</td>\n",
       "      <td>0.517460</td>\n",
       "    </tr>\n",
       "    <tr>\n",
       "      <th>4</th>\n",
       "      <td>Floor</td>\n",
       "      <td>0.130952</td>\n",
       "    </tr>\n",
       "    <tr>\n",
       "      <th>5</th>\n",
       "      <td>ICU</td>\n",
       "      <td>0.020635</td>\n",
       "    </tr>\n",
       "    <tr>\n",
       "      <th>6</th>\n",
       "      <td>ICU to SDU</td>\n",
       "      <td>0.058730</td>\n",
       "    </tr>\n",
       "    <tr>\n",
       "      <th>7</th>\n",
       "      <td>Operating Room</td>\n",
       "      <td>0.100397</td>\n",
       "    </tr>\n",
       "    <tr>\n",
       "      <th>8</th>\n",
       "      <td>Other Hospital</td>\n",
       "      <td>0.009921</td>\n",
       "    </tr>\n",
       "    <tr>\n",
       "      <th>9</th>\n",
       "      <td>Other ICU</td>\n",
       "      <td>0.012302</td>\n",
       "    </tr>\n",
       "    <tr>\n",
       "      <th>10</th>\n",
       "      <td>PACU</td>\n",
       "      <td>0.005952</td>\n",
       "    </tr>\n",
       "    <tr>\n",
       "      <th>11</th>\n",
       "      <td>Recovery Room</td>\n",
       "      <td>0.030159</td>\n",
       "    </tr>\n",
       "    <tr>\n",
       "      <th>12</th>\n",
       "      <td>Step-Down Unit (SDU)</td>\n",
       "      <td>0.025794</td>\n",
       "    </tr>\n",
       "  </tbody>\n",
       "</table>\n",
       "</div>"
      ],
      "text/plain": [
       "         unitadmitsource    counts\n",
       "0       Acute Care/Floor  0.022222\n",
       "1      Chest Pain Center  0.000794\n",
       "2           Direct Admit  0.055952\n",
       "3   Emergency Department  0.517460\n",
       "4                  Floor  0.130952\n",
       "5                    ICU  0.020635\n",
       "6             ICU to SDU  0.058730\n",
       "7         Operating Room  0.100397\n",
       "8         Other Hospital  0.009921\n",
       "9              Other ICU  0.012302\n",
       "10                  PACU  0.005952\n",
       "11         Recovery Room  0.030159\n",
       "12  Step-Down Unit (SDU)  0.025794"
      ]
     },
     "metadata": {},
     "output_type": "display_data"
    },
    {
     "data": {
      "text/html": [
       "<div>\n",
       "<style scoped>\n",
       "    .dataframe tbody tr th:only-of-type {\n",
       "        vertical-align: middle;\n",
       "    }\n",
       "\n",
       "    .dataframe tbody tr th {\n",
       "        vertical-align: top;\n",
       "    }\n",
       "\n",
       "    .dataframe thead th {\n",
       "        text-align: right;\n",
       "    }\n",
       "</style>\n",
       "<table border=\"1\" class=\"dataframe\">\n",
       "  <thead>\n",
       "    <tr style=\"text-align: right;\">\n",
       "      <th></th>\n",
       "      <th>unitstaytype</th>\n",
       "      <th>counts</th>\n",
       "    </tr>\n",
       "  </thead>\n",
       "  <tbody>\n",
       "    <tr>\n",
       "      <th>0</th>\n",
       "      <td>admit</td>\n",
       "      <td>0.819048</td>\n",
       "    </tr>\n",
       "    <tr>\n",
       "      <th>1</th>\n",
       "      <td>readmit</td>\n",
       "      <td>0.038492</td>\n",
       "    </tr>\n",
       "    <tr>\n",
       "      <th>2</th>\n",
       "      <td>stepdown/other</td>\n",
       "      <td>0.110714</td>\n",
       "    </tr>\n",
       "    <tr>\n",
       "      <th>3</th>\n",
       "      <td>transfer</td>\n",
       "      <td>0.031746</td>\n",
       "    </tr>\n",
       "  </tbody>\n",
       "</table>\n",
       "</div>"
      ],
      "text/plain": [
       "     unitstaytype    counts\n",
       "0           admit  0.819048\n",
       "1         readmit  0.038492\n",
       "2  stepdown/other  0.110714\n",
       "3        transfer  0.031746"
      ]
     },
     "metadata": {},
     "output_type": "display_data"
    }
   ],
   "source": [
    "for col in data.columns[data.dtypes==object]:\n",
    "    display((data.groupby([col]).size()/data.shape[0]).reset_index(name='counts'))"
   ]
  },
  {
   "cell_type": "markdown",
   "metadata": {
    "id": "qhw1Z1RFqImK"
   },
   "source": [
    "## Tratamiento Features\n",
    "\n",
    "Pasamos a hacer las primeras transformaciones sobre el conjunto de datos. Cambiar la columna age a entero y rellenar sus missing data por un número provisional para posteriormente tratar esta columna con el resto de columnas númericas con mssing data. Se ha decidido sustituir todos los valores \">89\" por edad = 90."
   ]
  },
  {
   "cell_type": "code",
   "execution_count": 13,
   "metadata": {
    "id": "q7x0oWoxwQpp"
   },
   "outputs": [],
   "source": [
    "data.loc[data['age'] == '> 89', ['age']] = 90\n",
    "data['age'] = data['age'].fillna(-1).astype(int)"
   ]
  },
  {
   "cell_type": "code",
   "execution_count": 14,
   "metadata": {
    "colab": {
     "base_uri": "https://localhost:8080/"
    },
    "id": "NqpM49mWKBwQ",
    "outputId": "f8a5e7b5-ff5b-4b8a-d3e2-f2ff3b40ad3d"
   },
   "outputs": [
    {
     "data": {
      "text/plain": [
       "array(['Female', 'Male', nan], dtype=object)"
      ]
     },
     "execution_count": 14,
     "metadata": {},
     "output_type": "execute_result"
    }
   ],
   "source": [
    "data['gender'].unique()"
   ]
  },
  {
   "cell_type": "markdown",
   "metadata": {
    "id": "xzhy242CmbfZ"
   },
   "source": [
    "## Análisis estadístico y visual\n",
    "Para entender el problema que se plantea en este caso de uso debemos conocer en profundidad la variable objetivo (target). Para ello vamos a tratarla, entenderla y hacer un primer estudio de como interactuan las demás variables del dataset Patient con dicho target.\n",
    "\n",
    "En este caso, el target es la variable 'unitdischargeoffset' y viene dada en minutos de estancia de un paciente en la UCI. El primer cambio para entender mejor esta variable va a ser transformarla a número de días. Es decir, dividir los minutos entre 1440, para obtener el número de días."
   ]
  },
  {
   "cell_type": "code",
   "execution_count": 15,
   "metadata": {
    "id": "9h8gFbkXnyf5"
   },
   "outputs": [],
   "source": [
    "data['target_dias'] = data['unitdischargeoffset']/1440"
   ]
  },
  {
   "cell_type": "code",
   "execution_count": 16,
   "metadata": {
    "id": "SMJr_fT2pSvv"
   },
   "outputs": [],
   "source": [
    "plt.clf()\n",
    "plt.cla()\n",
    "plt.close()"
   ]
  },
  {
   "cell_type": "markdown",
   "metadata": {},
   "source": [
    "Lo primero que creemos esencial, es conocer la distribución de la variable objetivo, para conocer varios aspectos: como de concentrado esta la masa en un tramo, si sigue una distribución normal, si existen posibles outliers o valores extremos."
   ]
  },
  {
   "cell_type": "code",
   "execution_count": 17,
   "metadata": {
    "colab": {
     "base_uri": "https://localhost:8080/",
     "height": 419
    },
    "id": "x-6Ij5Vomf2Y",
    "outputId": "c66e046f-0cd3-4c62-e729-ac08ed7d20a9"
   },
   "outputs": [
    {
     "data": {
      "image/png": "[encoded data removed]",
      "text/plain": [
       "<Figure size 600x400 with 1 Axes>"
      ]
     },
     "metadata": {},
     "output_type": "display_data"
    }
   ],
   "source": [
    "fig, ax = plt.subplots(figsize=(6, 4))\n",
    "sns.histplot(data=data, x='target_dias', kde=True, color=(1, 0.137, 0.49), ax=ax)\n",
    "ax.set(title='Distribución de los Dias en UCI de los Pacientes', xlabel='Densidad', ylabel='Frecuencia', xlim=(0, 20))\n",
    "\n",
    "# Mostrar el displot\n",
    "plt.show()"
   ]
  },
  {
   "cell_type": "markdown",
   "metadata": {},
   "source": [
    "En este caso, vemos que la gran parte de los pacientes no duran más de 3 días en la UCI, esto será clave para entender la solución que hemos diseñado y que expondré más adelante."
   ]
  },
  {
   "cell_type": "code",
   "execution_count": 18,
   "metadata": {
    "id": "DyyhtULmsHuF"
   },
   "outputs": [],
   "source": [
    "plt.clf()\n",
    "plt.cla()\n",
    "plt.close()"
   ]
  },
  {
   "cell_type": "markdown",
   "metadata": {},
   "source": [
    "Dentro del entendimiento de los datos, un primer estudio de como afecta la edad a la duración de la estancia del paciente en UCI."
   ]
  },
  {
   "cell_type": "code",
   "execution_count": 19,
   "metadata": {
    "colab": {
     "base_uri": "https://localhost:8080/",
     "height": 619
    },
    "id": "BrEtv-Herzr3",
    "outputId": "2d8012c3-a3f8-4369-c1cf-de15133f34a4"
   },
   "outputs": [
    {
     "data": {
      "text/plain": [
       "<seaborn.axisgrid.JointGrid at 0x1eeea621720>"
      ]
     },
     "execution_count": 19,
     "metadata": {},
     "output_type": "execute_result"
    },
    {
     "data": {
      "image/png": "[encoded data removed]",
      "text/plain": [
       "<Figure size 600x600 with 3 Axes>"
      ]
     },
     "metadata": {},
     "output_type": "display_data"
    }
   ],
   "source": [
    "# Visualizar la correlación entre las columnas \"total_bill\" y \"tip\"\n",
    "sns.jointplot(data=data, x='target_dias', y='age', kind='scatter')"
   ]
  },
  {
   "cell_type": "code",
   "execution_count": 20,
   "metadata": {
    "colab": {
     "base_uri": "https://localhost:8080/"
    },
    "id": "37riI7OAt03S",
    "outputId": "60f8afb1-dc15-414a-9a06-1697ca48dc20"
   },
   "outputs": [
    {
     "name": "stderr",
     "output_type": "stream",
     "text": [
      "C:\\Users\\rauld\\AppData\\Local\\Temp\\ipykernel_16792\\3390380869.py:4: FutureWarning: The default value of numeric_only in DataFrame.corr is deprecated. In a future version, it will default to False. Select only valid columns or specify the value of numeric_only to silence this warning.\n",
      "  corr_matrix = dataGraf.corr()\n"
     ]
    }
   ],
   "source": [
    "dataGraf = data.copy()\n",
    "dataGraf.pop('patientunitstayid')\n",
    "dataGraf.pop('unitdischargeoffset')\n",
    "corr_matrix = dataGraf.corr()"
   ]
  },
  {
   "cell_type": "markdown",
   "metadata": {},
   "source": [
    "Por último, un estudio de la correlación de algunas de las variables númericas del dataset Paciente con la variable paciente."
   ]
  },
  {
   "cell_type": "code",
   "execution_count": 21,
   "metadata": {
    "colab": {
     "base_uri": "https://localhost:8080/",
     "height": 570
    },
    "id": "IBgfvfYhtWad",
    "outputId": "30a2277c-1543-49f0-ac90-94fb88fea5d5",
    "scrolled": true
   },
   "outputs": [
    {
     "data": {
      "text/plain": [
       "<AxesSubplot: >"
      ]
     },
     "execution_count": 21,
     "metadata": {},
     "output_type": "execute_result"
    },
    {
     "data": {
      "image/png": "[encoded data removed]",
      "text/plain": [
       "<Figure size 640x480 with 2 Axes>"
      ]
     },
     "metadata": {},
     "output_type": "display_data"
    }
   ],
   "source": [
    "colors = [(163/255, 214/255, 255/255), (98/255, 0/255, 214/255)]\n",
    "cmap = mcolors.LinearSegmentedColormap.from_list('Custom', colors, N=256)\n",
    "# Generar el heatmap\n",
    "sns.heatmap(corr_matrix, annot=True, cmap=cmap, vmin=0, vmax=1)"
   ]
  },
  {
   "cell_type": "markdown",
   "metadata": {},
   "source": [
    "Como se observa en el heatmap no existe ninguna variable, a priori, que tenga mucha relación con la variable target. Es por esto, que decidimos para conocer de una forma sencilla la importancia de cada característica sin la necesidad de programar el preprocesado y el modelo de ML, utilizar el software WEKA para obtener un análisis más detallado de forma rápida. Dado que este software lo utilizamos también más adelante, expondré los resultos a la vez, una vez terminado el Feature Selection y Engineer."
   ]
  },
  {
   "cell_type": "markdown",
   "metadata": {
    "id": "xiYAoQddYHP4"
   },
   "source": [
    "# Past History Dataset\n",
    "Pasamos a analizar y tratar los datos de los datasets que nos van a aportar más características al conjunto de datos de Patient. Empezamos con el historial clínico del paciente, según hemos podido leer en varios papers, las enfermedades que haya padecido el paciente tienen gran relevancia en el tratamiento y los cuidados que se les aplica durante su estancia en UCI."
   ]
  },
  {
   "cell_type": "markdown",
   "metadata": {
    "id": "PM-vPphMYN8r"
   },
   "source": [
    "## Carga dataset"
   ]
  },
  {
   "cell_type": "code",
   "execution_count": 22,
   "metadata": {
    "id": "IZ1JG-C7YNqd"
   },
   "outputs": [],
   "source": [
    "past_history = pd.read_csv(ruta_datasets+\"pastHistory.csv\")"
   ]
  },
  {
   "cell_type": "code",
   "execution_count": 23,
   "metadata": {
    "colab": {
     "base_uri": "https://localhost:8080/"
    },
    "id": "Z5DPH21IXwxS",
    "outputId": "de680ced-0c19-4d9c-de3b-d3c0ab1a62f4"
   },
   "outputs": [
    {
     "data": {
      "text/html": [
       "<div>\n",
       "<style scoped>\n",
       "    .dataframe tbody tr th:only-of-type {\n",
       "        vertical-align: middle;\n",
       "    }\n",
       "\n",
       "    .dataframe tbody tr th {\n",
       "        vertical-align: top;\n",
       "    }\n",
       "\n",
       "    .dataframe thead th {\n",
       "        text-align: right;\n",
       "    }\n",
       "</style>\n",
       "<table border=\"1\" class=\"dataframe\">\n",
       "  <thead>\n",
       "    <tr style=\"text-align: right;\">\n",
       "      <th></th>\n",
       "      <th>pasthistoryid</th>\n",
       "      <th>patientunitstayid</th>\n",
       "      <th>pasthistoryoffset</th>\n",
       "      <th>pasthistoryenteredoffset</th>\n",
       "      <th>pasthistorynotetype</th>\n",
       "      <th>pasthistorypath</th>\n",
       "      <th>pasthistoryvalue</th>\n",
       "      <th>pasthistoryvaluetext</th>\n",
       "    </tr>\n",
       "  </thead>\n",
       "  <tbody>\n",
       "    <tr>\n",
       "      <th>0</th>\n",
       "      <td>990803</td>\n",
       "      <td>141765</td>\n",
       "      <td>7</td>\n",
       "      <td>12</td>\n",
       "      <td>Comprehensive Progress</td>\n",
       "      <td>notes/Progress Notes/Past History/Past History...</td>\n",
       "      <td>No Health Problems</td>\n",
       "      <td>NoHealthProblems</td>\n",
       "    </tr>\n",
       "    <tr>\n",
       "      <th>1</th>\n",
       "      <td>970059</td>\n",
       "      <td>143870</td>\n",
       "      <td>4</td>\n",
       "      <td>10</td>\n",
       "      <td>Comprehensive Progress</td>\n",
       "      <td>notes/Progress Notes/Past History/Past History...</td>\n",
       "      <td>No Health Problems</td>\n",
       "      <td>NoHealthProblems</td>\n",
       "    </tr>\n",
       "    <tr>\n",
       "      <th>2</th>\n",
       "      <td>1180401</td>\n",
       "      <td>144815</td>\n",
       "      <td>32</td>\n",
       "      <td>41</td>\n",
       "      <td>Comprehensive Progress</td>\n",
       "      <td>notes/Progress Notes/Past History/Past History...</td>\n",
       "      <td>No Health Problems</td>\n",
       "      <td>NoHealthProblems</td>\n",
       "    </tr>\n",
       "    <tr>\n",
       "      <th>3</th>\n",
       "      <td>1194998</td>\n",
       "      <td>145427</td>\n",
       "      <td>8</td>\n",
       "      <td>13</td>\n",
       "      <td>Comprehensive Progress</td>\n",
       "      <td>notes/Progress Notes/Past History/Past History...</td>\n",
       "      <td>No Health Problems</td>\n",
       "      <td>NoHealthProblems</td>\n",
       "    </tr>\n",
       "    <tr>\n",
       "      <th>4</th>\n",
       "      <td>896652</td>\n",
       "      <td>147307</td>\n",
       "      <td>53</td>\n",
       "      <td>56</td>\n",
       "      <td>Comprehensive Progress</td>\n",
       "      <td>notes/Progress Notes/Past History/Past History...</td>\n",
       "      <td>No Health Problems</td>\n",
       "      <td>NoHealthProblems</td>\n",
       "    </tr>\n",
       "  </tbody>\n",
       "</table>\n",
       "</div>"
      ],
      "text/plain": [
       "   pasthistoryid  patientunitstayid  pasthistoryoffset  \\\n",
       "0         990803             141765                  7   \n",
       "1         970059             143870                  4   \n",
       "2        1180401             144815                 32   \n",
       "3        1194998             145427                  8   \n",
       "4         896652             147307                 53   \n",
       "\n",
       "   pasthistoryenteredoffset     pasthistorynotetype  \\\n",
       "0                        12  Comprehensive Progress   \n",
       "1                        10  Comprehensive Progress   \n",
       "2                        41  Comprehensive Progress   \n",
       "3                        13  Comprehensive Progress   \n",
       "4                        56  Comprehensive Progress   \n",
       "\n",
       "                                     pasthistorypath    pasthistoryvalue  \\\n",
       "0  notes/Progress Notes/Past History/Past History...  No Health Problems   \n",
       "1  notes/Progress Notes/Past History/Past History...  No Health Problems   \n",
       "2  notes/Progress Notes/Past History/Past History...  No Health Problems   \n",
       "3  notes/Progress Notes/Past History/Past History...  No Health Problems   \n",
       "4  notes/Progress Notes/Past History/Past History...  No Health Problems   \n",
       "\n",
       "  pasthistoryvaluetext  \n",
       "0     NoHealthProblems  \n",
       "1     NoHealthProblems  \n",
       "2     NoHealthProblems  \n",
       "3     NoHealthProblems  \n",
       "4     NoHealthProblems  "
      ]
     },
     "execution_count": 23,
     "metadata": {},
     "output_type": "execute_result"
    }
   ],
   "source": [
    "past_history.head()"
   ]
  },
  {
   "cell_type": "markdown",
   "metadata": {
    "id": "RvFUctrFYjMh"
   },
   "source": [
    "## Análisis Previo\n",
    "En este apartado hemos llevado a cabo un análisis parecido al realizado sobre el dataset de Patient, y que se va a repetir en los siguiente documentos, así que no voy a repetir las explicaciones del código, pero si voy a citar ciertas obseraciones a tener en cuenta."
   ]
  },
  {
   "cell_type": "code",
   "execution_count": 24,
   "metadata": {
    "colab": {
     "base_uri": "https://localhost:8080/"
    },
    "id": "RC6VlhR_YjMi",
    "outputId": "b83741a6-34a6-422f-e903-8814bad13e19"
   },
   "outputs": [
    {
     "data": {
      "text/plain": [
       "(12109, 8)"
      ]
     },
     "execution_count": 24,
     "metadata": {},
     "output_type": "execute_result"
    }
   ],
   "source": [
    "past_history.shape"
   ]
  },
  {
   "cell_type": "code",
   "execution_count": 25,
   "metadata": {
    "colab": {
     "base_uri": "https://localhost:8080/"
    },
    "id": "iXDY_uLKYjMj",
    "outputId": "580e5586-ee2e-4933-8062-f469bafc9beb"
   },
   "outputs": [
    {
     "data": {
      "text/plain": [
       "pasthistoryid                int64\n",
       "patientunitstayid            int64\n",
       "pasthistoryoffset            int64\n",
       "pasthistoryenteredoffset     int64\n",
       "pasthistorynotetype         object\n",
       "pasthistorypath             object\n",
       "pasthistoryvalue            object\n",
       "pasthistoryvaluetext        object\n",
       "dtype: object"
      ]
     },
     "execution_count": 25,
     "metadata": {},
     "output_type": "execute_result"
    }
   ],
   "source": [
    "past_history.dtypes"
   ]
  },
  {
   "cell_type": "markdown",
   "metadata": {},
   "source": [
    "Las variables númericas de este dataset no son ingluyentes según lo investigado, poseen el ID del paciente y algunos datos más de control de registro que no nos influyen en el estudio que estamos llevando a cabo."
   ]
  },
  {
   "cell_type": "code",
   "execution_count": 26,
   "metadata": {
    "colab": {
     "base_uri": "https://localhost:8080/"
    },
    "id": "cBGN7z8MYjMj",
    "outputId": "1740854b-1ea2-4a08-e877-a3eda2a2ad4e"
   },
   "outputs": [
    {
     "data": {
      "text/html": [
       "<div>\n",
       "<style scoped>\n",
       "    .dataframe tbody tr th:only-of-type {\n",
       "        vertical-align: middle;\n",
       "    }\n",
       "\n",
       "    .dataframe tbody tr th {\n",
       "        vertical-align: top;\n",
       "    }\n",
       "\n",
       "    .dataframe thead th {\n",
       "        text-align: right;\n",
       "    }\n",
       "</style>\n",
       "<table border=\"1\" class=\"dataframe\">\n",
       "  <thead>\n",
       "    <tr style=\"text-align: right;\">\n",
       "      <th></th>\n",
       "      <th>pasthistoryid</th>\n",
       "      <th>patientunitstayid</th>\n",
       "      <th>pasthistoryoffset</th>\n",
       "      <th>pasthistoryenteredoffset</th>\n",
       "    </tr>\n",
       "  </thead>\n",
       "  <tbody>\n",
       "    <tr>\n",
       "      <th>count</th>\n",
       "      <td>1.210900e+04</td>\n",
       "      <td>1.210900e+04</td>\n",
       "      <td>12109.000000</td>\n",
       "      <td>12109.000000</td>\n",
       "    </tr>\n",
       "    <tr>\n",
       "      <th>mean</th>\n",
       "      <td>1.155916e+07</td>\n",
       "      <td>1.903050e+06</td>\n",
       "      <td>1033.009002</td>\n",
       "      <td>1116.320423</td>\n",
       "    </tr>\n",
       "    <tr>\n",
       "      <th>std</th>\n",
       "      <td>6.567584e+06</td>\n",
       "      <td>1.026370e+06</td>\n",
       "      <td>3055.118424</td>\n",
       "      <td>2857.771688</td>\n",
       "    </tr>\n",
       "    <tr>\n",
       "      <th>min</th>\n",
       "      <td>8.480350e+05</td>\n",
       "      <td>1.417650e+05</td>\n",
       "      <td>-42622.000000</td>\n",
       "      <td>-1933.000000</td>\n",
       "    </tr>\n",
       "    <tr>\n",
       "      <th>25%</th>\n",
       "      <td>5.955936e+06</td>\n",
       "      <td>1.054428e+06</td>\n",
       "      <td>16.000000</td>\n",
       "      <td>36.000000</td>\n",
       "    </tr>\n",
       "    <tr>\n",
       "      <th>50%</th>\n",
       "      <td>1.137201e+07</td>\n",
       "      <td>1.820689e+06</td>\n",
       "      <td>59.000000</td>\n",
       "      <td>101.000000</td>\n",
       "    </tr>\n",
       "    <tr>\n",
       "      <th>75%</th>\n",
       "      <td>1.666365e+07</td>\n",
       "      <td>2.883334e+06</td>\n",
       "      <td>607.000000</td>\n",
       "      <td>719.000000</td>\n",
       "    </tr>\n",
       "    <tr>\n",
       "      <th>max</th>\n",
       "      <td>2.235089e+07</td>\n",
       "      <td>3.353113e+06</td>\n",
       "      <td>28637.000000</td>\n",
       "      <td>28649.000000</td>\n",
       "    </tr>\n",
       "  </tbody>\n",
       "</table>\n",
       "</div>"
      ],
      "text/plain": [
       "       pasthistoryid  patientunitstayid  pasthistoryoffset  \\\n",
       "count   1.210900e+04       1.210900e+04       12109.000000   \n",
       "mean    1.155916e+07       1.903050e+06        1033.009002   \n",
       "std     6.567584e+06       1.026370e+06        3055.118424   \n",
       "min     8.480350e+05       1.417650e+05      -42622.000000   \n",
       "25%     5.955936e+06       1.054428e+06          16.000000   \n",
       "50%     1.137201e+07       1.820689e+06          59.000000   \n",
       "75%     1.666365e+07       2.883334e+06         607.000000   \n",
       "max     2.235089e+07       3.353113e+06       28637.000000   \n",
       "\n",
       "       pasthistoryenteredoffset  \n",
       "count              12109.000000  \n",
       "mean                1116.320423  \n",
       "std                 2857.771688  \n",
       "min                -1933.000000  \n",
       "25%                   36.000000  \n",
       "50%                  101.000000  \n",
       "75%                  719.000000  \n",
       "max                28649.000000  "
      ]
     },
     "execution_count": 26,
     "metadata": {},
     "output_type": "execute_result"
    }
   ],
   "source": [
    "past_history.describe()"
   ]
  },
  {
   "cell_type": "markdown",
   "metadata": {},
   "source": [
    "Es interesante ver que en la característica que nos vamos a fijar \"pasthistorypath\", es la que contiene las enfermedades registradas en el historial clínico del paciente, hay 190 valores únicos, así que de primeras nos dice que exites cierto estándar."
   ]
  },
  {
   "cell_type": "code",
   "execution_count": 27,
   "metadata": {
    "colab": {
     "base_uri": "https://localhost:8080/"
    },
    "id": "WT3riT-4YjMj",
    "outputId": "aa2fd228-bfe9-46b1-fcc7-8f7236029682"
   },
   "outputs": [
    {
     "data": {
      "text/html": [
       "<div>\n",
       "<style scoped>\n",
       "    .dataframe tbody tr th:only-of-type {\n",
       "        vertical-align: middle;\n",
       "    }\n",
       "\n",
       "    .dataframe tbody tr th {\n",
       "        vertical-align: top;\n",
       "    }\n",
       "\n",
       "    .dataframe thead th {\n",
       "        text-align: right;\n",
       "    }\n",
       "</style>\n",
       "<table border=\"1\" class=\"dataframe\">\n",
       "  <thead>\n",
       "    <tr style=\"text-align: right;\">\n",
       "      <th></th>\n",
       "      <th>pasthistorynotetype</th>\n",
       "      <th>pasthistorypath</th>\n",
       "      <th>pasthistoryvalue</th>\n",
       "      <th>pasthistoryvaluetext</th>\n",
       "    </tr>\n",
       "  </thead>\n",
       "  <tbody>\n",
       "    <tr>\n",
       "      <th>count</th>\n",
       "      <td>12109</td>\n",
       "      <td>12109</td>\n",
       "      <td>12109</td>\n",
       "      <td>12109</td>\n",
       "    </tr>\n",
       "    <tr>\n",
       "      <th>unique</th>\n",
       "      <td>6</td>\n",
       "      <td>190</td>\n",
       "      <td>174</td>\n",
       "      <td>174</td>\n",
       "    </tr>\n",
       "    <tr>\n",
       "      <th>top</th>\n",
       "      <td>Admission</td>\n",
       "      <td>notes/Progress Notes/Past History/Past History...</td>\n",
       "      <td>Performed</td>\n",
       "      <td>Performed</td>\n",
       "    </tr>\n",
       "    <tr>\n",
       "      <th>freq</th>\n",
       "      <td>7096</td>\n",
       "      <td>2998</td>\n",
       "      <td>2998</td>\n",
       "      <td>2998</td>\n",
       "    </tr>\n",
       "  </tbody>\n",
       "</table>\n",
       "</div>"
      ],
      "text/plain": [
       "       pasthistorynotetype                                    pasthistorypath  \\\n",
       "count                12109                                              12109   \n",
       "unique                   6                                                190   \n",
       "top              Admission  notes/Progress Notes/Past History/Past History...   \n",
       "freq                  7096                                               2998   \n",
       "\n",
       "       pasthistoryvalue pasthistoryvaluetext  \n",
       "count             12109                12109  \n",
       "unique              174                  174  \n",
       "top           Performed            Performed  \n",
       "freq               2998                 2998  "
      ]
     },
     "execution_count": 27,
     "metadata": {},
     "output_type": "execute_result"
    }
   ],
   "source": [
    "past_history.describe(exclude=[np.number])"
   ]
  },
  {
   "cell_type": "code",
   "execution_count": 28,
   "metadata": {
    "colab": {
     "base_uri": "https://localhost:8080/"
    },
    "id": "ZOXHZy7mYjMj",
    "outputId": "a52b0792-edc9-430a-9d92-d282f7024451"
   },
   "outputs": [
    {
     "data": {
      "text/plain": [
       "pasthistoryid               0.0\n",
       "patientunitstayid           0.0\n",
       "pasthistoryoffset           0.0\n",
       "pasthistoryenteredoffset    0.0\n",
       "pasthistorynotetype         0.0\n",
       "pasthistorypath             0.0\n",
       "pasthistoryvalue            0.0\n",
       "pasthistoryvaluetext        0.0\n",
       "dtype: float64"
      ]
     },
     "execution_count": 28,
     "metadata": {},
     "output_type": "execute_result"
    }
   ],
   "source": [
    "past_history.isnull().sum() / past_history.shape[0]"
   ]
  },
  {
   "cell_type": "code",
   "execution_count": 29,
   "metadata": {
    "colab": {
     "base_uri": "https://localhost:8080/"
    },
    "id": "Z1O6OAvGYjMk",
    "outputId": "7c08fc80-467a-4da6-b84a-9373a473c974"
   },
   "outputs": [
    {
     "data": {
      "text/html": [
       "<div>\n",
       "<style scoped>\n",
       "    .dataframe tbody tr th:only-of-type {\n",
       "        vertical-align: middle;\n",
       "    }\n",
       "\n",
       "    .dataframe tbody tr th {\n",
       "        vertical-align: top;\n",
       "    }\n",
       "\n",
       "    .dataframe thead th {\n",
       "        text-align: right;\n",
       "    }\n",
       "</style>\n",
       "<table border=\"1\" class=\"dataframe\">\n",
       "  <thead>\n",
       "    <tr style=\"text-align: right;\">\n",
       "      <th></th>\n",
       "      <th>pasthistorynotetype</th>\n",
       "      <th>counts</th>\n",
       "    </tr>\n",
       "  </thead>\n",
       "  <tbody>\n",
       "    <tr>\n",
       "      <th>0</th>\n",
       "      <td>Admission</td>\n",
       "      <td>0.586010</td>\n",
       "    </tr>\n",
       "    <tr>\n",
       "      <th>1</th>\n",
       "      <td>Comprehensive Progress</td>\n",
       "      <td>0.304815</td>\n",
       "    </tr>\n",
       "    <tr>\n",
       "      <th>2</th>\n",
       "      <td>Follow-up Consultation/Other</td>\n",
       "      <td>0.015856</td>\n",
       "    </tr>\n",
       "    <tr>\n",
       "      <th>3</th>\n",
       "      <td>Initial Consultation/Other</td>\n",
       "      <td>0.005368</td>\n",
       "    </tr>\n",
       "    <tr>\n",
       "      <th>4</th>\n",
       "      <td>Past History Edit</td>\n",
       "      <td>0.056652</td>\n",
       "    </tr>\n",
       "    <tr>\n",
       "      <th>5</th>\n",
       "      <td>Re-Admission</td>\n",
       "      <td>0.031299</td>\n",
       "    </tr>\n",
       "  </tbody>\n",
       "</table>\n",
       "</div>"
      ],
      "text/plain": [
       "            pasthistorynotetype    counts\n",
       "0                     Admission  0.586010\n",
       "1        Comprehensive Progress  0.304815\n",
       "2  Follow-up Consultation/Other  0.015856\n",
       "3    Initial Consultation/Other  0.005368\n",
       "4             Past History Edit  0.056652\n",
       "5                  Re-Admission  0.031299"
      ]
     },
     "metadata": {},
     "output_type": "display_data"
    },
    {
     "data": {
      "text/html": [
       "<div>\n",
       "<style scoped>\n",
       "    .dataframe tbody tr th:only-of-type {\n",
       "        vertical-align: middle;\n",
       "    }\n",
       "\n",
       "    .dataframe tbody tr th {\n",
       "        vertical-align: top;\n",
       "    }\n",
       "\n",
       "    .dataframe thead th {\n",
       "        text-align: right;\n",
       "    }\n",
       "</style>\n",
       "<table border=\"1\" class=\"dataframe\">\n",
       "  <thead>\n",
       "    <tr style=\"text-align: right;\">\n",
       "      <th></th>\n",
       "      <th>pasthistorypath</th>\n",
       "      <th>counts</th>\n",
       "    </tr>\n",
       "  </thead>\n",
       "  <tbody>\n",
       "    <tr>\n",
       "      <th>0</th>\n",
       "      <td>notes/Progress Notes/Past History/Organ System...</td>\n",
       "      <td>0.004212</td>\n",
       "    </tr>\n",
       "    <tr>\n",
       "      <th>1</th>\n",
       "      <td>notes/Progress Notes/Past History/Organ System...</td>\n",
       "      <td>0.004294</td>\n",
       "    </tr>\n",
       "    <tr>\n",
       "      <th>2</th>\n",
       "      <td>notes/Progress Notes/Past History/Organ System...</td>\n",
       "      <td>0.000083</td>\n",
       "    </tr>\n",
       "    <tr>\n",
       "      <th>3</th>\n",
       "      <td>notes/Progress Notes/Past History/Organ System...</td>\n",
       "      <td>0.000083</td>\n",
       "    </tr>\n",
       "    <tr>\n",
       "      <th>4</th>\n",
       "      <td>notes/Progress Notes/Past History/Organ System...</td>\n",
       "      <td>0.001074</td>\n",
       "    </tr>\n",
       "    <tr>\n",
       "      <th>...</th>\n",
       "      <td>...</td>\n",
       "      <td>...</td>\n",
       "    </tr>\n",
       "    <tr>\n",
       "      <th>185</th>\n",
       "      <td>notes/Progress Notes/Past History/Organ System...</td>\n",
       "      <td>0.000165</td>\n",
       "    </tr>\n",
       "    <tr>\n",
       "      <th>186</th>\n",
       "      <td>notes/Progress Notes/Past History/Past History...</td>\n",
       "      <td>0.019737</td>\n",
       "    </tr>\n",
       "    <tr>\n",
       "      <th>187</th>\n",
       "      <td>notes/Progress Notes/Past History/Past History...</td>\n",
       "      <td>0.002643</td>\n",
       "    </tr>\n",
       "    <tr>\n",
       "      <th>188</th>\n",
       "      <td>notes/Progress Notes/Past History/Past History...</td>\n",
       "      <td>0.001982</td>\n",
       "    </tr>\n",
       "    <tr>\n",
       "      <th>189</th>\n",
       "      <td>notes/Progress Notes/Past History/Past History...</td>\n",
       "      <td>0.247584</td>\n",
       "    </tr>\n",
       "  </tbody>\n",
       "</table>\n",
       "<p>190 rows × 2 columns</p>\n",
       "</div>"
      ],
      "text/plain": [
       "                                       pasthistorypath    counts\n",
       "0    notes/Progress Notes/Past History/Organ System...  0.004212\n",
       "1    notes/Progress Notes/Past History/Organ System...  0.004294\n",
       "2    notes/Progress Notes/Past History/Organ System...  0.000083\n",
       "3    notes/Progress Notes/Past History/Organ System...  0.000083\n",
       "4    notes/Progress Notes/Past History/Organ System...  0.001074\n",
       "..                                                 ...       ...\n",
       "185  notes/Progress Notes/Past History/Organ System...  0.000165\n",
       "186  notes/Progress Notes/Past History/Past History...  0.019737\n",
       "187  notes/Progress Notes/Past History/Past History...  0.002643\n",
       "188  notes/Progress Notes/Past History/Past History...  0.001982\n",
       "189  notes/Progress Notes/Past History/Past History...  0.247584\n",
       "\n",
       "[190 rows x 2 columns]"
      ]
     },
     "metadata": {},
     "output_type": "display_data"
    },
    {
     "data": {
      "text/html": [
       "<div>\n",
       "<style scoped>\n",
       "    .dataframe tbody tr th:only-of-type {\n",
       "        vertical-align: middle;\n",
       "    }\n",
       "\n",
       "    .dataframe tbody tr th {\n",
       "        vertical-align: top;\n",
       "    }\n",
       "\n",
       "    .dataframe thead th {\n",
       "        text-align: right;\n",
       "    }\n",
       "</style>\n",
       "<table border=\"1\" class=\"dataframe\">\n",
       "  <thead>\n",
       "    <tr style=\"text-align: right;\">\n",
       "      <th></th>\n",
       "      <th>pasthistoryvalue</th>\n",
       "      <th>counts</th>\n",
       "    </tr>\n",
       "  </thead>\n",
       "  <tbody>\n",
       "    <tr>\n",
       "      <th>0</th>\n",
       "      <td>&gt;= 20 mg prednisone per day or equivalent</td>\n",
       "      <td>0.000661</td>\n",
       "    </tr>\n",
       "    <tr>\n",
       "      <th>1</th>\n",
       "      <td>A paced</td>\n",
       "      <td>0.000495</td>\n",
       "    </tr>\n",
       "    <tr>\n",
       "      <th>2</th>\n",
       "      <td>A/V paced</td>\n",
       "      <td>0.001404</td>\n",
       "    </tr>\n",
       "    <tr>\n",
       "      <th>3</th>\n",
       "      <td>AICD</td>\n",
       "      <td>0.004212</td>\n",
       "    </tr>\n",
       "    <tr>\n",
       "      <th>4</th>\n",
       "      <td>ALL</td>\n",
       "      <td>0.000083</td>\n",
       "    </tr>\n",
       "    <tr>\n",
       "      <th>...</th>\n",
       "      <td>...</td>\n",
       "      <td>...</td>\n",
       "    </tr>\n",
       "    <tr>\n",
       "      <th>169</th>\n",
       "      <td>uterus</td>\n",
       "      <td>0.000578</td>\n",
       "    </tr>\n",
       "    <tr>\n",
       "      <th>170</th>\n",
       "      <td>varices</td>\n",
       "      <td>0.000908</td>\n",
       "    </tr>\n",
       "    <tr>\n",
       "      <th>171</th>\n",
       "      <td>ventricular ectopy</td>\n",
       "      <td>0.000495</td>\n",
       "    </tr>\n",
       "    <tr>\n",
       "      <th>172</th>\n",
       "      <td>ventricular fibrillation</td>\n",
       "      <td>0.000083</td>\n",
       "    </tr>\n",
       "    <tr>\n",
       "      <th>173</th>\n",
       "      <td>ventricular tachycardia</td>\n",
       "      <td>0.002065</td>\n",
       "    </tr>\n",
       "  </tbody>\n",
       "</table>\n",
       "<p>174 rows × 2 columns</p>\n",
       "</div>"
      ],
      "text/plain": [
       "                              pasthistoryvalue    counts\n",
       "0    >= 20 mg prednisone per day or equivalent  0.000661\n",
       "1                                      A paced  0.000495\n",
       "2                                    A/V paced  0.001404\n",
       "3                                         AICD  0.004212\n",
       "4                                          ALL  0.000083\n",
       "..                                         ...       ...\n",
       "169                                     uterus  0.000578\n",
       "170                                    varices  0.000908\n",
       "171                         ventricular ectopy  0.000495\n",
       "172                   ventricular fibrillation  0.000083\n",
       "173                    ventricular tachycardia  0.002065\n",
       "\n",
       "[174 rows x 2 columns]"
      ]
     },
     "metadata": {},
     "output_type": "display_data"
    },
    {
     "data": {
      "text/html": [
       "<div>\n",
       "<style scoped>\n",
       "    .dataframe tbody tr th:only-of-type {\n",
       "        vertical-align: middle;\n",
       "    }\n",
       "\n",
       "    .dataframe tbody tr th {\n",
       "        vertical-align: top;\n",
       "    }\n",
       "\n",
       "    .dataframe thead th {\n",
       "        text-align: right;\n",
       "    }\n",
       "</style>\n",
       "<table border=\"1\" class=\"dataframe\">\n",
       "  <thead>\n",
       "    <tr style=\"text-align: right;\">\n",
       "      <th></th>\n",
       "      <th>pasthistoryvaluetext</th>\n",
       "      <th>counts</th>\n",
       "    </tr>\n",
       "  </thead>\n",
       "  <tbody>\n",
       "    <tr>\n",
       "      <th>0</th>\n",
       "      <td>&gt;= 20 mg prednisone per day or equivalent</td>\n",
       "      <td>0.000661</td>\n",
       "    </tr>\n",
       "    <tr>\n",
       "      <th>1</th>\n",
       "      <td>A paced</td>\n",
       "      <td>0.000495</td>\n",
       "    </tr>\n",
       "    <tr>\n",
       "      <th>2</th>\n",
       "      <td>A/V paced</td>\n",
       "      <td>0.001404</td>\n",
       "    </tr>\n",
       "    <tr>\n",
       "      <th>3</th>\n",
       "      <td>AICD</td>\n",
       "      <td>0.004212</td>\n",
       "    </tr>\n",
       "    <tr>\n",
       "      <th>4</th>\n",
       "      <td>ALL</td>\n",
       "      <td>0.000083</td>\n",
       "    </tr>\n",
       "    <tr>\n",
       "      <th>...</th>\n",
       "      <td>...</td>\n",
       "      <td>...</td>\n",
       "    </tr>\n",
       "    <tr>\n",
       "      <th>169</th>\n",
       "      <td>uterus</td>\n",
       "      <td>0.000578</td>\n",
       "    </tr>\n",
       "    <tr>\n",
       "      <th>170</th>\n",
       "      <td>varices</td>\n",
       "      <td>0.000908</td>\n",
       "    </tr>\n",
       "    <tr>\n",
       "      <th>171</th>\n",
       "      <td>ventricular ectopy</td>\n",
       "      <td>0.000495</td>\n",
       "    </tr>\n",
       "    <tr>\n",
       "      <th>172</th>\n",
       "      <td>ventricular fibrillation</td>\n",
       "      <td>0.000083</td>\n",
       "    </tr>\n",
       "    <tr>\n",
       "      <th>173</th>\n",
       "      <td>ventricular tachycardia</td>\n",
       "      <td>0.002065</td>\n",
       "    </tr>\n",
       "  </tbody>\n",
       "</table>\n",
       "<p>174 rows × 2 columns</p>\n",
       "</div>"
      ],
      "text/plain": [
       "                          pasthistoryvaluetext    counts\n",
       "0    >= 20 mg prednisone per day or equivalent  0.000661\n",
       "1                                      A paced  0.000495\n",
       "2                                    A/V paced  0.001404\n",
       "3                                         AICD  0.004212\n",
       "4                                          ALL  0.000083\n",
       "..                                         ...       ...\n",
       "169                                     uterus  0.000578\n",
       "170                                    varices  0.000908\n",
       "171                         ventricular ectopy  0.000495\n",
       "172                   ventricular fibrillation  0.000083\n",
       "173                    ventricular tachycardia  0.002065\n",
       "\n",
       "[174 rows x 2 columns]"
      ]
     },
     "metadata": {},
     "output_type": "display_data"
    }
   ],
   "source": [
    "for col in past_history.columns[past_history.dtypes==object]:\n",
    "    display((past_history.groupby([col]).size()/past_history.shape[0]).reset_index(name='counts'))"
   ]
  },
  {
   "cell_type": "markdown",
   "metadata": {
    "id": "4lDjUyVZYw22"
   },
   "source": [
    "## Tratamiento Features\n",
    "Tras un primer análisis lo que hemos decidido es dividir la columna del historial clinico en diferentes características usando el carácter '/' como delimitador de esta división, posteriormente, nos quedamos solo con la 4 posición de la división, ya que hemos observado que es la posición más específica que se define para todos los pacientes"
   ]
  },
  {
   "cell_type": "code",
   "execution_count": 30,
   "metadata": {
    "id": "ptQqY4fyY3_Y"
   },
   "outputs": [],
   "source": [
    "past_history['pasthistorysplit'] = past_history['pasthistorypath'].str.split('/').str[4]"
   ]
  },
  {
   "cell_type": "markdown",
   "metadata": {},
   "source": [
    "Como se observa en la siguiente instrucción nos hemos quedado con un grupo de variables que definen donde han tenido problemas los pacientes: Corazón, pulmones..."
   ]
  },
  {
   "cell_type": "code",
   "execution_count": 31,
   "metadata": {
    "colab": {
     "base_uri": "https://localhost:8080/"
    },
    "id": "DIP6XHEmZsAA",
    "outputId": "fd5c057b-dbac-4c46-eb1a-6355a99d8835"
   },
   "outputs": [
    {
     "data": {
      "text/plain": [
       "array(['No Health Problems', 'Performed', 'Endocrine (R)', 'Hematology',\n",
       "       'Pulmonary', 'Cardiovascular (R)', 'Neurologic',\n",
       "       'Infectious Disease (R)', 'Renal  (R)', 'Gastrointestinal (R)',\n",
       "       'Rheumatic', 'Not Performed', 'Not Obtainable'], dtype=object)"
      ]
     },
     "execution_count": 31,
     "metadata": {},
     "output_type": "execute_result"
    }
   ],
   "source": [
    "past_history['pasthistorysplit'].unique()"
   ]
  },
  {
   "cell_type": "code",
   "execution_count": 32,
   "metadata": {
    "colab": {
     "base_uri": "https://localhost:8080/"
    },
    "id": "3zDfCUpMZtj0",
    "outputId": "ae0ab41b-513a-4abb-ab9d-7819f2c338bb",
    "scrolled": true
   },
   "outputs": [
    {
     "data": {
      "text/plain": [
       "pasthistoryid               0.0\n",
       "patientunitstayid           0.0\n",
       "pasthistoryoffset           0.0\n",
       "pasthistoryenteredoffset    0.0\n",
       "pasthistorynotetype         0.0\n",
       "pasthistorypath             0.0\n",
       "pasthistoryvalue            0.0\n",
       "pasthistoryvaluetext        0.0\n",
       "pasthistorysplit            0.0\n",
       "dtype: float64"
      ]
     },
     "execution_count": 32,
     "metadata": {},
     "output_type": "execute_result"
    }
   ],
   "source": [
    "past_history.isnull().sum() / past_history.shape[0]"
   ]
  },
  {
   "cell_type": "markdown",
   "metadata": {},
   "source": [
    "\n",
    "El siguiente paso es eliminar las categorías que no nos aportan valor, es decir, que no nos definen un problema.\n"
   ]
  },
  {
   "cell_type": "code",
   "execution_count": 33,
   "metadata": {
    "id": "iB2xVOceawEU"
   },
   "outputs": [],
   "source": [
    "past_history = past_history.loc[past_history['pasthistorysplit'] != 'No Health Problems', :]\n",
    "past_history = past_history.loc[past_history['pasthistorysplit'] != 'Performed', :]\n",
    "past_history = past_history.loc[past_history['pasthistorysplit'] != 'Not Performed', :]\n",
    "past_history = past_history.loc[past_history['pasthistorysplit'] != 'Not Obtainable', :]"
   ]
  },
  {
   "cell_type": "code",
   "execution_count": 34,
   "metadata": {
    "colab": {
     "base_uri": "https://localhost:8080/"
    },
    "id": "AtHu7TVFboZ5",
    "outputId": "48ee112c-eee8-41ee-a130-f2edb6b6d09d"
   },
   "outputs": [
    {
     "data": {
      "text/plain": [
       "array(['Endocrine (R)', 'Hematology', 'Pulmonary', 'Cardiovascular (R)',\n",
       "       'Neurologic', 'Infectious Disease (R)', 'Renal  (R)',\n",
       "       'Gastrointestinal (R)', 'Rheumatic'], dtype=object)"
      ]
     },
     "execution_count": 34,
     "metadata": {},
     "output_type": "execute_result"
    }
   ],
   "source": [
    "past_history['pasthistorysplit'].unique()"
   ]
  },
  {
   "cell_type": "code",
   "execution_count": 35,
   "metadata": {
    "id": "Fw7Ho9qGcfNW"
   },
   "outputs": [],
   "source": [
    "past_history = past_history[['pasthistoryid', 'patientunitstayid', 'pasthistorysplit']]"
   ]
  },
  {
   "cell_type": "code",
   "execution_count": 36,
   "metadata": {
    "colab": {
     "base_uri": "https://localhost:8080/"
    },
    "id": "ORfhrghMbq-6",
    "outputId": "23557a59-07f8-4a0a-d6d7-ec3644f40f4b"
   },
   "outputs": [
    {
     "data": {
      "text/plain": [
       "(8816, 3)"
      ]
     },
     "execution_count": 36,
     "metadata": {},
     "output_type": "execute_result"
    }
   ],
   "source": [
    "past_history.shape"
   ]
  },
  {
   "cell_type": "code",
   "execution_count": 37,
   "metadata": {
    "colab": {
     "base_uri": "https://localhost:8080/"
    },
    "id": "i8X3ZBlcc3bA",
    "outputId": "b9775375-32bb-41f6-b06a-9a2900bd1bb5"
   },
   "outputs": [
    {
     "data": {
      "text/html": [
       "<div>\n",
       "<style scoped>\n",
       "    .dataframe tbody tr th:only-of-type {\n",
       "        vertical-align: middle;\n",
       "    }\n",
       "\n",
       "    .dataframe tbody tr th {\n",
       "        vertical-align: top;\n",
       "    }\n",
       "\n",
       "    .dataframe thead th {\n",
       "        text-align: right;\n",
       "    }\n",
       "</style>\n",
       "<table border=\"1\" class=\"dataframe\">\n",
       "  <thead>\n",
       "    <tr style=\"text-align: right;\">\n",
       "      <th></th>\n",
       "      <th>pasthistorysplit</th>\n",
       "    </tr>\n",
       "    <tr>\n",
       "      <th>patientunitstayid</th>\n",
       "      <th></th>\n",
       "    </tr>\n",
       "  </thead>\n",
       "  <tbody>\n",
       "    <tr>\n",
       "      <th>147784</th>\n",
       "      <td>1</td>\n",
       "    </tr>\n",
       "    <tr>\n",
       "      <th>151179</th>\n",
       "      <td>2</td>\n",
       "    </tr>\n",
       "    <tr>\n",
       "      <th>151900</th>\n",
       "      <td>4</td>\n",
       "    </tr>\n",
       "    <tr>\n",
       "      <th>153972</th>\n",
       "      <td>8</td>\n",
       "    </tr>\n",
       "    <tr>\n",
       "      <th>155961</th>\n",
       "      <td>1</td>\n",
       "    </tr>\n",
       "    <tr>\n",
       "      <th>...</th>\n",
       "      <td>...</td>\n",
       "    </tr>\n",
       "    <tr>\n",
       "      <th>3351763</th>\n",
       "      <td>6</td>\n",
       "    </tr>\n",
       "    <tr>\n",
       "      <th>3352230</th>\n",
       "      <td>6</td>\n",
       "    </tr>\n",
       "    <tr>\n",
       "      <th>3352231</th>\n",
       "      <td>2</td>\n",
       "    </tr>\n",
       "    <tr>\n",
       "      <th>3352333</th>\n",
       "      <td>2</td>\n",
       "    </tr>\n",
       "    <tr>\n",
       "      <th>3353113</th>\n",
       "      <td>3</td>\n",
       "    </tr>\n",
       "  </tbody>\n",
       "</table>\n",
       "<p>1838 rows × 1 columns</p>\n",
       "</div>"
      ],
      "text/plain": [
       "                   pasthistorysplit\n",
       "patientunitstayid                  \n",
       "147784                            1\n",
       "151179                            2\n",
       "151900                            4\n",
       "153972                            8\n",
       "155961                            1\n",
       "...                             ...\n",
       "3351763                           6\n",
       "3352230                           6\n",
       "3352231                           2\n",
       "3352333                           2\n",
       "3353113                           3\n",
       "\n",
       "[1838 rows x 1 columns]"
      ]
     },
     "execution_count": 37,
     "metadata": {},
     "output_type": "execute_result"
    }
   ],
   "source": [
    "past_history.pivot_table('pasthistorysplit', index=['patientunitstayid'], aggfunc='count')"
   ]
  },
  {
   "cell_type": "markdown",
   "metadata": {},
   "source": [
    "Por último, vamos a dejar preparado los datos de este dataset para ser megeados(unidos) con los de paciente. Vamos a definir una tabla por ID de paciente y una columna por cada una de las categorías obtenidas en los pasos anteriores, en las diferentes observaciones, vamos a definir con un '1' si el paciente a tenido registro en su historial clínico de una enfermedad de esa categoría o '0' para el caso contrario."
   ]
  },
  {
   "cell_type": "code",
   "execution_count": 38,
   "metadata": {
    "colab": {
     "base_uri": "https://localhost:8080/"
    },
    "id": "35-KL73Qdj1Z",
    "outputId": "0b55e296-f5e3-4868-e10e-8ca97c88d430"
   },
   "outputs": [
    {
     "data": {
      "text/html": [
       "<div>\n",
       "<style scoped>\n",
       "    .dataframe tbody tr th:only-of-type {\n",
       "        vertical-align: middle;\n",
       "    }\n",
       "\n",
       "    .dataframe tbody tr th {\n",
       "        vertical-align: top;\n",
       "    }\n",
       "\n",
       "    .dataframe thead th {\n",
       "        text-align: right;\n",
       "    }\n",
       "</style>\n",
       "<table border=\"1\" class=\"dataframe\">\n",
       "  <thead>\n",
       "    <tr style=\"text-align: right;\">\n",
       "      <th></th>\n",
       "      <th>patientunitstayid</th>\n",
       "    </tr>\n",
       "  </thead>\n",
       "  <tbody>\n",
       "    <tr>\n",
       "      <th>0</th>\n",
       "      <td>147784</td>\n",
       "    </tr>\n",
       "    <tr>\n",
       "      <th>1</th>\n",
       "      <td>151179</td>\n",
       "    </tr>\n",
       "    <tr>\n",
       "      <th>2</th>\n",
       "      <td>151900</td>\n",
       "    </tr>\n",
       "    <tr>\n",
       "      <th>3</th>\n",
       "      <td>153972</td>\n",
       "    </tr>\n",
       "    <tr>\n",
       "      <th>4</th>\n",
       "      <td>155961</td>\n",
       "    </tr>\n",
       "  </tbody>\n",
       "</table>\n",
       "</div>"
      ],
      "text/plain": [
       "   patientunitstayid\n",
       "0             147784\n",
       "1             151179\n",
       "2             151900\n",
       "3             153972\n",
       "4             155961"
      ]
     },
     "execution_count": 38,
     "metadata": {},
     "output_type": "execute_result"
    }
   ],
   "source": [
    "paciente_pastHistory = pd.DataFrame({'patientunitstayid': past_history['patientunitstayid'].unique()})\n",
    "paciente_pastHistory.head()"
   ]
  },
  {
   "cell_type": "code",
   "execution_count": 39,
   "metadata": {
    "id": "ARPfdqJOejEg"
   },
   "outputs": [],
   "source": [
    "pivot_table = pd.pivot_table(past_history, index='patientunitstayid', columns='pasthistorysplit', values='pasthistoryid', aggfunc=lambda x: 1)"
   ]
  },
  {
   "cell_type": "code",
   "execution_count": 40,
   "metadata": {
    "id": "O01I7L9nfFEW"
   },
   "outputs": [],
   "source": [
    "paciente_pastHistory = paciente_pastHistory.merge(pivot_table, on='patientunitstayid', how='left').fillna(0)"
   ]
  },
  {
   "cell_type": "code",
   "execution_count": 41,
   "metadata": {
    "colab": {
     "base_uri": "https://localhost:8080/"
    },
    "id": "Bq5cR-jufU-0",
    "outputId": "a1c34ba4-2ba3-45b3-e986-6edb586fdef6"
   },
   "outputs": [
    {
     "data": {
      "text/html": [
       "<div>\n",
       "<style scoped>\n",
       "    .dataframe tbody tr th:only-of-type {\n",
       "        vertical-align: middle;\n",
       "    }\n",
       "\n",
       "    .dataframe tbody tr th {\n",
       "        vertical-align: top;\n",
       "    }\n",
       "\n",
       "    .dataframe thead th {\n",
       "        text-align: right;\n",
       "    }\n",
       "</style>\n",
       "<table border=\"1\" class=\"dataframe\">\n",
       "  <thead>\n",
       "    <tr style=\"text-align: right;\">\n",
       "      <th></th>\n",
       "      <th>patientunitstayid</th>\n",
       "      <th>Cardiovascular (R)</th>\n",
       "      <th>Endocrine (R)</th>\n",
       "      <th>Gastrointestinal (R)</th>\n",
       "      <th>Hematology</th>\n",
       "      <th>Infectious Disease (R)</th>\n",
       "      <th>Neurologic</th>\n",
       "      <th>Pulmonary</th>\n",
       "      <th>Renal  (R)</th>\n",
       "      <th>Rheumatic</th>\n",
       "    </tr>\n",
       "  </thead>\n",
       "  <tbody>\n",
       "    <tr>\n",
       "      <th>0</th>\n",
       "      <td>147784</td>\n",
       "      <td>0.0</td>\n",
       "      <td>1.0</td>\n",
       "      <td>0.0</td>\n",
       "      <td>0.0</td>\n",
       "      <td>0.0</td>\n",
       "      <td>0.0</td>\n",
       "      <td>0.0</td>\n",
       "      <td>0.0</td>\n",
       "      <td>0.0</td>\n",
       "    </tr>\n",
       "    <tr>\n",
       "      <th>1</th>\n",
       "      <td>151179</td>\n",
       "      <td>0.0</td>\n",
       "      <td>0.0</td>\n",
       "      <td>0.0</td>\n",
       "      <td>1.0</td>\n",
       "      <td>0.0</td>\n",
       "      <td>0.0</td>\n",
       "      <td>0.0</td>\n",
       "      <td>0.0</td>\n",
       "      <td>0.0</td>\n",
       "    </tr>\n",
       "    <tr>\n",
       "      <th>2</th>\n",
       "      <td>151900</td>\n",
       "      <td>0.0</td>\n",
       "      <td>0.0</td>\n",
       "      <td>0.0</td>\n",
       "      <td>1.0</td>\n",
       "      <td>0.0</td>\n",
       "      <td>0.0</td>\n",
       "      <td>1.0</td>\n",
       "      <td>0.0</td>\n",
       "      <td>0.0</td>\n",
       "    </tr>\n",
       "    <tr>\n",
       "      <th>3</th>\n",
       "      <td>153972</td>\n",
       "      <td>1.0</td>\n",
       "      <td>0.0</td>\n",
       "      <td>0.0</td>\n",
       "      <td>0.0</td>\n",
       "      <td>0.0</td>\n",
       "      <td>0.0</td>\n",
       "      <td>0.0</td>\n",
       "      <td>0.0</td>\n",
       "      <td>0.0</td>\n",
       "    </tr>\n",
       "    <tr>\n",
       "      <th>4</th>\n",
       "      <td>155961</td>\n",
       "      <td>1.0</td>\n",
       "      <td>0.0</td>\n",
       "      <td>0.0</td>\n",
       "      <td>0.0</td>\n",
       "      <td>0.0</td>\n",
       "      <td>0.0</td>\n",
       "      <td>0.0</td>\n",
       "      <td>0.0</td>\n",
       "      <td>0.0</td>\n",
       "    </tr>\n",
       "  </tbody>\n",
       "</table>\n",
       "</div>"
      ],
      "text/plain": [
       "   patientunitstayid  Cardiovascular (R)  Endocrine (R)  Gastrointestinal (R)  \\\n",
       "0             147784                 0.0            1.0                   0.0   \n",
       "1             151179                 0.0            0.0                   0.0   \n",
       "2             151900                 0.0            0.0                   0.0   \n",
       "3             153972                 1.0            0.0                   0.0   \n",
       "4             155961                 1.0            0.0                   0.0   \n",
       "\n",
       "   Hematology  Infectious Disease (R)  Neurologic  Pulmonary  Renal  (R)  \\\n",
       "0         0.0                     0.0         0.0        0.0         0.0   \n",
       "1         1.0                     0.0         0.0        0.0         0.0   \n",
       "2         1.0                     0.0         0.0        1.0         0.0   \n",
       "3         0.0                     0.0         0.0        0.0         0.0   \n",
       "4         0.0                     0.0         0.0        0.0         0.0   \n",
       "\n",
       "   Rheumatic  \n",
       "0        0.0  \n",
       "1        0.0  \n",
       "2        0.0  \n",
       "3        0.0  \n",
       "4        0.0  "
      ]
     },
     "execution_count": 41,
     "metadata": {},
     "output_type": "execute_result"
    }
   ],
   "source": [
    "paciente_pastHistory.head()"
   ]
  },
  {
   "cell_type": "code",
   "execution_count": 42,
   "metadata": {
    "colab": {
     "base_uri": "https://localhost:8080/"
    },
    "id": "xluzsLdafW67",
    "outputId": "e80efbaa-56c0-428a-dd55-604239e6b426"
   },
   "outputs": [
    {
     "data": {
      "text/plain": [
       "(1838, 10)"
      ]
     },
     "execution_count": 42,
     "metadata": {},
     "output_type": "execute_result"
    }
   ],
   "source": [
    "paciente_pastHistory.shape"
   ]
  },
  {
   "cell_type": "markdown",
   "metadata": {
    "id": "pNWMMMj-gVFU"
   },
   "source": [
    "# Vital Periodic\n",
    "En este caso, vamos a estudiar el modelo de datos de medidas vitales periódicas. En este dataset, tenemos varias medidas que se toman automáticamente cada 5 minutos. Vamos a estudiar este dataset y exponer como hemos decidido tratar estas variables"
   ]
  },
  {
   "cell_type": "markdown",
   "metadata": {
    "id": "iz--oRd6grzw"
   },
   "source": [
    "## Carga dataset"
   ]
  },
  {
   "cell_type": "code",
   "execution_count": 43,
   "metadata": {
    "id": "HQjPIpDngrzx"
   },
   "outputs": [],
   "source": [
    "vital_periodic = pd.read_csv(ruta_datasets+\"vitalPeriodic.csv\")"
   ]
  },
  {
   "cell_type": "code",
   "execution_count": 44,
   "metadata": {
    "colab": {
     "base_uri": "https://localhost:8080/"
    },
    "id": "DlWwOHqWgrzx",
    "outputId": "d7389ec9-0980-4c09-ce4b-759586380be3"
   },
   "outputs": [
    {
     "data": {
      "text/html": [
       "<div>\n",
       "<style scoped>\n",
       "    .dataframe tbody tr th:only-of-type {\n",
       "        vertical-align: middle;\n",
       "    }\n",
       "\n",
       "    .dataframe tbody tr th {\n",
       "        vertical-align: top;\n",
       "    }\n",
       "\n",
       "    .dataframe thead th {\n",
       "        text-align: right;\n",
       "    }\n",
       "</style>\n",
       "<table border=\"1\" class=\"dataframe\">\n",
       "  <thead>\n",
       "    <tr style=\"text-align: right;\">\n",
       "      <th></th>\n",
       "      <th>vitalperiodicid</th>\n",
       "      <th>patientunitstayid</th>\n",
       "      <th>observationoffset</th>\n",
       "      <th>temperature</th>\n",
       "      <th>sao2</th>\n",
       "      <th>heartrate</th>\n",
       "      <th>respiration</th>\n",
       "      <th>cvp</th>\n",
       "      <th>etco2</th>\n",
       "      <th>systemicsystolic</th>\n",
       "      <th>systemicdiastolic</th>\n",
       "      <th>systemicmean</th>\n",
       "      <th>pasystolic</th>\n",
       "      <th>padiastolic</th>\n",
       "      <th>pamean</th>\n",
       "      <th>st1</th>\n",
       "      <th>st2</th>\n",
       "      <th>st3</th>\n",
       "      <th>icp</th>\n",
       "    </tr>\n",
       "  </thead>\n",
       "  <tbody>\n",
       "    <tr>\n",
       "      <th>0</th>\n",
       "      <td>29524122</td>\n",
       "      <td>141765</td>\n",
       "      <td>1179</td>\n",
       "      <td>NaN</td>\n",
       "      <td>NaN</td>\n",
       "      <td>82.0</td>\n",
       "      <td>NaN</td>\n",
       "      <td>NaN</td>\n",
       "      <td>NaN</td>\n",
       "      <td>NaN</td>\n",
       "      <td>NaN</td>\n",
       "      <td>NaN</td>\n",
       "      <td>NaN</td>\n",
       "      <td>NaN</td>\n",
       "      <td>NaN</td>\n",
       "      <td>NaN</td>\n",
       "      <td>NaN</td>\n",
       "      <td>NaN</td>\n",
       "      <td>NaN</td>\n",
       "    </tr>\n",
       "    <tr>\n",
       "      <th>1</th>\n",
       "      <td>29557845</td>\n",
       "      <td>141765</td>\n",
       "      <td>189</td>\n",
       "      <td>NaN</td>\n",
       "      <td>97.0</td>\n",
       "      <td>76.0</td>\n",
       "      <td>30.0</td>\n",
       "      <td>NaN</td>\n",
       "      <td>NaN</td>\n",
       "      <td>NaN</td>\n",
       "      <td>NaN</td>\n",
       "      <td>NaN</td>\n",
       "      <td>NaN</td>\n",
       "      <td>NaN</td>\n",
       "      <td>NaN</td>\n",
       "      <td>NaN</td>\n",
       "      <td>NaN</td>\n",
       "      <td>NaN</td>\n",
       "      <td>NaN</td>\n",
       "    </tr>\n",
       "    <tr>\n",
       "      <th>2</th>\n",
       "      <td>29524442</td>\n",
       "      <td>141765</td>\n",
       "      <td>1169</td>\n",
       "      <td>NaN</td>\n",
       "      <td>NaN</td>\n",
       "      <td>84.0</td>\n",
       "      <td>NaN</td>\n",
       "      <td>NaN</td>\n",
       "      <td>NaN</td>\n",
       "      <td>NaN</td>\n",
       "      <td>NaN</td>\n",
       "      <td>NaN</td>\n",
       "      <td>NaN</td>\n",
       "      <td>NaN</td>\n",
       "      <td>NaN</td>\n",
       "      <td>NaN</td>\n",
       "      <td>NaN</td>\n",
       "      <td>NaN</td>\n",
       "      <td>NaN</td>\n",
       "    </tr>\n",
       "    <tr>\n",
       "      <th>3</th>\n",
       "      <td>29513052</td>\n",
       "      <td>141765</td>\n",
       "      <td>1534</td>\n",
       "      <td>NaN</td>\n",
       "      <td>NaN</td>\n",
       "      <td>92.0</td>\n",
       "      <td>NaN</td>\n",
       "      <td>NaN</td>\n",
       "      <td>NaN</td>\n",
       "      <td>NaN</td>\n",
       "      <td>NaN</td>\n",
       "      <td>NaN</td>\n",
       "      <td>NaN</td>\n",
       "      <td>NaN</td>\n",
       "      <td>NaN</td>\n",
       "      <td>NaN</td>\n",
       "      <td>NaN</td>\n",
       "      <td>NaN</td>\n",
       "      <td>NaN</td>\n",
       "    </tr>\n",
       "    <tr>\n",
       "      <th>4</th>\n",
       "      <td>29524600</td>\n",
       "      <td>141765</td>\n",
       "      <td>1164</td>\n",
       "      <td>NaN</td>\n",
       "      <td>NaN</td>\n",
       "      <td>86.0</td>\n",
       "      <td>NaN</td>\n",
       "      <td>NaN</td>\n",
       "      <td>NaN</td>\n",
       "      <td>NaN</td>\n",
       "      <td>NaN</td>\n",
       "      <td>NaN</td>\n",
       "      <td>NaN</td>\n",
       "      <td>NaN</td>\n",
       "      <td>NaN</td>\n",
       "      <td>NaN</td>\n",
       "      <td>NaN</td>\n",
       "      <td>NaN</td>\n",
       "      <td>NaN</td>\n",
       "    </tr>\n",
       "  </tbody>\n",
       "</table>\n",
       "</div>"
      ],
      "text/plain": [
       "   vitalperiodicid  patientunitstayid  observationoffset  temperature  sao2  \\\n",
       "0         29524122             141765               1179          NaN   NaN   \n",
       "1         29557845             141765                189          NaN  97.0   \n",
       "2         29524442             141765               1169          NaN   NaN   \n",
       "3         29513052             141765               1534          NaN   NaN   \n",
       "4         29524600             141765               1164          NaN   NaN   \n",
       "\n",
       "   heartrate  respiration  cvp  etco2  systemicsystolic  systemicdiastolic  \\\n",
       "0       82.0          NaN  NaN    NaN               NaN                NaN   \n",
       "1       76.0         30.0  NaN    NaN               NaN                NaN   \n",
       "2       84.0          NaN  NaN    NaN               NaN                NaN   \n",
       "3       92.0          NaN  NaN    NaN               NaN                NaN   \n",
       "4       86.0          NaN  NaN    NaN               NaN                NaN   \n",
       "\n",
       "   systemicmean  pasystolic  padiastolic  pamean  st1  st2  st3  icp  \n",
       "0           NaN         NaN          NaN     NaN  NaN  NaN  NaN  NaN  \n",
       "1           NaN         NaN          NaN     NaN  NaN  NaN  NaN  NaN  \n",
       "2           NaN         NaN          NaN     NaN  NaN  NaN  NaN  NaN  \n",
       "3           NaN         NaN          NaN     NaN  NaN  NaN  NaN  NaN  \n",
       "4           NaN         NaN          NaN     NaN  NaN  NaN  NaN  NaN  "
      ]
     },
     "execution_count": 44,
     "metadata": {},
     "output_type": "execute_result"
    }
   ],
   "source": [
    "vital_periodic.head()"
   ]
  },
  {
   "cell_type": "markdown",
   "metadata": {
    "id": "xx01dCC2grzy"
   },
   "source": [
    "## Análisis Previo"
   ]
  },
  {
   "cell_type": "code",
   "execution_count": 45,
   "metadata": {
    "colab": {
     "base_uri": "https://localhost:8080/"
    },
    "id": "loszmM-Hgrzy",
    "outputId": "c5f4475d-e47a-48b3-ded7-f787d3b19032"
   },
   "outputs": [
    {
     "data": {
      "text/plain": [
       "(1634960, 19)"
      ]
     },
     "execution_count": 45,
     "metadata": {},
     "output_type": "execute_result"
    }
   ],
   "source": [
    "vital_periodic.shape"
   ]
  },
  {
   "cell_type": "markdown",
   "metadata": {},
   "source": [
    "Como vemos tenemos medidas muy interesantes y variadas como saturación de oxigeno, pulsaciones por minuto, temperatura...Según hemos leído en diferenes artículos estas medidas suelen tener una correlación alta con la gravedad del paciente, y por tanto, la estancia en la UCI."
   ]
  },
  {
   "cell_type": "code",
   "execution_count": 46,
   "metadata": {
    "colab": {
     "base_uri": "https://localhost:8080/"
    },
    "id": "OPpGmYdcgrzy",
    "outputId": "08992e43-1d09-4c07-b478-217f928d8d8e"
   },
   "outputs": [
    {
     "data": {
      "text/plain": [
       "vitalperiodicid        int64\n",
       "patientunitstayid      int64\n",
       "observationoffset      int64\n",
       "temperature          float64\n",
       "sao2                 float64\n",
       "heartrate            float64\n",
       "respiration          float64\n",
       "cvp                  float64\n",
       "etco2                float64\n",
       "systemicsystolic     float64\n",
       "systemicdiastolic    float64\n",
       "systemicmean         float64\n",
       "pasystolic           float64\n",
       "padiastolic          float64\n",
       "pamean               float64\n",
       "st1                  float64\n",
       "st2                  float64\n",
       "st3                  float64\n",
       "icp                  float64\n",
       "dtype: object"
      ]
     },
     "execution_count": 46,
     "metadata": {},
     "output_type": "execute_result"
    }
   ],
   "source": [
    "vital_periodic.dtypes"
   ]
  },
  {
   "cell_type": "code",
   "execution_count": 47,
   "metadata": {
    "colab": {
     "base_uri": "https://localhost:8080/"
    },
    "id": "hVmNIIDZgrzy",
    "outputId": "92b25664-aef3-40c8-c6c3-34b6696cab3c",
    "scrolled": true
   },
   "outputs": [
    {
     "data": {
      "text/html": [
       "<div>\n",
       "<style scoped>\n",
       "    .dataframe tbody tr th:only-of-type {\n",
       "        vertical-align: middle;\n",
       "    }\n",
       "\n",
       "    .dataframe tbody tr th {\n",
       "        vertical-align: top;\n",
       "    }\n",
       "\n",
       "    .dataframe thead th {\n",
       "        text-align: right;\n",
       "    }\n",
       "</style>\n",
       "<table border=\"1\" class=\"dataframe\">\n",
       "  <thead>\n",
       "    <tr style=\"text-align: right;\">\n",
       "      <th></th>\n",
       "      <th>vitalperiodicid</th>\n",
       "      <th>patientunitstayid</th>\n",
       "      <th>observationoffset</th>\n",
       "      <th>temperature</th>\n",
       "      <th>sao2</th>\n",
       "      <th>heartrate</th>\n",
       "      <th>respiration</th>\n",
       "      <th>cvp</th>\n",
       "      <th>etco2</th>\n",
       "      <th>systemicsystolic</th>\n",
       "      <th>systemicdiastolic</th>\n",
       "      <th>systemicmean</th>\n",
       "      <th>pasystolic</th>\n",
       "      <th>padiastolic</th>\n",
       "      <th>pamean</th>\n",
       "      <th>st1</th>\n",
       "      <th>st2</th>\n",
       "      <th>st3</th>\n",
       "      <th>icp</th>\n",
       "    </tr>\n",
       "  </thead>\n",
       "  <tbody>\n",
       "    <tr>\n",
       "      <th>count</th>\n",
       "      <td>1.634960e+06</td>\n",
       "      <td>1.634960e+06</td>\n",
       "      <td>1.634960e+06</td>\n",
       "      <td>112820.000000</td>\n",
       "      <td>1.441700e+06</td>\n",
       "      <td>1.627894e+06</td>\n",
       "      <td>1.381351e+06</td>\n",
       "      <td>202284.000000</td>\n",
       "      <td>72780.000000</td>\n",
       "      <td>226475.000000</td>\n",
       "      <td>226471.000000</td>\n",
       "      <td>228400.000000</td>\n",
       "      <td>32083.000000</td>\n",
       "      <td>32080.000000</td>\n",
       "      <td>32632.000000</td>\n",
       "      <td>613267.000000</td>\n",
       "      <td>656963.000000</td>\n",
       "      <td>596372.000000</td>\n",
       "      <td>13193.000000</td>\n",
       "    </tr>\n",
       "    <tr>\n",
       "      <th>mean</th>\n",
       "      <td>1.073732e+09</td>\n",
       "      <td>1.763917e+06</td>\n",
       "      <td>5.430636e+03</td>\n",
       "      <td>38.677957</td>\n",
       "      <td>9.645519e+01</td>\n",
       "      <td>8.546431e+01</td>\n",
       "      <td>2.011894e+01</td>\n",
       "      <td>36.530358</td>\n",
       "      <td>29.464427</td>\n",
       "      <td>124.276839</td>\n",
       "      <td>59.338816</td>\n",
       "      <td>80.989046</td>\n",
       "      <td>37.089175</td>\n",
       "      <td>18.766022</td>\n",
       "      <td>26.203205</td>\n",
       "      <td>1.541094</td>\n",
       "      <td>2.990486</td>\n",
       "      <td>3.120847</td>\n",
       "      <td>7.416888</td>\n",
       "    </tr>\n",
       "    <tr>\n",
       "      <th>std</th>\n",
       "      <td>6.632675e+08</td>\n",
       "      <td>1.002795e+06</td>\n",
       "      <td>8.165811e+03</td>\n",
       "      <td>9.780907</td>\n",
       "      <td>4.725472e+00</td>\n",
       "      <td>1.809112e+01</td>\n",
       "      <td>6.694569e+00</td>\n",
       "      <td>77.848130</td>\n",
       "      <td>12.078326</td>\n",
       "      <td>25.743627</td>\n",
       "      <td>15.681670</td>\n",
       "      <td>19.742098</td>\n",
       "      <td>12.357919</td>\n",
       "      <td>8.417253</td>\n",
       "      <td>10.501996</td>\n",
       "      <td>15.407413</td>\n",
       "      <td>28.562166</td>\n",
       "      <td>34.591758</td>\n",
       "      <td>7.095089</td>\n",
       "    </tr>\n",
       "    <tr>\n",
       "      <th>min</th>\n",
       "      <td>7.147800e+04</td>\n",
       "      <td>1.417640e+05</td>\n",
       "      <td>-2.843000e+03</td>\n",
       "      <td>0.500000</td>\n",
       "      <td>0.000000e+00</td>\n",
       "      <td>0.000000e+00</td>\n",
       "      <td>0.000000e+00</td>\n",
       "      <td>-50.000000</td>\n",
       "      <td>0.000000</td>\n",
       "      <td>-44.000000</td>\n",
       "      <td>-76.000000</td>\n",
       "      <td>-45.000000</td>\n",
       "      <td>-1.000000</td>\n",
       "      <td>-7.000000</td>\n",
       "      <td>-6.000000</td>\n",
       "      <td>-12.750000</td>\n",
       "      <td>-12.000000</td>\n",
       "      <td>-12.600000</td>\n",
       "      <td>-23.000000</td>\n",
       "    </tr>\n",
       "    <tr>\n",
       "      <th>25%</th>\n",
       "      <td>5.010690e+08</td>\n",
       "      <td>9.614400e+05</td>\n",
       "      <td>9.970000e+02</td>\n",
       "      <td>36.700000</td>\n",
       "      <td>9.500000e+01</td>\n",
       "      <td>7.200000e+01</td>\n",
       "      <td>1.600000e+01</td>\n",
       "      <td>7.000000</td>\n",
       "      <td>26.000000</td>\n",
       "      <td>107.000000</td>\n",
       "      <td>49.000000</td>\n",
       "      <td>69.000000</td>\n",
       "      <td>29.000000</td>\n",
       "      <td>14.000000</td>\n",
       "      <td>20.000000</td>\n",
       "      <td>-0.200000</td>\n",
       "      <td>-0.300000</td>\n",
       "      <td>-0.200000</td>\n",
       "      <td>4.000000</td>\n",
       "    </tr>\n",
       "    <tr>\n",
       "      <th>50%</th>\n",
       "      <td>1.116957e+09</td>\n",
       "      <td>1.733366e+06</td>\n",
       "      <td>2.506000e+03</td>\n",
       "      <td>37.200000</td>\n",
       "      <td>9.700000e+01</td>\n",
       "      <td>8.400000e+01</td>\n",
       "      <td>1.900000e+01</td>\n",
       "      <td>12.000000</td>\n",
       "      <td>30.000000</td>\n",
       "      <td>122.000000</td>\n",
       "      <td>57.000000</td>\n",
       "      <td>78.000000</td>\n",
       "      <td>35.000000</td>\n",
       "      <td>18.000000</td>\n",
       "      <td>25.000000</td>\n",
       "      <td>0.000000</td>\n",
       "      <td>0.000000</td>\n",
       "      <td>0.000000</td>\n",
       "      <td>8.000000</td>\n",
       "    </tr>\n",
       "    <tr>\n",
       "      <th>75%</th>\n",
       "      <td>1.662587e+09</td>\n",
       "      <td>2.742660e+06</td>\n",
       "      <td>6.129000e+03</td>\n",
       "      <td>37.700000</td>\n",
       "      <td>9.900000e+01</td>\n",
       "      <td>9.700000e+01</td>\n",
       "      <td>2.300000e+01</td>\n",
       "      <td>18.000000</td>\n",
       "      <td>36.000000</td>\n",
       "      <td>140.000000</td>\n",
       "      <td>67.000000</td>\n",
       "      <td>89.000000</td>\n",
       "      <td>44.000000</td>\n",
       "      <td>23.000000</td>\n",
       "      <td>31.000000</td>\n",
       "      <td>0.160000</td>\n",
       "      <td>0.300000</td>\n",
       "      <td>0.200000</td>\n",
       "      <td>11.000000</td>\n",
       "    </tr>\n",
       "    <tr>\n",
       "      <th>max</th>\n",
       "      <td>2.188309e+09</td>\n",
       "      <td>3.353113e+06</td>\n",
       "      <td>6.647300e+04</td>\n",
       "      <td>103.000000</td>\n",
       "      <td>1.000000e+02</td>\n",
       "      <td>2.570000e+02</td>\n",
       "      <td>1.880000e+02</td>\n",
       "      <td>400.000000</td>\n",
       "      <td>194.000000</td>\n",
       "      <td>349.000000</td>\n",
       "      <td>344.000000</td>\n",
       "      <td>353.000000</td>\n",
       "      <td>316.000000</td>\n",
       "      <td>316.000000</td>\n",
       "      <td>316.000000</td>\n",
       "      <td>520.000000</td>\n",
       "      <td>1190.000000</td>\n",
       "      <td>1200.000000</td>\n",
       "      <td>276.000000</td>\n",
       "    </tr>\n",
       "  </tbody>\n",
       "</table>\n",
       "</div>"
      ],
      "text/plain": [
       "       vitalperiodicid  patientunitstayid  observationoffset    temperature  \\\n",
       "count     1.634960e+06       1.634960e+06       1.634960e+06  112820.000000   \n",
       "mean      1.073732e+09       1.763917e+06       5.430636e+03      38.677957   \n",
       "std       6.632675e+08       1.002795e+06       8.165811e+03       9.780907   \n",
       "min       7.147800e+04       1.417640e+05      -2.843000e+03       0.500000   \n",
       "25%       5.010690e+08       9.614400e+05       9.970000e+02      36.700000   \n",
       "50%       1.116957e+09       1.733366e+06       2.506000e+03      37.200000   \n",
       "75%       1.662587e+09       2.742660e+06       6.129000e+03      37.700000   \n",
       "max       2.188309e+09       3.353113e+06       6.647300e+04     103.000000   \n",
       "\n",
       "               sao2     heartrate   respiration            cvp         etco2  \\\n",
       "count  1.441700e+06  1.627894e+06  1.381351e+06  202284.000000  72780.000000   \n",
       "mean   9.645519e+01  8.546431e+01  2.011894e+01      36.530358     29.464427   \n",
       "std    4.725472e+00  1.809112e+01  6.694569e+00      77.848130     12.078326   \n",
       "min    0.000000e+00  0.000000e+00  0.000000e+00     -50.000000      0.000000   \n",
       "25%    9.500000e+01  7.200000e+01  1.600000e+01       7.000000     26.000000   \n",
       "50%    9.700000e+01  8.400000e+01  1.900000e+01      12.000000     30.000000   \n",
       "75%    9.900000e+01  9.700000e+01  2.300000e+01      18.000000     36.000000   \n",
       "max    1.000000e+02  2.570000e+02  1.880000e+02     400.000000    194.000000   \n",
       "\n",
       "       systemicsystolic  systemicdiastolic   systemicmean    pasystolic  \\\n",
       "count     226475.000000      226471.000000  228400.000000  32083.000000   \n",
       "mean         124.276839          59.338816      80.989046     37.089175   \n",
       "std           25.743627          15.681670      19.742098     12.357919   \n",
       "min          -44.000000         -76.000000     -45.000000     -1.000000   \n",
       "25%          107.000000          49.000000      69.000000     29.000000   \n",
       "50%          122.000000          57.000000      78.000000     35.000000   \n",
       "75%          140.000000          67.000000      89.000000     44.000000   \n",
       "max          349.000000         344.000000     353.000000    316.000000   \n",
       "\n",
       "        padiastolic        pamean            st1            st2  \\\n",
       "count  32080.000000  32632.000000  613267.000000  656963.000000   \n",
       "mean      18.766022     26.203205       1.541094       2.990486   \n",
       "std        8.417253     10.501996      15.407413      28.562166   \n",
       "min       -7.000000     -6.000000     -12.750000     -12.000000   \n",
       "25%       14.000000     20.000000      -0.200000      -0.300000   \n",
       "50%       18.000000     25.000000       0.000000       0.000000   \n",
       "75%       23.000000     31.000000       0.160000       0.300000   \n",
       "max      316.000000    316.000000     520.000000    1190.000000   \n",
       "\n",
       "                 st3           icp  \n",
       "count  596372.000000  13193.000000  \n",
       "mean        3.120847      7.416888  \n",
       "std        34.591758      7.095089  \n",
       "min       -12.600000    -23.000000  \n",
       "25%        -0.200000      4.000000  \n",
       "50%         0.000000      8.000000  \n",
       "75%         0.200000     11.000000  \n",
       "max      1200.000000    276.000000  "
      ]
     },
     "execution_count": 47,
     "metadata": {},
     "output_type": "execute_result"
    }
   ],
   "source": [
    "vital_periodic.describe()"
   ]
  },
  {
   "cell_type": "markdown",
   "metadata": {},
   "source": [
    "Como vemos en la siguiente instrucción tenemos varias características con un porcentaje de valores nulos por encima del 60%, por tanto, hemos decidido quedarnos con las siguientes variables:\n",
    "- Sao2 = saturación de oxígeno\n",
    "- Heartrate = pulsaciones\n",
    "- Respiration = respiración asistida"
   ]
  },
  {
   "cell_type": "code",
   "execution_count": 48,
   "metadata": {
    "colab": {
     "base_uri": "https://localhost:8080/"
    },
    "id": "A3Xz4Pqrgrzz",
    "outputId": "9625480f-866c-4718-b59a-829b44c4b17e"
   },
   "outputs": [
    {
     "data": {
      "text/plain": [
       "vitalperiodicid      0.000000\n",
       "patientunitstayid    0.000000\n",
       "observationoffset    0.000000\n",
       "temperature          0.930995\n",
       "sao2                 0.118205\n",
       "heartrate            0.004322\n",
       "respiration          0.155116\n",
       "cvp                  0.876276\n",
       "etco2                0.955485\n",
       "systemicsystolic     0.861480\n",
       "systemicdiastolic    0.861482\n",
       "systemicmean         0.860302\n",
       "pasystolic           0.980377\n",
       "padiastolic          0.980379\n",
       "pamean               0.980041\n",
       "st1                  0.624904\n",
       "st2                  0.598178\n",
       "st3                  0.635238\n",
       "icp                  0.991931\n",
       "dtype: float64"
      ]
     },
     "execution_count": 48,
     "metadata": {},
     "output_type": "execute_result"
    }
   ],
   "source": [
    "vital_periodic.isnull().sum() / vital_periodic.shape[0]"
   ]
  },
  {
   "cell_type": "code",
   "execution_count": 49,
   "metadata": {
    "id": "WN7UxEN-grzz"
   },
   "outputs": [],
   "source": [
    "for col in vital_periodic.columns[vital_periodic.dtypes==object]:\n",
    "    display((vital_periodic.groupby([col]).size()/vital_periodic.shape[0]).reset_index(name='counts'))"
   ]
  },
  {
   "cell_type": "markdown",
   "metadata": {
    "id": "lmN_c-u7g-Xr"
   },
   "source": [
    "## Tratamiento de Features"
   ]
  },
  {
   "cell_type": "code",
   "execution_count": 50,
   "metadata": {
    "id": "G9XOXZMIgdVm"
   },
   "outputs": [],
   "source": [
    "vital_periodic = vital_periodic[['vitalperiodicid', 'patientunitstayid', 'sao2', 'heartrate', 'respiration']]"
   ]
  },
  {
   "cell_type": "code",
   "execution_count": 51,
   "metadata": {
    "colab": {
     "base_uri": "https://localhost:8080/"
    },
    "id": "2GLF-wBchYBn",
    "outputId": "60c2e1cf-0efa-4e0c-ee60-e9febfa076ca"
   },
   "outputs": [
    {
     "data": {
      "text/plain": [
       "(1634960, 5)"
      ]
     },
     "execution_count": 51,
     "metadata": {},
     "output_type": "execute_result"
    }
   ],
   "source": [
    "vital_periodic.shape"
   ]
  },
  {
   "cell_type": "markdown",
   "metadata": {},
   "source": [
    "Como hemos comentado anteiormente solo nos hemos quedado con 3 características por la cantidad de valores nulos, pero eso no quita, que las elegidas también tuvieran valores nulos. Lo que hemos hecho para tratar estos valores nulos es sustituirlos por el valor medio de ese valor para cada paciente, es decir, no el valor medio total, sino con respecto al nivel paciente."
   ]
  },
  {
   "cell_type": "code",
   "execution_count": 52,
   "metadata": {
    "id": "Fr2mRPtThYaY"
   },
   "outputs": [],
   "source": [
    "vital_periodic.fillna(vital_periodic.groupby('patientunitstayid').transform('mean'), inplace=True)"
   ]
  },
  {
   "cell_type": "markdown",
   "metadata": {},
   "source": [
    "Por último, preparamos los datos para unirlos con el dataset de Pacientes. En este caso debido a nuestro limitaod conocimiento médico hemos optados por curarnos en salud y sacar de cada característica el valor mínimo, medio y máximo de cada paciente durante su estancia en la UCI."
   ]
  },
  {
   "cell_type": "code",
   "execution_count": 53,
   "metadata": {
    "id": "gGWB6yrDjiaQ"
   },
   "outputs": [],
   "source": [
    "patient_vital_periodic = vital_periodic.groupby('patientunitstayid').agg({'sao2': ['min', 'max', 'mean'],\n",
    "                                                          'heartrate': ['min', 'max', 'mean'],\n",
    "                                                          'respiration': ['min', 'max', 'mean']})"
   ]
  },
  {
   "cell_type": "code",
   "execution_count": 54,
   "metadata": {
    "colab": {
     "base_uri": "https://localhost:8080/"
    },
    "id": "0pd3ghnZjplG",
    "outputId": "dd67a4c6-b686-47c1-aa0e-c1b42a79ba07"
   },
   "outputs": [
    {
     "data": {
      "text/html": [
       "<div>\n",
       "<style scoped>\n",
       "    .dataframe tbody tr th:only-of-type {\n",
       "        vertical-align: middle;\n",
       "    }\n",
       "\n",
       "    .dataframe tbody tr th {\n",
       "        vertical-align: top;\n",
       "    }\n",
       "\n",
       "    .dataframe thead th {\n",
       "        text-align: right;\n",
       "    }\n",
       "</style>\n",
       "<table border=\"1\" class=\"dataframe\">\n",
       "  <thead>\n",
       "    <tr style=\"text-align: right;\">\n",
       "      <th></th>\n",
       "      <th>sao2_min</th>\n",
       "      <th>sao2_max</th>\n",
       "      <th>sao2_mean</th>\n",
       "      <th>heartrate_min</th>\n",
       "      <th>heartrate_max</th>\n",
       "      <th>heartrate_mean</th>\n",
       "      <th>respiration_min</th>\n",
       "      <th>respiration_max</th>\n",
       "      <th>respiration_mean</th>\n",
       "    </tr>\n",
       "    <tr>\n",
       "      <th>patientunitstayid</th>\n",
       "      <th></th>\n",
       "      <th></th>\n",
       "      <th></th>\n",
       "      <th></th>\n",
       "      <th></th>\n",
       "      <th></th>\n",
       "      <th></th>\n",
       "      <th></th>\n",
       "      <th></th>\n",
       "    </tr>\n",
       "  </thead>\n",
       "  <tbody>\n",
       "    <tr>\n",
       "      <th>141764</th>\n",
       "      <td>NaN</td>\n",
       "      <td>NaN</td>\n",
       "      <td>NaN</td>\n",
       "      <td>90.0</td>\n",
       "      <td>138.0</td>\n",
       "      <td>106.652174</td>\n",
       "      <td>NaN</td>\n",
       "      <td>NaN</td>\n",
       "      <td>NaN</td>\n",
       "    </tr>\n",
       "    <tr>\n",
       "      <th>141765</th>\n",
       "      <td>95.0</td>\n",
       "      <td>98.0</td>\n",
       "      <td>96.611374</td>\n",
       "      <td>72.0</td>\n",
       "      <td>138.0</td>\n",
       "      <td>87.017817</td>\n",
       "      <td>17.0</td>\n",
       "      <td>39.0</td>\n",
       "      <td>24.782609</td>\n",
       "    </tr>\n",
       "    <tr>\n",
       "      <th>143870</th>\n",
       "      <td>80.0</td>\n",
       "      <td>100.0</td>\n",
       "      <td>96.284810</td>\n",
       "      <td>40.0</td>\n",
       "      <td>55.0</td>\n",
       "      <td>45.449367</td>\n",
       "      <td>45.0</td>\n",
       "      <td>86.0</td>\n",
       "      <td>67.031646</td>\n",
       "    </tr>\n",
       "    <tr>\n",
       "      <th>144815</th>\n",
       "      <td>96.0</td>\n",
       "      <td>100.0</td>\n",
       "      <td>98.630682</td>\n",
       "      <td>68.0</td>\n",
       "      <td>118.0</td>\n",
       "      <td>83.800000</td>\n",
       "      <td>6.0</td>\n",
       "      <td>42.0</td>\n",
       "      <td>16.927273</td>\n",
       "    </tr>\n",
       "    <tr>\n",
       "      <th>145427</th>\n",
       "      <td>89.0</td>\n",
       "      <td>100.0</td>\n",
       "      <td>95.761905</td>\n",
       "      <td>49.0</td>\n",
       "      <td>85.0</td>\n",
       "      <td>65.457983</td>\n",
       "      <td>5.0</td>\n",
       "      <td>41.0</td>\n",
       "      <td>16.349206</td>\n",
       "    </tr>\n",
       "  </tbody>\n",
       "</table>\n",
       "</div>"
      ],
      "text/plain": [
       "                   sao2_min  sao2_max  sao2_mean  heartrate_min  \\\n",
       "patientunitstayid                                                 \n",
       "141764                  NaN       NaN        NaN           90.0   \n",
       "141765                 95.0      98.0  96.611374           72.0   \n",
       "143870                 80.0     100.0  96.284810           40.0   \n",
       "144815                 96.0     100.0  98.630682           68.0   \n",
       "145427                 89.0     100.0  95.761905           49.0   \n",
       "\n",
       "                   heartrate_max  heartrate_mean  respiration_min  \\\n",
       "patientunitstayid                                                   \n",
       "141764                     138.0      106.652174              NaN   \n",
       "141765                     138.0       87.017817             17.0   \n",
       "143870                      55.0       45.449367             45.0   \n",
       "144815                     118.0       83.800000              6.0   \n",
       "145427                      85.0       65.457983              5.0   \n",
       "\n",
       "                   respiration_max  respiration_mean  \n",
       "patientunitstayid                                     \n",
       "141764                         NaN               NaN  \n",
       "141765                        39.0         24.782609  \n",
       "143870                        86.0         67.031646  \n",
       "144815                        42.0         16.927273  \n",
       "145427                        41.0         16.349206  "
      ]
     },
     "execution_count": 54,
     "metadata": {},
     "output_type": "execute_result"
    }
   ],
   "source": [
    "patient_vital_periodic.columns = ['_'.join(col).strip() for col in patient_vital_periodic.columns.values]\n",
    "patient_vital_periodic.head()"
   ]
  },
  {
   "cell_type": "code",
   "execution_count": 55,
   "metadata": {
    "colab": {
     "base_uri": "https://localhost:8080/"
    },
    "id": "KtQveFFmjsVi",
    "outputId": "697b1b5d-fdce-4485-d35d-3e0d7448b092"
   },
   "outputs": [
    {
     "data": {
      "text/plain": [
       "sao2_min             81.293562\n",
       "sao2_max             99.474249\n",
       "sao2_mean            96.165080\n",
       "heartrate_min        62.310491\n",
       "heartrate_max       112.738579\n",
       "heartrate_mean       83.728775\n",
       "respiration_min       8.898705\n",
       "respiration_max      36.060130\n",
       "respiration_mean     19.628618\n",
       "dtype: float64"
      ]
     },
     "execution_count": 55,
     "metadata": {},
     "output_type": "execute_result"
    }
   ],
   "source": [
    "mean_values = patient_vital_periodic.mean()\n",
    "mean_values"
   ]
  },
  {
   "cell_type": "code",
   "execution_count": 56,
   "metadata": {
    "colab": {
     "base_uri": "https://localhost:8080/"
    },
    "id": "k7sVS1fdkqUz",
    "outputId": "82ddc66e-743b-4b62-dcfe-33e14ad5b60c"
   },
   "outputs": [
    {
     "data": {
      "text/html": [
       "<div>\n",
       "<style scoped>\n",
       "    .dataframe tbody tr th:only-of-type {\n",
       "        vertical-align: middle;\n",
       "    }\n",
       "\n",
       "    .dataframe tbody tr th {\n",
       "        vertical-align: top;\n",
       "    }\n",
       "\n",
       "    .dataframe thead th {\n",
       "        text-align: right;\n",
       "    }\n",
       "</style>\n",
       "<table border=\"1\" class=\"dataframe\">\n",
       "  <thead>\n",
       "    <tr style=\"text-align: right;\">\n",
       "      <th></th>\n",
       "      <th>sao2_min</th>\n",
       "      <th>sao2_max</th>\n",
       "      <th>sao2_mean</th>\n",
       "      <th>heartrate_min</th>\n",
       "      <th>heartrate_max</th>\n",
       "      <th>heartrate_mean</th>\n",
       "      <th>respiration_min</th>\n",
       "      <th>respiration_max</th>\n",
       "      <th>respiration_mean</th>\n",
       "    </tr>\n",
       "    <tr>\n",
       "      <th>patientunitstayid</th>\n",
       "      <th></th>\n",
       "      <th></th>\n",
       "      <th></th>\n",
       "      <th></th>\n",
       "      <th></th>\n",
       "      <th></th>\n",
       "      <th></th>\n",
       "      <th></th>\n",
       "      <th></th>\n",
       "    </tr>\n",
       "  </thead>\n",
       "  <tbody>\n",
       "    <tr>\n",
       "      <th>141764</th>\n",
       "      <td>81.293562</td>\n",
       "      <td>99.474249</td>\n",
       "      <td>96.165080</td>\n",
       "      <td>90.0</td>\n",
       "      <td>138.0</td>\n",
       "      <td>106.652174</td>\n",
       "      <td>8.898705</td>\n",
       "      <td>36.06013</td>\n",
       "      <td>19.628618</td>\n",
       "    </tr>\n",
       "    <tr>\n",
       "      <th>141765</th>\n",
       "      <td>95.000000</td>\n",
       "      <td>98.000000</td>\n",
       "      <td>96.611374</td>\n",
       "      <td>72.0</td>\n",
       "      <td>138.0</td>\n",
       "      <td>87.017817</td>\n",
       "      <td>17.000000</td>\n",
       "      <td>39.00000</td>\n",
       "      <td>24.782609</td>\n",
       "    </tr>\n",
       "    <tr>\n",
       "      <th>143870</th>\n",
       "      <td>80.000000</td>\n",
       "      <td>100.000000</td>\n",
       "      <td>96.284810</td>\n",
       "      <td>40.0</td>\n",
       "      <td>55.0</td>\n",
       "      <td>45.449367</td>\n",
       "      <td>45.000000</td>\n",
       "      <td>86.00000</td>\n",
       "      <td>67.031646</td>\n",
       "    </tr>\n",
       "    <tr>\n",
       "      <th>144815</th>\n",
       "      <td>96.000000</td>\n",
       "      <td>100.000000</td>\n",
       "      <td>98.630682</td>\n",
       "      <td>68.0</td>\n",
       "      <td>118.0</td>\n",
       "      <td>83.800000</td>\n",
       "      <td>6.000000</td>\n",
       "      <td>42.00000</td>\n",
       "      <td>16.927273</td>\n",
       "    </tr>\n",
       "    <tr>\n",
       "      <th>145427</th>\n",
       "      <td>89.000000</td>\n",
       "      <td>100.000000</td>\n",
       "      <td>95.761905</td>\n",
       "      <td>49.0</td>\n",
       "      <td>85.0</td>\n",
       "      <td>65.457983</td>\n",
       "      <td>5.000000</td>\n",
       "      <td>41.00000</td>\n",
       "      <td>16.349206</td>\n",
       "    </tr>\n",
       "  </tbody>\n",
       "</table>\n",
       "</div>"
      ],
      "text/plain": [
       "                    sao2_min    sao2_max  sao2_mean  heartrate_min  \\\n",
       "patientunitstayid                                                    \n",
       "141764             81.293562   99.474249  96.165080           90.0   \n",
       "141765             95.000000   98.000000  96.611374           72.0   \n",
       "143870             80.000000  100.000000  96.284810           40.0   \n",
       "144815             96.000000  100.000000  98.630682           68.0   \n",
       "145427             89.000000  100.000000  95.761905           49.0   \n",
       "\n",
       "                   heartrate_max  heartrate_mean  respiration_min  \\\n",
       "patientunitstayid                                                   \n",
       "141764                     138.0      106.652174         8.898705   \n",
       "141765                     138.0       87.017817        17.000000   \n",
       "143870                      55.0       45.449367        45.000000   \n",
       "144815                     118.0       83.800000         6.000000   \n",
       "145427                      85.0       65.457983         5.000000   \n",
       "\n",
       "                   respiration_max  respiration_mean  \n",
       "patientunitstayid                                     \n",
       "141764                    36.06013         19.628618  \n",
       "141765                    39.00000         24.782609  \n",
       "143870                    86.00000         67.031646  \n",
       "144815                    42.00000         16.927273  \n",
       "145427                    41.00000         16.349206  "
      ]
     },
     "execution_count": 56,
     "metadata": {},
     "output_type": "execute_result"
    }
   ],
   "source": [
    "patient_vital_periodic.fillna(mean_values, inplace=True)\n",
    "patient_vital_periodic.head()"
   ]
  },
  {
   "cell_type": "markdown",
   "metadata": {
    "id": "GyN0IfUbleBh"
   },
   "source": [
    "# Hospital Dataset\n",
    "\n",
    "El siguiente dataset utilizado es el que posee información de cada hospital: número de camas, región, estado. Creemos importannte señalar en que hospital ha estado cada paciente, porque se puede dar la posibilidad de que cada hospital tenga una política de procedimiento UCI diferente."
   ]
  },
  {
   "cell_type": "markdown",
   "metadata": {
    "id": "VFGFmDmBli57"
   },
   "source": [
    "## Carga dataset"
   ]
  },
  {
   "cell_type": "code",
   "execution_count": 57,
   "metadata": {
    "id": "NGYzCHPFli57"
   },
   "outputs": [],
   "source": [
    "hospital = pd.read_csv(ruta_datasets+\"hospital.csv\")"
   ]
  },
  {
   "cell_type": "code",
   "execution_count": 58,
   "metadata": {
    "colab": {
     "base_uri": "https://localhost:8080/"
    },
    "id": "VhySBEeqli57",
    "outputId": "a90c0ea2-d5a4-4a87-94ce-f8fc9f7b1288"
   },
   "outputs": [
    {
     "data": {
      "text/html": [
       "<div>\n",
       "<style scoped>\n",
       "    .dataframe tbody tr th:only-of-type {\n",
       "        vertical-align: middle;\n",
       "    }\n",
       "\n",
       "    .dataframe tbody tr th {\n",
       "        vertical-align: top;\n",
       "    }\n",
       "\n",
       "    .dataframe thead th {\n",
       "        text-align: right;\n",
       "    }\n",
       "</style>\n",
       "<table border=\"1\" class=\"dataframe\">\n",
       "  <thead>\n",
       "    <tr style=\"text-align: right;\">\n",
       "      <th></th>\n",
       "      <th>hospitalid</th>\n",
       "      <th>numbedscategory</th>\n",
       "      <th>teachingstatus</th>\n",
       "      <th>region</th>\n",
       "    </tr>\n",
       "  </thead>\n",
       "  <tbody>\n",
       "    <tr>\n",
       "      <th>0</th>\n",
       "      <td>56</td>\n",
       "      <td>&lt;100</td>\n",
       "      <td>f</td>\n",
       "      <td>Midwest</td>\n",
       "    </tr>\n",
       "    <tr>\n",
       "      <th>1</th>\n",
       "      <td>58</td>\n",
       "      <td>100 - 249</td>\n",
       "      <td>f</td>\n",
       "      <td>Midwest</td>\n",
       "    </tr>\n",
       "    <tr>\n",
       "      <th>2</th>\n",
       "      <td>59</td>\n",
       "      <td>&lt;100</td>\n",
       "      <td>f</td>\n",
       "      <td>Midwest</td>\n",
       "    </tr>\n",
       "    <tr>\n",
       "      <th>3</th>\n",
       "      <td>60</td>\n",
       "      <td>&lt;100</td>\n",
       "      <td>f</td>\n",
       "      <td>Midwest</td>\n",
       "    </tr>\n",
       "    <tr>\n",
       "      <th>4</th>\n",
       "      <td>61</td>\n",
       "      <td>&lt;100</td>\n",
       "      <td>f</td>\n",
       "      <td>Midwest</td>\n",
       "    </tr>\n",
       "  </tbody>\n",
       "</table>\n",
       "</div>"
      ],
      "text/plain": [
       "   hospitalid numbedscategory teachingstatus   region\n",
       "0          56            <100              f  Midwest\n",
       "1          58       100 - 249              f  Midwest\n",
       "2          59            <100              f  Midwest\n",
       "3          60            <100              f  Midwest\n",
       "4          61            <100              f  Midwest"
      ]
     },
     "execution_count": 58,
     "metadata": {},
     "output_type": "execute_result"
    }
   ],
   "source": [
    "hospital.head()"
   ]
  },
  {
   "cell_type": "markdown",
   "metadata": {
    "id": "0_QNGCEcli58"
   },
   "source": [
    "## Análisis Previo"
   ]
  },
  {
   "cell_type": "code",
   "execution_count": 59,
   "metadata": {
    "colab": {
     "base_uri": "https://localhost:8080/"
    },
    "id": "hOJWty46li58",
    "outputId": "b7403fb7-7c52-472e-b1e6-b264a248582e"
   },
   "outputs": [
    {
     "data": {
      "text/plain": [
       "(186, 4)"
      ]
     },
     "execution_count": 59,
     "metadata": {},
     "output_type": "execute_result"
    }
   ],
   "source": [
    "hospital.shape"
   ]
  },
  {
   "cell_type": "code",
   "execution_count": 60,
   "metadata": {
    "colab": {
     "base_uri": "https://localhost:8080/"
    },
    "id": "CMltmeV7li58",
    "outputId": "4fb7f68a-5b45-4ae6-9088-2e23c8451697"
   },
   "outputs": [
    {
     "data": {
      "text/plain": [
       "hospitalid          int64\n",
       "numbedscategory    object\n",
       "teachingstatus     object\n",
       "region             object\n",
       "dtype: object"
      ]
     },
     "execution_count": 60,
     "metadata": {},
     "output_type": "execute_result"
    }
   ],
   "source": [
    "hospital.dtypes"
   ]
  },
  {
   "cell_type": "code",
   "execution_count": 61,
   "metadata": {
    "colab": {
     "base_uri": "https://localhost:8080/"
    },
    "id": "2QoHvdrOli58",
    "outputId": "5b84d5e1-0b8f-4dbb-ae30-f46f222a220f"
   },
   "outputs": [
    {
     "data": {
      "text/html": [
       "<div>\n",
       "<style scoped>\n",
       "    .dataframe tbody tr th:only-of-type {\n",
       "        vertical-align: middle;\n",
       "    }\n",
       "\n",
       "    .dataframe tbody tr th {\n",
       "        vertical-align: top;\n",
       "    }\n",
       "\n",
       "    .dataframe thead th {\n",
       "        text-align: right;\n",
       "    }\n",
       "</style>\n",
       "<table border=\"1\" class=\"dataframe\">\n",
       "  <thead>\n",
       "    <tr style=\"text-align: right;\">\n",
       "      <th></th>\n",
       "      <th>hospitalid</th>\n",
       "    </tr>\n",
       "  </thead>\n",
       "  <tbody>\n",
       "    <tr>\n",
       "      <th>count</th>\n",
       "      <td>186.000000</td>\n",
       "    </tr>\n",
       "    <tr>\n",
       "      <th>mean</th>\n",
       "      <td>269.483871</td>\n",
       "    </tr>\n",
       "    <tr>\n",
       "      <th>std</th>\n",
       "      <td>118.084588</td>\n",
       "    </tr>\n",
       "    <tr>\n",
       "      <th>min</th>\n",
       "      <td>56.000000</td>\n",
       "    </tr>\n",
       "    <tr>\n",
       "      <th>25%</th>\n",
       "      <td>176.750000</td>\n",
       "    </tr>\n",
       "    <tr>\n",
       "      <th>50%</th>\n",
       "      <td>263.500000</td>\n",
       "    </tr>\n",
       "    <tr>\n",
       "      <th>75%</th>\n",
       "      <td>387.750000</td>\n",
       "    </tr>\n",
       "    <tr>\n",
       "      <th>max</th>\n",
       "      <td>459.000000</td>\n",
       "    </tr>\n",
       "  </tbody>\n",
       "</table>\n",
       "</div>"
      ],
      "text/plain": [
       "       hospitalid\n",
       "count  186.000000\n",
       "mean   269.483871\n",
       "std    118.084588\n",
       "min     56.000000\n",
       "25%    176.750000\n",
       "50%    263.500000\n",
       "75%    387.750000\n",
       "max    459.000000"
      ]
     },
     "execution_count": 61,
     "metadata": {},
     "output_type": "execute_result"
    }
   ],
   "source": [
    "hospital.describe()"
   ]
  },
  {
   "cell_type": "code",
   "execution_count": 62,
   "metadata": {
    "colab": {
     "base_uri": "https://localhost:8080/"
    },
    "id": "3Gv5_kc6lsih",
    "outputId": "2eb236bd-489b-4c6f-c9f0-29a726324b5e"
   },
   "outputs": [
    {
     "data": {
      "text/html": [
       "<div>\n",
       "<style scoped>\n",
       "    .dataframe tbody tr th:only-of-type {\n",
       "        vertical-align: middle;\n",
       "    }\n",
       "\n",
       "    .dataframe tbody tr th {\n",
       "        vertical-align: top;\n",
       "    }\n",
       "\n",
       "    .dataframe thead th {\n",
       "        text-align: right;\n",
       "    }\n",
       "</style>\n",
       "<table border=\"1\" class=\"dataframe\">\n",
       "  <thead>\n",
       "    <tr style=\"text-align: right;\">\n",
       "      <th></th>\n",
       "      <th>numbedscategory</th>\n",
       "      <th>teachingstatus</th>\n",
       "      <th>region</th>\n",
       "    </tr>\n",
       "  </thead>\n",
       "  <tbody>\n",
       "    <tr>\n",
       "      <th>count</th>\n",
       "      <td>158</td>\n",
       "      <td>186</td>\n",
       "      <td>168</td>\n",
       "    </tr>\n",
       "    <tr>\n",
       "      <th>unique</th>\n",
       "      <td>4</td>\n",
       "      <td>2</td>\n",
       "      <td>4</td>\n",
       "    </tr>\n",
       "    <tr>\n",
       "      <th>top</th>\n",
       "      <td>100 - 249</td>\n",
       "      <td>f</td>\n",
       "      <td>Midwest</td>\n",
       "    </tr>\n",
       "    <tr>\n",
       "      <th>freq</th>\n",
       "      <td>61</td>\n",
       "      <td>168</td>\n",
       "      <td>62</td>\n",
       "    </tr>\n",
       "  </tbody>\n",
       "</table>\n",
       "</div>"
      ],
      "text/plain": [
       "       numbedscategory teachingstatus   region\n",
       "count              158            186      168\n",
       "unique               4              2        4\n",
       "top          100 - 249              f  Midwest\n",
       "freq                61            168       62"
      ]
     },
     "execution_count": 62,
     "metadata": {},
     "output_type": "execute_result"
    }
   ],
   "source": [
    "hospital.describe(exclude=[np.number])  "
   ]
  },
  {
   "cell_type": "code",
   "execution_count": 63,
   "metadata": {
    "colab": {
     "base_uri": "https://localhost:8080/"
    },
    "id": "RbniF5rili59",
    "outputId": "3d3fb0bc-3a23-4db9-e041-3ff719d98381"
   },
   "outputs": [
    {
     "data": {
      "text/plain": [
       "hospitalid         0.000000\n",
       "numbedscategory    0.150538\n",
       "teachingstatus     0.000000\n",
       "region             0.096774\n",
       "dtype: float64"
      ]
     },
     "execution_count": 63,
     "metadata": {},
     "output_type": "execute_result"
    }
   ],
   "source": [
    "hospital.isnull().sum() / hospital.shape[0]"
   ]
  },
  {
   "cell_type": "markdown",
   "metadata": {},
   "source": [
    "Como se puede observar en este análisis el número de camas no se establece por un número fijo, sino por categorías ordindales de capacidad, donde lo más común es que un hotel tenga de 100-249 camas dedicadas a UCI."
   ]
  },
  {
   "cell_type": "code",
   "execution_count": 64,
   "metadata": {
    "colab": {
     "base_uri": "https://localhost:8080/"
    },
    "id": "8oKjfLsjli59",
    "outputId": "b2b576a6-1a41-490c-a2ae-0a906592f950"
   },
   "outputs": [
    {
     "data": {
      "text/html": [
       "<div>\n",
       "<style scoped>\n",
       "    .dataframe tbody tr th:only-of-type {\n",
       "        vertical-align: middle;\n",
       "    }\n",
       "\n",
       "    .dataframe tbody tr th {\n",
       "        vertical-align: top;\n",
       "    }\n",
       "\n",
       "    .dataframe thead th {\n",
       "        text-align: right;\n",
       "    }\n",
       "</style>\n",
       "<table border=\"1\" class=\"dataframe\">\n",
       "  <thead>\n",
       "    <tr style=\"text-align: right;\">\n",
       "      <th></th>\n",
       "      <th>numbedscategory</th>\n",
       "      <th>counts</th>\n",
       "    </tr>\n",
       "  </thead>\n",
       "  <tbody>\n",
       "    <tr>\n",
       "      <th>0</th>\n",
       "      <td>100 - 249</td>\n",
       "      <td>0.327957</td>\n",
       "    </tr>\n",
       "    <tr>\n",
       "      <th>1</th>\n",
       "      <td>250 - 499</td>\n",
       "      <td>0.188172</td>\n",
       "    </tr>\n",
       "    <tr>\n",
       "      <th>2</th>\n",
       "      <td>&lt;100</td>\n",
       "      <td>0.209677</td>\n",
       "    </tr>\n",
       "    <tr>\n",
       "      <th>3</th>\n",
       "      <td>&gt;= 500</td>\n",
       "      <td>0.123656</td>\n",
       "    </tr>\n",
       "  </tbody>\n",
       "</table>\n",
       "</div>"
      ],
      "text/plain": [
       "  numbedscategory    counts\n",
       "0       100 - 249  0.327957\n",
       "1       250 - 499  0.188172\n",
       "2            <100  0.209677\n",
       "3          >= 500  0.123656"
      ]
     },
     "metadata": {},
     "output_type": "display_data"
    },
    {
     "data": {
      "text/html": [
       "<div>\n",
       "<style scoped>\n",
       "    .dataframe tbody tr th:only-of-type {\n",
       "        vertical-align: middle;\n",
       "    }\n",
       "\n",
       "    .dataframe tbody tr th {\n",
       "        vertical-align: top;\n",
       "    }\n",
       "\n",
       "    .dataframe thead th {\n",
       "        text-align: right;\n",
       "    }\n",
       "</style>\n",
       "<table border=\"1\" class=\"dataframe\">\n",
       "  <thead>\n",
       "    <tr style=\"text-align: right;\">\n",
       "      <th></th>\n",
       "      <th>teachingstatus</th>\n",
       "      <th>counts</th>\n",
       "    </tr>\n",
       "  </thead>\n",
       "  <tbody>\n",
       "    <tr>\n",
       "      <th>0</th>\n",
       "      <td>f</td>\n",
       "      <td>0.903226</td>\n",
       "    </tr>\n",
       "    <tr>\n",
       "      <th>1</th>\n",
       "      <td>t</td>\n",
       "      <td>0.096774</td>\n",
       "    </tr>\n",
       "  </tbody>\n",
       "</table>\n",
       "</div>"
      ],
      "text/plain": [
       "  teachingstatus    counts\n",
       "0              f  0.903226\n",
       "1              t  0.096774"
      ]
     },
     "metadata": {},
     "output_type": "display_data"
    },
    {
     "data": {
      "text/html": [
       "<div>\n",
       "<style scoped>\n",
       "    .dataframe tbody tr th:only-of-type {\n",
       "        vertical-align: middle;\n",
       "    }\n",
       "\n",
       "    .dataframe tbody tr th {\n",
       "        vertical-align: top;\n",
       "    }\n",
       "\n",
       "    .dataframe thead th {\n",
       "        text-align: right;\n",
       "    }\n",
       "</style>\n",
       "<table border=\"1\" class=\"dataframe\">\n",
       "  <thead>\n",
       "    <tr style=\"text-align: right;\">\n",
       "      <th></th>\n",
       "      <th>region</th>\n",
       "      <th>counts</th>\n",
       "    </tr>\n",
       "  </thead>\n",
       "  <tbody>\n",
       "    <tr>\n",
       "      <th>0</th>\n",
       "      <td>Midwest</td>\n",
       "      <td>0.333333</td>\n",
       "    </tr>\n",
       "    <tr>\n",
       "      <th>1</th>\n",
       "      <td>Northeast</td>\n",
       "      <td>0.069892</td>\n",
       "    </tr>\n",
       "    <tr>\n",
       "      <th>2</th>\n",
       "      <td>South</td>\n",
       "      <td>0.290323</td>\n",
       "    </tr>\n",
       "    <tr>\n",
       "      <th>3</th>\n",
       "      <td>West</td>\n",
       "      <td>0.209677</td>\n",
       "    </tr>\n",
       "  </tbody>\n",
       "</table>\n",
       "</div>"
      ],
      "text/plain": [
       "      region    counts\n",
       "0    Midwest  0.333333\n",
       "1  Northeast  0.069892\n",
       "2      South  0.290323\n",
       "3       West  0.209677"
      ]
     },
     "metadata": {},
     "output_type": "display_data"
    }
   ],
   "source": [
    "for col in hospital.columns[hospital.dtypes==object]:\n",
    "    display((hospital.groupby([col]).size()/hospital.shape[0]).reset_index(name='counts'))"
   ]
  },
  {
   "cell_type": "markdown",
   "metadata": {
    "id": "3cSVIPfbl6ud"
   },
   "source": [
    "## Tratamiento Features\n",
    "Para preparar los datos para la unión con el dataset de Pacientes hemos elegido el ID del hospital y el número de camas, es decir, la capacidad. Hemos sustituido los valores nulos de la segunda por el valor más frecuente(moda) y sustituir las categorías por un valor númerico que pueda entender el modelo de ML, y que vaya en orden de mayor a menor según la capacidad de cada hospital."
   ]
  },
  {
   "cell_type": "code",
   "execution_count": 65,
   "metadata": {
    "id": "YdidMhRJlhg5"
   },
   "outputs": [],
   "source": [
    "hospital = hospital[['hospitalid', 'numbedscategory']]"
   ]
  },
  {
   "cell_type": "code",
   "execution_count": 66,
   "metadata": {
    "colab": {
     "base_uri": "https://localhost:8080/"
    },
    "id": "Tdo2NDQgmKTj",
    "outputId": "470977d7-6329-4fc8-b0b9-095b3f751ce2"
   },
   "outputs": [
    {
     "data": {
      "text/plain": [
       "hospitalid                56\n",
       "numbedscategory    100 - 249\n",
       "Name: 0, dtype: object"
      ]
     },
     "execution_count": 66,
     "metadata": {},
     "output_type": "execute_result"
    }
   ],
   "source": [
    "mode_values = hospital.mode().iloc[0]\n",
    "mode_values"
   ]
  },
  {
   "cell_type": "code",
   "execution_count": 67,
   "metadata": {
    "id": "pjwqzsZgmfRF"
   },
   "outputs": [],
   "source": [
    "hospital.fillna(mode_values, inplace=True)"
   ]
  },
  {
   "cell_type": "code",
   "execution_count": 68,
   "metadata": {
    "id": "cL7WhCg1mmbB"
   },
   "outputs": [],
   "source": [
    "hospital['numbedscategory'] = hospital['numbedscategory'].replace({'100 - 249': 1, '250 - 499':2 , '<100': 3, '>= 500':4})"
   ]
  },
  {
   "cell_type": "code",
   "execution_count": 69,
   "metadata": {
    "colab": {
     "base_uri": "https://localhost:8080/"
    },
    "id": "qDAdk_xTnNUu",
    "outputId": "7872751a-224f-4ed1-9863-76a6029e00d6"
   },
   "outputs": [
    {
     "data": {
      "text/plain": [
       "array([3, 1, 4, 2], dtype=int64)"
      ]
     },
     "execution_count": 69,
     "metadata": {},
     "output_type": "execute_result"
    }
   ],
   "source": [
    "hospital['numbedscategory'].unique()"
   ]
  },
  {
   "cell_type": "code",
   "execution_count": 70,
   "metadata": {
    "colab": {
     "base_uri": "https://localhost:8080/"
    },
    "id": "siUo6P4ynQAV",
    "outputId": "fcf39adb-0f14-43ec-8b7d-a22314541ad8"
   },
   "outputs": [
    {
     "data": {
      "text/html": [
       "<div>\n",
       "<style scoped>\n",
       "    .dataframe tbody tr th:only-of-type {\n",
       "        vertical-align: middle;\n",
       "    }\n",
       "\n",
       "    .dataframe tbody tr th {\n",
       "        vertical-align: top;\n",
       "    }\n",
       "\n",
       "    .dataframe thead th {\n",
       "        text-align: right;\n",
       "    }\n",
       "</style>\n",
       "<table border=\"1\" class=\"dataframe\">\n",
       "  <thead>\n",
       "    <tr style=\"text-align: right;\">\n",
       "      <th></th>\n",
       "      <th>hospitalid</th>\n",
       "      <th>numbedscategory</th>\n",
       "    </tr>\n",
       "  </thead>\n",
       "  <tbody>\n",
       "    <tr>\n",
       "      <th>0</th>\n",
       "      <td>56</td>\n",
       "      <td>3</td>\n",
       "    </tr>\n",
       "    <tr>\n",
       "      <th>1</th>\n",
       "      <td>58</td>\n",
       "      <td>1</td>\n",
       "    </tr>\n",
       "    <tr>\n",
       "      <th>2</th>\n",
       "      <td>59</td>\n",
       "      <td>3</td>\n",
       "    </tr>\n",
       "    <tr>\n",
       "      <th>3</th>\n",
       "      <td>60</td>\n",
       "      <td>3</td>\n",
       "    </tr>\n",
       "    <tr>\n",
       "      <th>4</th>\n",
       "      <td>61</td>\n",
       "      <td>3</td>\n",
       "    </tr>\n",
       "  </tbody>\n",
       "</table>\n",
       "</div>"
      ],
      "text/plain": [
       "   hospitalid  numbedscategory\n",
       "0          56                3\n",
       "1          58                1\n",
       "2          59                3\n",
       "3          60                3\n",
       "4          61                3"
      ]
     },
     "execution_count": 70,
     "metadata": {},
     "output_type": "execute_result"
    }
   ],
   "source": [
    "hospital.head()"
   ]
  },
  {
   "cell_type": "markdown",
   "metadata": {
    "id": "IE1nH8AiiHr4"
   },
   "source": [
    "# Respiratory Charting\n",
    "En este dataset hay información de la respiración asistida que ha necesitado cada paciente, por simplificar el modelo de datos final, y para no cometer un error seleccionando las variables por nuestro desconocimiento médico, hemos decidido agrupar el dataset por los IDs de paciente que hay y al unirlos con el dataset de paciente, añadiremos una columna con un '1' si el paciente ha necesitado respiración asistida o un '0' si no lo ha necesitado."
   ]
  },
  {
   "cell_type": "markdown",
   "metadata": {
    "id": "dS-OW-6DiFpO"
   },
   "source": [
    "## Carga dataset"
   ]
  },
  {
   "cell_type": "code",
   "execution_count": 71,
   "metadata": {
    "id": "Yl61gnDFiFpa"
   },
   "outputs": [],
   "source": [
    "resCharting = pd.read_csv(ruta_datasets+\"respiratoryCharting.csv\")"
   ]
  },
  {
   "cell_type": "code",
   "execution_count": 72,
   "metadata": {
    "colab": {
     "base_uri": "https://localhost:8080/"
    },
    "id": "flCxy0AqiFpa",
    "outputId": "a2455927-b3b2-4640-cc40-bc9ae7b54ade"
   },
   "outputs": [
    {
     "data": {
      "text/html": [
       "<div>\n",
       "<style scoped>\n",
       "    .dataframe tbody tr th:only-of-type {\n",
       "        vertical-align: middle;\n",
       "    }\n",
       "\n",
       "    .dataframe tbody tr th {\n",
       "        vertical-align: top;\n",
       "    }\n",
       "\n",
       "    .dataframe thead th {\n",
       "        text-align: right;\n",
       "    }\n",
       "</style>\n",
       "<table border=\"1\" class=\"dataframe\">\n",
       "  <thead>\n",
       "    <tr style=\"text-align: right;\">\n",
       "      <th></th>\n",
       "      <th>respchartid</th>\n",
       "      <th>patientunitstayid</th>\n",
       "      <th>respchartoffset</th>\n",
       "      <th>respchartentryoffset</th>\n",
       "      <th>respcharttypecat</th>\n",
       "      <th>respchartvaluelabel</th>\n",
       "      <th>respchartvalue</th>\n",
       "    </tr>\n",
       "  </thead>\n",
       "  <tbody>\n",
       "    <tr>\n",
       "      <th>0</th>\n",
       "      <td>107</td>\n",
       "      <td>184757</td>\n",
       "      <td>2922</td>\n",
       "      <td>2922</td>\n",
       "      <td>respFlowSettings</td>\n",
       "      <td>LPM O2</td>\n",
       "      <td>1</td>\n",
       "    </tr>\n",
       "    <tr>\n",
       "      <th>1</th>\n",
       "      <td>1108</td>\n",
       "      <td>187150</td>\n",
       "      <td>408</td>\n",
       "      <td>408</td>\n",
       "      <td>respFlowSettings</td>\n",
       "      <td>FiO2</td>\n",
       "      <td>80</td>\n",
       "    </tr>\n",
       "    <tr>\n",
       "      <th>2</th>\n",
       "      <td>10629</td>\n",
       "      <td>179269</td>\n",
       "      <td>117</td>\n",
       "      <td>117</td>\n",
       "      <td>respFlowSettings</td>\n",
       "      <td>LPM O2</td>\n",
       "      <td>6</td>\n",
       "    </tr>\n",
       "    <tr>\n",
       "      <th>3</th>\n",
       "      <td>13000</td>\n",
       "      <td>162502</td>\n",
       "      <td>3845</td>\n",
       "      <td>3845</td>\n",
       "      <td>respFlowSettings</td>\n",
       "      <td>LPM O2</td>\n",
       "      <td>25</td>\n",
       "    </tr>\n",
       "    <tr>\n",
       "      <th>4</th>\n",
       "      <td>13001</td>\n",
       "      <td>162502</td>\n",
       "      <td>3845</td>\n",
       "      <td>3845</td>\n",
       "      <td>respFlowSettings</td>\n",
       "      <td>FiO2</td>\n",
       "      <td>60</td>\n",
       "    </tr>\n",
       "  </tbody>\n",
       "</table>\n",
       "</div>"
      ],
      "text/plain": [
       "   respchartid  patientunitstayid  respchartoffset  respchartentryoffset  \\\n",
       "0          107             184757             2922                  2922   \n",
       "1         1108             187150              408                   408   \n",
       "2        10629             179269              117                   117   \n",
       "3        13000             162502             3845                  3845   \n",
       "4        13001             162502             3845                  3845   \n",
       "\n",
       "   respcharttypecat respchartvaluelabel respchartvalue  \n",
       "0  respFlowSettings              LPM O2              1  \n",
       "1  respFlowSettings                FiO2             80  \n",
       "2  respFlowSettings              LPM O2              6  \n",
       "3  respFlowSettings              LPM O2             25  \n",
       "4  respFlowSettings                FiO2             60  "
      ]
     },
     "execution_count": 72,
     "metadata": {},
     "output_type": "execute_result"
    }
   ],
   "source": [
    "resCharting.head()"
   ]
  },
  {
   "cell_type": "markdown",
   "metadata": {
    "id": "PF3SxMdziFpb"
   },
   "source": [
    "## Análisis Previo"
   ]
  },
  {
   "cell_type": "code",
   "execution_count": 73,
   "metadata": {
    "colab": {
     "base_uri": "https://localhost:8080/"
    },
    "id": "aKNIutWuiFpb",
    "outputId": "8c677c14-bdfb-47e1-eb71-9a7d876c9c9f"
   },
   "outputs": [
    {
     "data": {
      "text/plain": [
       "(176089, 7)"
      ]
     },
     "execution_count": 73,
     "metadata": {},
     "output_type": "execute_result"
    }
   ],
   "source": [
    "resCharting.shape"
   ]
  },
  {
   "cell_type": "code",
   "execution_count": 74,
   "metadata": {
    "colab": {
     "base_uri": "https://localhost:8080/"
    },
    "id": "5exDP0W1iFpb",
    "outputId": "de0110fe-771c-437b-8252-5e2b215670eb"
   },
   "outputs": [
    {
     "data": {
      "text/plain": [
       "respchartid              int64\n",
       "patientunitstayid        int64\n",
       "respchartoffset          int64\n",
       "respchartentryoffset     int64\n",
       "respcharttypecat        object\n",
       "respchartvaluelabel     object\n",
       "respchartvalue          object\n",
       "dtype: object"
      ]
     },
     "execution_count": 74,
     "metadata": {},
     "output_type": "execute_result"
    }
   ],
   "source": [
    "resCharting.dtypes"
   ]
  },
  {
   "cell_type": "code",
   "execution_count": 75,
   "metadata": {
    "colab": {
     "base_uri": "https://localhost:8080/"
    },
    "id": "4Iw8XjMKiFpb",
    "outputId": "deb0b8f0-e6ed-4b42-ce64-d560d18da75a"
   },
   "outputs": [
    {
     "data": {
      "text/html": [
       "<div>\n",
       "<style scoped>\n",
       "    .dataframe tbody tr th:only-of-type {\n",
       "        vertical-align: middle;\n",
       "    }\n",
       "\n",
       "    .dataframe tbody tr th {\n",
       "        vertical-align: top;\n",
       "    }\n",
       "\n",
       "    .dataframe thead th {\n",
       "        text-align: right;\n",
       "    }\n",
       "</style>\n",
       "<table border=\"1\" class=\"dataframe\">\n",
       "  <thead>\n",
       "    <tr style=\"text-align: right;\">\n",
       "      <th></th>\n",
       "      <th>respchartid</th>\n",
       "      <th>patientunitstayid</th>\n",
       "      <th>respchartoffset</th>\n",
       "      <th>respchartentryoffset</th>\n",
       "    </tr>\n",
       "  </thead>\n",
       "  <tbody>\n",
       "    <tr>\n",
       "      <th>count</th>\n",
       "      <td>1.760890e+05</td>\n",
       "      <td>1.760890e+05</td>\n",
       "      <td>176089.000000</td>\n",
       "      <td>176089.000000</td>\n",
       "    </tr>\n",
       "    <tr>\n",
       "      <th>mean</th>\n",
       "      <td>1.260332e+08</td>\n",
       "      <td>1.891008e+06</td>\n",
       "      <td>7168.550244</td>\n",
       "      <td>7184.081419</td>\n",
       "    </tr>\n",
       "    <tr>\n",
       "      <th>std</th>\n",
       "      <td>7.654253e+07</td>\n",
       "      <td>1.026092e+06</td>\n",
       "      <td>9498.976967</td>\n",
       "      <td>9493.894538</td>\n",
       "    </tr>\n",
       "    <tr>\n",
       "      <th>min</th>\n",
       "      <td>1.070000e+02</td>\n",
       "      <td>1.438700e+05</td>\n",
       "      <td>-24147.000000</td>\n",
       "      <td>-24147.000000</td>\n",
       "    </tr>\n",
       "    <tr>\n",
       "      <th>25%</th>\n",
       "      <td>5.667673e+07</td>\n",
       "      <td>9.100500e+05</td>\n",
       "      <td>1181.000000</td>\n",
       "      <td>1197.000000</td>\n",
       "    </tr>\n",
       "    <tr>\n",
       "      <th>50%</th>\n",
       "      <td>1.352144e+08</td>\n",
       "      <td>1.998890e+06</td>\n",
       "      <td>3826.000000</td>\n",
       "      <td>3839.000000</td>\n",
       "    </tr>\n",
       "    <tr>\n",
       "      <th>75%</th>\n",
       "      <td>1.863991e+08</td>\n",
       "      <td>2.873230e+06</td>\n",
       "      <td>9481.000000</td>\n",
       "      <td>9484.000000</td>\n",
       "    </tr>\n",
       "    <tr>\n",
       "      <th>max</th>\n",
       "      <td>2.555675e+08</td>\n",
       "      <td>3.352333e+06</td>\n",
       "      <td>74892.000000</td>\n",
       "      <td>74892.000000</td>\n",
       "    </tr>\n",
       "  </tbody>\n",
       "</table>\n",
       "</div>"
      ],
      "text/plain": [
       "        respchartid  patientunitstayid  respchartoffset  respchartentryoffset\n",
       "count  1.760890e+05       1.760890e+05    176089.000000         176089.000000\n",
       "mean   1.260332e+08       1.891008e+06      7168.550244           7184.081419\n",
       "std    7.654253e+07       1.026092e+06      9498.976967           9493.894538\n",
       "min    1.070000e+02       1.438700e+05    -24147.000000         -24147.000000\n",
       "25%    5.667673e+07       9.100500e+05      1181.000000           1197.000000\n",
       "50%    1.352144e+08       1.998890e+06      3826.000000           3839.000000\n",
       "75%    1.863991e+08       2.873230e+06      9481.000000           9484.000000\n",
       "max    2.555675e+08       3.352333e+06     74892.000000          74892.000000"
      ]
     },
     "execution_count": 75,
     "metadata": {},
     "output_type": "execute_result"
    }
   ],
   "source": [
    "resCharting.describe()"
   ]
  },
  {
   "cell_type": "code",
   "execution_count": 76,
   "metadata": {
    "colab": {
     "base_uri": "https://localhost:8080/"
    },
    "id": "h-ckqWkEiFpc",
    "outputId": "c7c3ffe0-c1df-46ae-c109-c61e1577866c"
   },
   "outputs": [
    {
     "data": {
      "text/html": [
       "<div>\n",
       "<style scoped>\n",
       "    .dataframe tbody tr th:only-of-type {\n",
       "        vertical-align: middle;\n",
       "    }\n",
       "\n",
       "    .dataframe tbody tr th {\n",
       "        vertical-align: top;\n",
       "    }\n",
       "\n",
       "    .dataframe thead th {\n",
       "        text-align: right;\n",
       "    }\n",
       "</style>\n",
       "<table border=\"1\" class=\"dataframe\">\n",
       "  <thead>\n",
       "    <tr style=\"text-align: right;\">\n",
       "      <th></th>\n",
       "      <th>respcharttypecat</th>\n",
       "      <th>respchartvaluelabel</th>\n",
       "      <th>respchartvalue</th>\n",
       "    </tr>\n",
       "  </thead>\n",
       "  <tbody>\n",
       "    <tr>\n",
       "      <th>count</th>\n",
       "      <td>176089</td>\n",
       "      <td>176089</td>\n",
       "      <td>176069</td>\n",
       "    </tr>\n",
       "    <tr>\n",
       "      <th>unique</th>\n",
       "      <td>3</td>\n",
       "      <td>172</td>\n",
       "      <td>2661</td>\n",
       "    </tr>\n",
       "    <tr>\n",
       "      <th>top</th>\n",
       "      <td>respFlowSettings</td>\n",
       "      <td>FiO2</td>\n",
       "      <td>5</td>\n",
       "    </tr>\n",
       "    <tr>\n",
       "      <th>freq</th>\n",
       "      <td>94767</td>\n",
       "      <td>27432</td>\n",
       "      <td>12021</td>\n",
       "    </tr>\n",
       "  </tbody>\n",
       "</table>\n",
       "</div>"
      ],
      "text/plain": [
       "        respcharttypecat respchartvaluelabel respchartvalue\n",
       "count             176089              176089         176069\n",
       "unique                 3                 172           2661\n",
       "top     respFlowSettings                FiO2              5\n",
       "freq               94767               27432          12021"
      ]
     },
     "execution_count": 76,
     "metadata": {},
     "output_type": "execute_result"
    }
   ],
   "source": [
    "resCharting.describe(exclude=[np.number])  "
   ]
  },
  {
   "cell_type": "code",
   "execution_count": 77,
   "metadata": {
    "colab": {
     "base_uri": "https://localhost:8080/"
    },
    "id": "D6bERY_BiFpc",
    "outputId": "b1bb3048-1d8c-4b72-baa0-8255ed69c7ea"
   },
   "outputs": [
    {
     "data": {
      "text/plain": [
       "respchartid             0.000000\n",
       "patientunitstayid       0.000000\n",
       "respchartoffset         0.000000\n",
       "respchartentryoffset    0.000000\n",
       "respcharttypecat        0.000000\n",
       "respchartvaluelabel     0.000000\n",
       "respchartvalue          0.000114\n",
       "dtype: float64"
      ]
     },
     "execution_count": 77,
     "metadata": {},
     "output_type": "execute_result"
    }
   ],
   "source": [
    "resCharting.isnull().sum() / resCharting.shape[0]"
   ]
  },
  {
   "cell_type": "code",
   "execution_count": 78,
   "metadata": {
    "colab": {
     "base_uri": "https://localhost:8080/"
    },
    "id": "GMVNPJcCiFpc",
    "outputId": "f71b4df2-4af9-4422-9e67-902ef3809541"
   },
   "outputs": [
    {
     "data": {
      "text/html": [
       "<div>\n",
       "<style scoped>\n",
       "    .dataframe tbody tr th:only-of-type {\n",
       "        vertical-align: middle;\n",
       "    }\n",
       "\n",
       "    .dataframe tbody tr th {\n",
       "        vertical-align: top;\n",
       "    }\n",
       "\n",
       "    .dataframe thead th {\n",
       "        text-align: right;\n",
       "    }\n",
       "</style>\n",
       "<table border=\"1\" class=\"dataframe\">\n",
       "  <thead>\n",
       "    <tr style=\"text-align: right;\">\n",
       "      <th></th>\n",
       "      <th>respcharttypecat</th>\n",
       "      <th>counts</th>\n",
       "    </tr>\n",
       "  </thead>\n",
       "  <tbody>\n",
       "    <tr>\n",
       "      <th>0</th>\n",
       "      <td>respFlowCareData</td>\n",
       "      <td>0.107309</td>\n",
       "    </tr>\n",
       "    <tr>\n",
       "      <th>1</th>\n",
       "      <td>respFlowPtVentData</td>\n",
       "      <td>0.354514</td>\n",
       "    </tr>\n",
       "    <tr>\n",
       "      <th>2</th>\n",
       "      <td>respFlowSettings</td>\n",
       "      <td>0.538177</td>\n",
       "    </tr>\n",
       "  </tbody>\n",
       "</table>\n",
       "</div>"
      ],
      "text/plain": [
       "     respcharttypecat    counts\n",
       "0    respFlowCareData  0.107309\n",
       "1  respFlowPtVentData  0.354514\n",
       "2    respFlowSettings  0.538177"
      ]
     },
     "metadata": {},
     "output_type": "display_data"
    },
    {
     "data": {
      "text/html": [
       "<div>\n",
       "<style scoped>\n",
       "    .dataframe tbody tr th:only-of-type {\n",
       "        vertical-align: middle;\n",
       "    }\n",
       "\n",
       "    .dataframe tbody tr th {\n",
       "        vertical-align: top;\n",
       "    }\n",
       "\n",
       "    .dataframe thead th {\n",
       "        text-align: right;\n",
       "    }\n",
       "</style>\n",
       "<table border=\"1\" class=\"dataframe\">\n",
       "  <thead>\n",
       "    <tr style=\"text-align: right;\">\n",
       "      <th></th>\n",
       "      <th>respchartvaluelabel</th>\n",
       "      <th>counts</th>\n",
       "    </tr>\n",
       "  </thead>\n",
       "  <tbody>\n",
       "    <tr>\n",
       "      <th>0</th>\n",
       "      <td>5. ARDS Eval (M or DNM)</td>\n",
       "      <td>0.000006</td>\n",
       "    </tr>\n",
       "    <tr>\n",
       "      <th>1</th>\n",
       "      <td>A1: High Exhaled Vt</td>\n",
       "      <td>0.000341</td>\n",
       "    </tr>\n",
       "    <tr>\n",
       "      <th>2</th>\n",
       "      <td>AIRWAY TEMPERATURE</td>\n",
       "      <td>0.000011</td>\n",
       "    </tr>\n",
       "    <tr>\n",
       "      <th>3</th>\n",
       "      <td>Adult Con Alarms Backup I:E</td>\n",
       "      <td>0.000045</td>\n",
       "    </tr>\n",
       "    <tr>\n",
       "      <th>4</th>\n",
       "      <td>Adult Con Alarms Backup PC</td>\n",
       "      <td>0.000045</td>\n",
       "    </tr>\n",
       "    <tr>\n",
       "      <th>...</th>\n",
       "      <td>...</td>\n",
       "      <td>...</td>\n",
       "    </tr>\n",
       "    <tr>\n",
       "      <th>167</th>\n",
       "      <td>WUA Patient Response/RASS Score</td>\n",
       "      <td>0.000045</td>\n",
       "    </tr>\n",
       "    <tr>\n",
       "      <th>168</th>\n",
       "      <td>Wake up assessment interventions</td>\n",
       "      <td>0.000051</td>\n",
       "    </tr>\n",
       "    <tr>\n",
       "      <th>169</th>\n",
       "      <td>Wake up assessment performed</td>\n",
       "      <td>0.000017</td>\n",
       "    </tr>\n",
       "    <tr>\n",
       "      <th>170</th>\n",
       "      <td>Weaning Assessment Criteria Collaboration</td>\n",
       "      <td>0.000023</td>\n",
       "    </tr>\n",
       "    <tr>\n",
       "      <th>171</th>\n",
       "      <td>f Total</td>\n",
       "      <td>0.001391</td>\n",
       "    </tr>\n",
       "  </tbody>\n",
       "</table>\n",
       "<p>172 rows × 2 columns</p>\n",
       "</div>"
      ],
      "text/plain": [
       "                           respchartvaluelabel    counts\n",
       "0                      5. ARDS Eval (M or DNM)  0.000006\n",
       "1                          A1: High Exhaled Vt  0.000341\n",
       "2                           AIRWAY TEMPERATURE  0.000011\n",
       "3                  Adult Con Alarms Backup I:E  0.000045\n",
       "4                   Adult Con Alarms Backup PC  0.000045\n",
       "..                                         ...       ...\n",
       "167            WUA Patient Response/RASS Score  0.000045\n",
       "168           Wake up assessment interventions  0.000051\n",
       "169               Wake up assessment performed  0.000017\n",
       "170  Weaning Assessment Criteria Collaboration  0.000023\n",
       "171                                    f Total  0.001391\n",
       "\n",
       "[172 rows x 2 columns]"
      ]
     },
     "metadata": {},
     "output_type": "display_data"
    },
    {
     "data": {
      "text/html": [
       "<div>\n",
       "<style scoped>\n",
       "    .dataframe tbody tr th:only-of-type {\n",
       "        vertical-align: middle;\n",
       "    }\n",
       "\n",
       "    .dataframe tbody tr th {\n",
       "        vertical-align: top;\n",
       "    }\n",
       "\n",
       "    .dataframe thead th {\n",
       "        text-align: right;\n",
       "    }\n",
       "</style>\n",
       "<table border=\"1\" class=\"dataframe\">\n",
       "  <thead>\n",
       "    <tr style=\"text-align: right;\">\n",
       "      <th></th>\n",
       "      <th>respchartvalue</th>\n",
       "      <th>counts</th>\n",
       "    </tr>\n",
       "  </thead>\n",
       "  <tbody>\n",
       "    <tr>\n",
       "      <th>0</th>\n",
       "      <td>(4)</td>\n",
       "      <td>0.000068</td>\n",
       "    </tr>\n",
       "    <tr>\n",
       "      <th>1</th>\n",
       "      <td>-1</td>\n",
       "      <td>0.000006</td>\n",
       "    </tr>\n",
       "    <tr>\n",
       "      <th>2</th>\n",
       "      <td>-2</td>\n",
       "      <td>0.000693</td>\n",
       "    </tr>\n",
       "    <tr>\n",
       "      <th>3</th>\n",
       "      <td>-3</td>\n",
       "      <td>0.000006</td>\n",
       "    </tr>\n",
       "    <tr>\n",
       "      <th>4</th>\n",
       "      <td>0</td>\n",
       "      <td>0.023136</td>\n",
       "    </tr>\n",
       "    <tr>\n",
       "      <th>...</th>\n",
       "      <td>...</td>\n",
       "      <td>...</td>\n",
       "    </tr>\n",
       "    <tr>\n",
       "      <th>2656</th>\n",
       "      <td>Y</td>\n",
       "      <td>0.002629</td>\n",
       "    </tr>\n",
       "    <tr>\n",
       "      <th>2657</th>\n",
       "      <td>Yellow</td>\n",
       "      <td>0.000017</td>\n",
       "    </tr>\n",
       "    <tr>\n",
       "      <th>2658</th>\n",
       "      <td>Yes</td>\n",
       "      <td>0.013289</td>\n",
       "    </tr>\n",
       "    <tr>\n",
       "      <th>2659</th>\n",
       "      <td>cmH2O</td>\n",
       "      <td>0.000108</td>\n",
       "    </tr>\n",
       "    <tr>\n",
       "      <th>2660</th>\n",
       "      <td>hme</td>\n",
       "      <td>0.000034</td>\n",
       "    </tr>\n",
       "  </tbody>\n",
       "</table>\n",
       "<p>2661 rows × 2 columns</p>\n",
       "</div>"
      ],
      "text/plain": [
       "     respchartvalue    counts\n",
       "0               (4)  0.000068\n",
       "1                -1  0.000006\n",
       "2                -2  0.000693\n",
       "3                -3  0.000006\n",
       "4                 0  0.023136\n",
       "...             ...       ...\n",
       "2656              Y  0.002629\n",
       "2657         Yellow  0.000017\n",
       "2658            Yes  0.013289\n",
       "2659          cmH2O  0.000108\n",
       "2660            hme  0.000034\n",
       "\n",
       "[2661 rows x 2 columns]"
      ]
     },
     "metadata": {},
     "output_type": "display_data"
    }
   ],
   "source": [
    "for col in resCharting.columns[resCharting.dtypes==object]:\n",
    "    display((resCharting.groupby([col]).size()/resCharting.shape[0]).reset_index(name='counts'))"
   ]
  },
  {
   "cell_type": "markdown",
   "metadata": {
    "id": "o_ztULLwjU4K"
   },
   "source": [
    "## Tratamiento Features"
   ]
  },
  {
   "cell_type": "code",
   "execution_count": 79,
   "metadata": {
    "id": "jEmta1tKjbxE"
   },
   "outputs": [],
   "source": [
    "resCharting = resCharting[['respchartid', 'patientunitstayid']]"
   ]
  },
  {
   "cell_type": "markdown",
   "metadata": {},
   "source": [
    "Con este dataset terminamos el Feature Selection y Engineer del que hablabamos en el primer análisis, si es verdad que hay otros datasets importantes y que no se ha extraído todo el jugo de los que se han tratado, pero dado el tiempo disponible lo creemos más que suficiente para exponer la solución definida y sustentarla ante el jurado de la competición con unos datos y métricas buenas.\n",
    "\n",
    "Para entrar más en específico y exponer los resultados de este proceso de una forma más visual, he desarrollado la siguiente diapositiva:\n",
    "\n",
    "<img src=\"./img/Feature Selection.PNG\">\n",
    "\n",
    "Como se observa en la diapositiva pasamos de 31 tablas en el modelo relacional a 11 tablas. A partir de dichas tablas se ha realizado el Feature Selection, donde hemos escogido las características que nos iban, a priori, a ayudar más en nuestro estudio, y hemos realizado diferentes procesos de Feature Engineer y Feature Transformation para adaptar estas características al dataset de pacientes."
   ]
  },
  {
   "cell_type": "markdown",
   "metadata": {
    "id": "5aVE7gp-oGdf"
   },
   "source": [
    "# Preprocesado Modelo de datos Final\n",
    "\n"
   ]
  },
  {
   "cell_type": "markdown",
   "metadata": {
    "id": "aukKWsyJs_ZG"
   },
   "source": [
    "## Merge Datasets con Patient\n",
    "\n",
    "El siguiente paso para continuar con el estudio, es unir cada dataset tranformado con el de pacientes final, esta tarea se lleva a cabo de forma sencilla, ya que hemos preparado los datasets de cada tabla para está unión en el último paso de cada preprocesado anterior."
   ]
  },
  {
   "cell_type": "code",
   "execution_count": 80,
   "metadata": {
    "colab": {
     "base_uri": "https://localhost:8080/"
    },
    "id": "LyDO1YxDqsWS",
    "outputId": "eec6d532-9371-4821-96ce-dccea0301ce4"
   },
   "outputs": [
    {
     "data": {
      "text/plain": [
       "(2520, 12)"
      ]
     },
     "execution_count": 80,
     "metadata": {},
     "output_type": "execute_result"
    }
   ],
   "source": [
    "data.shape"
   ]
  },
  {
   "cell_type": "code",
   "execution_count": 81,
   "metadata": {
    "id": "FirjlrsTnf8_"
   },
   "outputs": [],
   "source": [
    "# Merge patient con pasthistory\n",
    "data_v2 = pd.merge(data, paciente_pastHistory, on='patientunitstayid', how='left')"
   ]
  },
  {
   "cell_type": "code",
   "execution_count": 82,
   "metadata": {
    "colab": {
     "base_uri": "https://localhost:8080/"
    },
    "id": "GEvT0JdsoQmy",
    "outputId": "a2a20335-be42-4ab0-8b29-4cbe7d677a37"
   },
   "outputs": [
    {
     "data": {
      "text/plain": [
       "(2520, 21)"
      ]
     },
     "execution_count": 82,
     "metadata": {},
     "output_type": "execute_result"
    }
   ],
   "source": [
    "#Comprobacion de merge correcto\n",
    "data_v2.shape"
   ]
  },
  {
   "cell_type": "code",
   "execution_count": 83,
   "metadata": {
    "id": "MUebRTGqoQkI"
   },
   "outputs": [],
   "source": [
    "# Merge patient con vitalperiodic\n",
    "data_v3 = pd.merge(data_v2, patient_vital_periodic, on='patientunitstayid', how='left')"
   ]
  },
  {
   "cell_type": "code",
   "execution_count": 84,
   "metadata": {
    "colab": {
     "base_uri": "https://localhost:8080/"
    },
    "id": "Jtd4vfEYoQhz",
    "outputId": "dc2ede89-142b-44fa-b343-b0397fd5c838"
   },
   "outputs": [
    {
     "data": {
      "text/plain": [
       "(2520, 30)"
      ]
     },
     "execution_count": 84,
     "metadata": {},
     "output_type": "execute_result"
    }
   ],
   "source": [
    "#Comprobacion de merge correcto\n",
    "data_v3.shape"
   ]
  },
  {
   "cell_type": "code",
   "execution_count": 85,
   "metadata": {
    "id": "FYQu73vSoQfi"
   },
   "outputs": [],
   "source": [
    "# Merge patient con hospital\n",
    "data_v4 = pd.merge(data_v3, hospital, on='hospitalid', how='left')"
   ]
  },
  {
   "cell_type": "code",
   "execution_count": 86,
   "metadata": {
    "colab": {
     "base_uri": "https://localhost:8080/"
    },
    "id": "aKkT5UuxoQdS",
    "outputId": "27843a68-36f0-42ca-9465-eba5f8d45d01"
   },
   "outputs": [
    {
     "data": {
      "text/plain": [
       "(2520, 31)"
      ]
     },
     "execution_count": 86,
     "metadata": {},
     "output_type": "execute_result"
    }
   ],
   "source": [
    "#Comprobacion de merge correcto\n",
    "data_v4.shape"
   ]
  },
  {
   "cell_type": "code",
   "execution_count": 87,
   "metadata": {
    "id": "9txERoz7sCcU"
   },
   "outputs": [],
   "source": [
    "# Merge patient con respiratory Charting\n",
    "data_v4['en_resCharting'] = data_v4['patientunitstayid'].isin(resCharting['patientunitstayid']).astype(int)"
   ]
  },
  {
   "cell_type": "code",
   "execution_count": 88,
   "metadata": {
    "colab": {
     "base_uri": "https://localhost:8080/"
    },
    "id": "Lt6q7qbbsUff",
    "outputId": "fb73b905-0a64-415a-b37a-2137214269b0"
   },
   "outputs": [
    {
     "data": {
      "text/plain": [
       "(2520, 32)"
      ]
     },
     "execution_count": 88,
     "metadata": {},
     "output_type": "execute_result"
    }
   ],
   "source": [
    "#Comprobacion de merge correcto\n",
    "data_v4.shape"
   ]
  },
  {
   "cell_type": "markdown",
   "metadata": {},
   "source": [
    "Una vez que tenemos un dataset único hemos decidido hacer el segundo estudio con WEKA para valorar la importancia de las diferentes variables en modelos sencillos. Como comenté anteriormente, este software lo hemos utilizado en dos puntos diferentes del caso de uso, después del primer análisis del target, y una vez que tenemos el dataset final, el cual vamos a utilizar para entrenar nuestro modelo de ML. En la siguiente diapositva, se observa el resultado de los dos modelos:\n",
    "\n",
    "<img src=\"./img/WEKA.PNG\">\n",
    "\n",
    "\n",
    "Como se observa, en el primer modelo, la variable más importante es Apache Admission, que en resumen es la patología con la que es admitido el paciente en la UCI. APACHE es un estandar que según hemos podido comprobar define un puntaje que intenta cuantificar la esperanza de vida de un paciente, en este caso como he citado es la enfermedad con la que es admitado el paciente. \n",
    "\n",
    "En el segundo gráfico se observa que ha surgido efecto los procesos de Feature Selection y Engineer llevados a cabo, por que son esas features las que toman gran importancia en el modelo."
   ]
  },
  {
   "cell_type": "markdown",
   "metadata": {
    "id": "NwfURO6Ks8nQ"
   },
   "source": [
    "## Taking Care of Missing Data\n",
    "A partir de aquí, empezamos con la última parte del procesado de los datos antes de entrenar el modelo, el preprocesado \"real\", es decir, el preprocesado del conjunto final de los datos. En la siguiente diapositiva se explica que se ha realizado durante este proceso, que en la siguientes celdas se puede observar:\n",
    "\n",
    "<img src=\"./img/Preprocesado.PNG\">\n",
    "\n",
    "En resumen, el preprocesado se divide en:\n",
    "\n",
    "- **Corrección de la distribución de la algunas características** para que sigan una distribución normal\n",
    "\n",
    "\n",
    "- **Eliminación de observaciones**, por ejemplo aquellas donde el target de minutos era igual a 0, es decir, datos erróneos que puede confundir al modelo\n",
    "\n",
    "\n",
    "- **Correción de formato**\n",
    "\n",
    "\n",
    "- **Tratamiento de datos faltantes**, tanto de los valores númericos como de los categóricos\n",
    "\n",
    "\n",
    "- **Codificación de las variables categóricas** siguiendo las reglas del Count Enconding, ya que algunas de ellas tienen más de 200 categorias y si siguieramos una codificación One Hot Encoding (común) el número de características crecería exponencialmente.\n",
    "\n",
    "Todos estos procesos han resultado en que el dataset final tenga 2167 observaciones con las que hemos entrenado un modelo de predicción."
   ]
  },
  {
   "cell_type": "markdown",
   "metadata": {
    "id": "ASOu5bMB3YFW"
   },
   "source": [
    "### Primeros cambios preestablecidos"
   ]
  },
  {
   "cell_type": "code",
   "execution_count": 89,
   "metadata": {
    "colab": {
     "base_uri": "https://localhost:8080/"
    },
    "id": "Lgl37IUk_Rpa",
    "outputId": "fe76ccfd-44e7-4f0f-f4b1-b8be634b7595"
   },
   "outputs": [
    {
     "data": {
      "text/plain": [
       "patientunitstayid           int64\n",
       "gender                     object\n",
       "age                         int32\n",
       "hospitalid                  int64\n",
       "apacheadmissiondx          object\n",
       "admissionheight           float64\n",
       "unittype                   object\n",
       "unitadmitsource            object\n",
       "unitvisitnumber             int64\n",
       "unitstaytype               object\n",
       "unitdischargeoffset         int64\n",
       "target_dias               float64\n",
       "Cardiovascular (R)        float64\n",
       "Endocrine (R)             float64\n",
       "Gastrointestinal (R)      float64\n",
       "Hematology                float64\n",
       "Infectious Disease (R)    float64\n",
       "Neurologic                float64\n",
       "Pulmonary                 float64\n",
       "Renal  (R)                float64\n",
       "Rheumatic                 float64\n",
       "sao2_min                  float64\n",
       "sao2_max                  float64\n",
       "sao2_mean                 float64\n",
       "heartrate_min             float64\n",
       "heartrate_max             float64\n",
       "heartrate_mean            float64\n",
       "respiration_min           float64\n",
       "respiration_max           float64\n",
       "respiration_mean          float64\n",
       "numbedscategory             int64\n",
       "en_resCharting              int32\n",
       "dtype: object"
      ]
     },
     "execution_count": 89,
     "metadata": {},
     "output_type": "execute_result"
    }
   ],
   "source": [
    "data_v4.dtypes"
   ]
  },
  {
   "cell_type": "code",
   "execution_count": 90,
   "metadata": {
    "id": "StKM4ory0_xU"
   },
   "outputs": [],
   "source": [
    "data_v5 = data_v4.loc[data_v4['unitstaytype'] != 'stepdown/other']"
   ]
  },
  {
   "cell_type": "code",
   "execution_count": 91,
   "metadata": {
    "id": "XakHXjGoyG48"
   },
   "outputs": [],
   "source": [
    "data_v6 = data_v5.loc[~data_v5['apacheadmissiondx'].isna()]"
   ]
  },
  {
   "cell_type": "code",
   "execution_count": 92,
   "metadata": {
    "id": "VEpyWTDG2UdZ"
   },
   "outputs": [],
   "source": [
    "data_v6 = data_v6.drop('unitstaytype', axis=1)"
   ]
  },
  {
   "cell_type": "code",
   "execution_count": 93,
   "metadata": {
    "colab": {
     "base_uri": "https://localhost:8080/"
    },
    "id": "Xm5rF2Na2HIv",
    "outputId": "936504f3-4bc7-4962-eee1-bf73cf6a92af"
   },
   "outputs": [
    {
     "data": {
      "text/plain": [
       "(2161, 31)"
      ]
     },
     "execution_count": 93,
     "metadata": {},
     "output_type": "execute_result"
    }
   ],
   "source": [
    "data_v6.shape"
   ]
  },
  {
   "cell_type": "code",
   "execution_count": 94,
   "metadata": {
    "id": "YzWC3CFL2w1c"
   },
   "outputs": [],
   "source": [
    "target = data_v6.pop('unitdischargeoffset')\n",
    "data_v6 = data_v6.assign(columna=target)\n",
    "data_v6 = data_v6.rename(columns={'columna': 'target'})"
   ]
  },
  {
   "cell_type": "code",
   "execution_count": 95,
   "metadata": {
    "colab": {
     "base_uri": "https://localhost:8080/"
    },
    "id": "uFMabrEltNYB",
    "outputId": "3e5c2dcb-fbc6-45a4-8893-a72a66d084e3"
   },
   "outputs": [
    {
     "data": {
      "text/plain": [
       "patientunitstayid         0.000000\n",
       "gender                    0.001388\n",
       "age                       0.000000\n",
       "hospitalid                0.000000\n",
       "apacheadmissiondx         0.000000\n",
       "admissionheight           0.018047\n",
       "unittype                  0.000000\n",
       "unitadmitsource           0.001851\n",
       "unitvisitnumber           0.000000\n",
       "target_dias               0.000000\n",
       "Cardiovascular (R)        0.180935\n",
       "Endocrine (R)             0.180935\n",
       "Gastrointestinal (R)      0.180935\n",
       "Hematology                0.180935\n",
       "Infectious Disease (R)    0.180935\n",
       "Neurologic                0.180935\n",
       "Pulmonary                 0.180935\n",
       "Renal  (R)                0.180935\n",
       "Rheumatic                 0.180935\n",
       "sao2_min                  0.022212\n",
       "sao2_max                  0.022212\n",
       "sao2_mean                 0.022212\n",
       "heartrate_min             0.022212\n",
       "heartrate_max             0.022212\n",
       "heartrate_mean            0.022212\n",
       "respiration_min           0.022212\n",
       "respiration_max           0.022212\n",
       "respiration_mean          0.022212\n",
       "numbedscategory           0.000000\n",
       "en_resCharting            0.000000\n",
       "target                    0.000000\n",
       "dtype: float64"
      ]
     },
     "execution_count": 95,
     "metadata": {},
     "output_type": "execute_result"
    }
   ],
   "source": [
    "data_v6.isnull().sum() / data_v6.shape[0]"
   ]
  },
  {
   "cell_type": "markdown",
   "metadata": {
    "id": "1iAqoHELtKGr"
   },
   "source": [
    "### Categorical Features"
   ]
  },
  {
   "cell_type": "code",
   "execution_count": 96,
   "metadata": {
    "colab": {
     "base_uri": "https://localhost:8080/"
    },
    "id": "j9RCzoIUskWI",
    "outputId": "e82944c3-1405-475f-dbde-69276ab64019"
   },
   "outputs": [
    {
     "data": {
      "text/plain": [
       "Index(['gender', 'unitadmitsource'], dtype='object')"
      ]
     },
     "execution_count": 96,
     "metadata": {},
     "output_type": "execute_result"
    }
   ],
   "source": [
    "data_v6.select_dtypes(np.object_).loc[:, data_v6.isna().sum() > 0].columns"
   ]
  },
  {
   "cell_type": "code",
   "execution_count": 97,
   "metadata": {
    "id": "mjlkRBGZxwdN"
   },
   "outputs": [],
   "source": [
    "data_v6['gender'] = data_v6['gender'].fillna('Other')"
   ]
  },
  {
   "cell_type": "code",
   "execution_count": 98,
   "metadata": {
    "id": "nYbYjlMn4k59"
   },
   "outputs": [],
   "source": [
    "moda_edad = data_v6['unitadmitsource'].mode()[0]\n",
    "data_v6['unitadmitsource'] = data_v6['unitadmitsource'].fillna(moda_edad)"
   ]
  },
  {
   "cell_type": "markdown",
   "metadata": {
    "id": "UwqqCHDttN8V"
   },
   "source": [
    "### Numerical Features"
   ]
  },
  {
   "cell_type": "code",
   "execution_count": 99,
   "metadata": {
    "id": "JX7rkH9_w8fz"
   },
   "outputs": [],
   "source": [
    "media = data_v6.loc[data_v6['age'] != -1, 'age'].mean()\n",
    "data_v6['age'] = data_v6['age'].replace(-1, media)"
   ]
  },
  {
   "cell_type": "code",
   "execution_count": 100,
   "metadata": {
    "colab": {
     "base_uri": "https://localhost:8080/"
    },
    "id": "pG13Ju4BtOKq",
    "outputId": "b60cd77a-62e4-410b-d0ef-e35837882ff2"
   },
   "outputs": [
    {
     "data": {
      "text/plain": [
       "Index(['admissionheight', 'Cardiovascular (R)', 'Endocrine (R)',\n",
       "       'Gastrointestinal (R)', 'Hematology', 'Infectious Disease (R)',\n",
       "       'Neurologic', 'Pulmonary', 'Renal  (R)', 'Rheumatic', 'sao2_min',\n",
       "       'sao2_max', 'sao2_mean', 'heartrate_min', 'heartrate_max',\n",
       "       'heartrate_mean', 'respiration_min', 'respiration_max',\n",
       "       'respiration_mean'],\n",
       "      dtype='object')"
      ]
     },
     "execution_count": 100,
     "metadata": {},
     "output_type": "execute_result"
    }
   ],
   "source": [
    "data_v6.select_dtypes(np.number).loc[:, data_v6.isna().sum() > 0].columns"
   ]
  },
  {
   "cell_type": "code",
   "execution_count": 101,
   "metadata": {
    "id": "BXLe0_Mj4MpU"
   },
   "outputs": [],
   "source": [
    "def knn_impute (df, column_na):\n",
    "  df = df.copy()\n",
    "\n",
    "  numeric_df = df.select_dtypes(np.number)\n",
    "  non_na_columns = numeric_df.loc[: , numeric_df.isna().sum() == 0].columns\n",
    "\n",
    "  y_train = numeric_df.loc[numeric_df[column_na].isna() == False, column_na]\n",
    "  X_train = numeric_df.loc[numeric_df[column_na].isna() == False, non_na_columns]\n",
    "  X_test = numeric_df.loc[numeric_df[column_na].isna() == True, non_na_columns]\n",
    "\n",
    "  knn = KNeighborsRegressor()\n",
    "  knn.fit(X_train, y_train)\n",
    "\n",
    "  y_pred = knn.predict(X_test)\n",
    "\n",
    "  df.loc[df[column_na].isna() == True, column_na] = y_pred\n",
    "\n",
    "  return df"
   ]
  },
  {
   "cell_type": "code",
   "execution_count": 102,
   "metadata": {
    "id": "6g8x3zkL5SIC"
   },
   "outputs": [],
   "source": [
    "data_v6 = knn_impute(data_v6, 'admissionheight')"
   ]
  },
  {
   "cell_type": "code",
   "execution_count": 103,
   "metadata": {
    "id": "p4KUioEm5sBu"
   },
   "outputs": [],
   "source": [
    "data_v6 = knn_impute(data_v6, 'sao2_min')"
   ]
  },
  {
   "cell_type": "code",
   "execution_count": 104,
   "metadata": {
    "id": "rTdJz90l5xIb"
   },
   "outputs": [],
   "source": [
    "data_v6 = knn_impute(data_v6, 'sao2_max')"
   ]
  },
  {
   "cell_type": "code",
   "execution_count": 105,
   "metadata": {
    "id": "T7FTAEpn5xEU"
   },
   "outputs": [],
   "source": [
    "data_v6 = knn_impute(data_v6, 'sao2_mean')"
   ]
  },
  {
   "cell_type": "code",
   "execution_count": 106,
   "metadata": {
    "id": "u9-a7oPx5xBk"
   },
   "outputs": [],
   "source": [
    "data_v6 = knn_impute(data_v6, 'heartrate_min')"
   ]
  },
  {
   "cell_type": "code",
   "execution_count": 107,
   "metadata": {
    "id": "Avie6kQs5w-O"
   },
   "outputs": [],
   "source": [
    "data_v6 = knn_impute(data_v6, 'heartrate_mean')"
   ]
  },
  {
   "cell_type": "code",
   "execution_count": 108,
   "metadata": {
    "id": "FXZLUzH55w72"
   },
   "outputs": [],
   "source": [
    "data_v6 = knn_impute(data_v6, 'heartrate_max')"
   ]
  },
  {
   "cell_type": "code",
   "execution_count": 109,
   "metadata": {
    "id": "uKSuqzHs5w44"
   },
   "outputs": [],
   "source": [
    "data_v6 = knn_impute(data_v6, 'respiration_min')"
   ]
  },
  {
   "cell_type": "code",
   "execution_count": 110,
   "metadata": {
    "id": "GwmfdsBQ5wzy"
   },
   "outputs": [],
   "source": [
    "data_v6 = knn_impute(data_v6, 'respiration_max')"
   ]
  },
  {
   "cell_type": "code",
   "execution_count": 111,
   "metadata": {
    "id": "NbBWQps_6EH8"
   },
   "outputs": [],
   "source": [
    "data_v6 = knn_impute(data_v6, 'respiration_mean')"
   ]
  },
  {
   "cell_type": "code",
   "execution_count": 112,
   "metadata": {
    "id": "O9Cutq4n7FCy"
   },
   "outputs": [],
   "source": [
    "data_v6 = data_v6.fillna(0)"
   ]
  },
  {
   "cell_type": "code",
   "execution_count": 113,
   "metadata": {
    "colab": {
     "base_uri": "https://localhost:8080/"
    },
    "id": "cxb7F97o6m9t",
    "outputId": "a08c75af-75f5-4642-f5e3-82461386350a"
   },
   "outputs": [
    {
     "data": {
      "text/plain": [
       "Index([], dtype='object')"
      ]
     },
     "execution_count": 113,
     "metadata": {},
     "output_type": "execute_result"
    }
   ],
   "source": [
    "data_v6.select_dtypes(np.number).loc[:, data_v6.isna().sum() > 0].columns"
   ]
  },
  {
   "cell_type": "markdown",
   "metadata": {
    "id": "q-y1c9SIEuE7"
   },
   "source": [
    "## Feature Transforming"
   ]
  },
  {
   "cell_type": "markdown",
   "metadata": {
    "id": "vN-W-S8HGtLR"
   },
   "source": [
    "### Obtener dias\n",
    "Es importante comentar este paso que hemos realizado antes de entrenar el modelo, que tiene que ver con la solución final buscada, como expondré más adelante, la solución planteada posee dos modelos, uno de ellos para clasificar a los pacientes en duración de menos o igual a 3 días y más de 3 días. Posteriormente, los pacientes clasificados como duración menor o igual a 3 días pasarán por un modelo de regresión para obtener el número de horas que estarán. Por tanto, vamos a añadir una columna que establezca una las dos categorías a clasificar 0 o 1.\n",
    "\n",
    "Una de las dudas que puede surgir es el porque de tomar 3 días como barrera de corte, dado que nuestro conocimientos médicos no son extensos, nos hemos guiado por el percentil 75 de la variable target en días."
   ]
  },
  {
   "cell_type": "code",
   "execution_count": 114,
   "metadata": {
    "id": "rBMo-_aItSP6"
   },
   "outputs": [],
   "source": [
    "data_v6['target_dias'] = data_v6['target']/1440"
   ]
  },
  {
   "cell_type": "code",
   "execution_count": 115,
   "metadata": {
    "id": "LEm2jSmP68WO"
   },
   "outputs": [],
   "source": [
    "data_v6_2cat = data_v6.copy()"
   ]
  },
  {
   "cell_type": "code",
   "execution_count": 116,
   "metadata": {
    "id": "80pNmGzgHo3V"
   },
   "outputs": [],
   "source": [
    "data_v6_2cat.loc[data_v6_2cat['target_dias']<= 3, ['target_dias']] = 0\n",
    "data_v6_2cat.loc[data_v6_2cat['target_dias']> 3, ['target_dias']] = 1"
   ]
  },
  {
   "cell_type": "code",
   "execution_count": 117,
   "metadata": {
    "id": "Cqa14ilYILYi"
   },
   "outputs": [],
   "source": [
    "data_v6.to_csv(ruta_datasets+\"datosResultantes.csv\")"
   ]
  },
  {
   "cell_type": "markdown",
   "metadata": {
    "id": "uUeTNpQouBOj"
   },
   "source": [
    "### Transform numeric features with skew normal distribution"
   ]
  },
  {
   "cell_type": "code",
   "execution_count": 118,
   "metadata": {
    "id": "OH_mlfUX2HCY"
   },
   "outputs": [],
   "source": [
    "#skew_df = pd.DataFrame(data_v6.select_dtypes(np.number).columns, columns=['Feature'])\n",
    "#skew_df['Skew'] = skew_df['Feature'].apply(lambda feature: scipy.stats.skew(data_v6[feature]))\n",
    "#skew_df['Absolute Skew'] = skew_df['Skew'].apply(abs)\n",
    "#skew_df['Skewed'] = skew_df['Absolute Skew'].apply(lambda x: True if x>=0.5 else False)\n",
    "#skew_df"
   ]
  },
  {
   "cell_type": "code",
   "execution_count": 119,
   "metadata": {
    "id": "icQzzcWE2TG8"
   },
   "outputs": [],
   "source": [
    "#for column in ['age', 'admissionheight', 'sao2_min', 'sao2_max', 'sao2_mean', 'respiration_max']:\n",
    "#  data_v6[column] = np.log1p(data_v6[column])"
   ]
  },
  {
   "cell_type": "markdown",
   "metadata": {
    "id": "6g4WNVF0uHe7"
   },
   "source": [
    "## Encoding Categorical"
   ]
  },
  {
   "cell_type": "code",
   "execution_count": 120,
   "metadata": {
    "id": "YYG4oPpLuLH9"
   },
   "outputs": [],
   "source": [
    "#data_v7 = pd.get_dummies(data_v6, columns=['gender', 'apacheadmissiondx', 'unittype','unitadmitsource'])"
   ]
  },
  {
   "cell_type": "code",
   "execution_count": 121,
   "metadata": {
    "id": "ssyCxaQzkh8Y"
   },
   "outputs": [],
   "source": [
    "columns_categorical=['gender', 'apacheadmissiondx', 'unittype','unitadmitsource']\n",
    "count_encoder = CountEncoder()\n",
    "count_encoder.fit(data_v6_2cat[columns_categorical])\n",
    "encoded_data = count_encoder.transform(data_v6_2cat[columns_categorical])\n",
    "data_v7 = data_v6_2cat.drop(columns_categorical, axis=1)\n",
    "data_v7 = pd.concat([data_v7, encoded_data], axis=1)"
   ]
  },
  {
   "cell_type": "code",
   "execution_count": 122,
   "metadata": {
    "colab": {
     "base_uri": "https://localhost:8080/"
    },
    "id": "b1lpq3-_BBvR",
    "outputId": "5ed41ba1-d1f4-4531-a98c-bc1c2599171b"
   },
   "outputs": [
    {
     "data": {
      "text/plain": [
       "(2161, 31)"
      ]
     },
     "execution_count": 122,
     "metadata": {},
     "output_type": "execute_result"
    }
   ],
   "source": [
    "data_v7.shape"
   ]
  },
  {
   "cell_type": "code",
   "execution_count": 123,
   "metadata": {
    "colab": {
     "base_uri": "https://localhost:8080/",
     "height": 317
    },
    "id": "XldkzsS3nX7v",
    "outputId": "74475d42-71e9-4d39-c3aa-301b4fa3a0f9"
   },
   "outputs": [
    {
     "data": {
      "text/html": [
       "<div>\n",
       "<style scoped>\n",
       "    .dataframe tbody tr th:only-of-type {\n",
       "        vertical-align: middle;\n",
       "    }\n",
       "\n",
       "    .dataframe tbody tr th {\n",
       "        vertical-align: top;\n",
       "    }\n",
       "\n",
       "    .dataframe thead th {\n",
       "        text-align: right;\n",
       "    }\n",
       "</style>\n",
       "<table border=\"1\" class=\"dataframe\">\n",
       "  <thead>\n",
       "    <tr style=\"text-align: right;\">\n",
       "      <th></th>\n",
       "      <th>patientunitstayid</th>\n",
       "      <th>age</th>\n",
       "      <th>hospitalid</th>\n",
       "      <th>admissionheight</th>\n",
       "      <th>unitvisitnumber</th>\n",
       "      <th>target_dias</th>\n",
       "      <th>Cardiovascular (R)</th>\n",
       "      <th>Endocrine (R)</th>\n",
       "      <th>Gastrointestinal (R)</th>\n",
       "      <th>Hematology</th>\n",
       "      <th>...</th>\n",
       "      <th>respiration_min</th>\n",
       "      <th>respiration_max</th>\n",
       "      <th>respiration_mean</th>\n",
       "      <th>numbedscategory</th>\n",
       "      <th>en_resCharting</th>\n",
       "      <th>target</th>\n",
       "      <th>gender</th>\n",
       "      <th>apacheadmissiondx</th>\n",
       "      <th>unittype</th>\n",
       "      <th>unitadmitsource</th>\n",
       "    </tr>\n",
       "  </thead>\n",
       "  <tbody>\n",
       "    <tr>\n",
       "      <th>1</th>\n",
       "      <td>141765</td>\n",
       "      <td>87.0</td>\n",
       "      <td>59</td>\n",
       "      <td>157.5</td>\n",
       "      <td>1</td>\n",
       "      <td>0.0</td>\n",
       "      <td>0.0</td>\n",
       "      <td>0.0</td>\n",
       "      <td>0.0</td>\n",
       "      <td>0.0</td>\n",
       "      <td>...</td>\n",
       "      <td>17.0</td>\n",
       "      <td>39.0</td>\n",
       "      <td>24.782609</td>\n",
       "      <td>3</td>\n",
       "      <td>0</td>\n",
       "      <td>2250</td>\n",
       "      <td>847</td>\n",
       "      <td>78</td>\n",
       "      <td>1620</td>\n",
       "      <td>1225</td>\n",
       "    </tr>\n",
       "    <tr>\n",
       "      <th>2</th>\n",
       "      <td>143870</td>\n",
       "      <td>76.0</td>\n",
       "      <td>68</td>\n",
       "      <td>167.0</td>\n",
       "      <td>1</td>\n",
       "      <td>0.0</td>\n",
       "      <td>0.0</td>\n",
       "      <td>0.0</td>\n",
       "      <td>0.0</td>\n",
       "      <td>0.0</td>\n",
       "      <td>...</td>\n",
       "      <td>45.0</td>\n",
       "      <td>86.0</td>\n",
       "      <td>67.031646</td>\n",
       "      <td>3</td>\n",
       "      <td>1</td>\n",
       "      <td>793</td>\n",
       "      <td>1311</td>\n",
       "      <td>26</td>\n",
       "      <td>71</td>\n",
       "      <td>250</td>\n",
       "    </tr>\n",
       "    <tr>\n",
       "      <th>3</th>\n",
       "      <td>144815</td>\n",
       "      <td>34.0</td>\n",
       "      <td>56</td>\n",
       "      <td>172.7</td>\n",
       "      <td>1</td>\n",
       "      <td>0.0</td>\n",
       "      <td>0.0</td>\n",
       "      <td>0.0</td>\n",
       "      <td>0.0</td>\n",
       "      <td>0.0</td>\n",
       "      <td>...</td>\n",
       "      <td>6.0</td>\n",
       "      <td>42.0</td>\n",
       "      <td>16.927273</td>\n",
       "      <td>3</td>\n",
       "      <td>0</td>\n",
       "      <td>1121</td>\n",
       "      <td>847</td>\n",
       "      <td>14</td>\n",
       "      <td>1620</td>\n",
       "      <td>1225</td>\n",
       "    </tr>\n",
       "    <tr>\n",
       "      <th>4</th>\n",
       "      <td>145427</td>\n",
       "      <td>61.0</td>\n",
       "      <td>68</td>\n",
       "      <td>177.8</td>\n",
       "      <td>1</td>\n",
       "      <td>0.0</td>\n",
       "      <td>0.0</td>\n",
       "      <td>0.0</td>\n",
       "      <td>0.0</td>\n",
       "      <td>0.0</td>\n",
       "      <td>...</td>\n",
       "      <td>5.0</td>\n",
       "      <td>41.0</td>\n",
       "      <td>16.349206</td>\n",
       "      <td>3</td>\n",
       "      <td>1</td>\n",
       "      <td>1369</td>\n",
       "      <td>1311</td>\n",
       "      <td>13</td>\n",
       "      <td>71</td>\n",
       "      <td>250</td>\n",
       "    </tr>\n",
       "    <tr>\n",
       "      <th>6</th>\n",
       "      <td>147307</td>\n",
       "      <td>55.0</td>\n",
       "      <td>63</td>\n",
       "      <td>157.5</td>\n",
       "      <td>1</td>\n",
       "      <td>0.0</td>\n",
       "      <td>0.0</td>\n",
       "      <td>0.0</td>\n",
       "      <td>0.0</td>\n",
       "      <td>0.0</td>\n",
       "      <td>...</td>\n",
       "      <td>12.0</td>\n",
       "      <td>33.0</td>\n",
       "      <td>20.025641</td>\n",
       "      <td>1</td>\n",
       "      <td>1</td>\n",
       "      <td>476</td>\n",
       "      <td>847</td>\n",
       "      <td>26</td>\n",
       "      <td>1620</td>\n",
       "      <td>250</td>\n",
       "    </tr>\n",
       "  </tbody>\n",
       "</table>\n",
       "<p>5 rows × 31 columns</p>\n",
       "</div>"
      ],
      "text/plain": [
       "   patientunitstayid   age  hospitalid  admissionheight  unitvisitnumber  \\\n",
       "1             141765  87.0          59            157.5                1   \n",
       "2             143870  76.0          68            167.0                1   \n",
       "3             144815  34.0          56            172.7                1   \n",
       "4             145427  61.0          68            177.8                1   \n",
       "6             147307  55.0          63            157.5                1   \n",
       "\n",
       "   target_dias  Cardiovascular (R)  Endocrine (R)  Gastrointestinal (R)  \\\n",
       "1          0.0                 0.0            0.0                   0.0   \n",
       "2          0.0                 0.0            0.0                   0.0   \n",
       "3          0.0                 0.0            0.0                   0.0   \n",
       "4          0.0                 0.0            0.0                   0.0   \n",
       "6          0.0                 0.0            0.0                   0.0   \n",
       "\n",
       "   Hematology  ...  respiration_min  respiration_max  respiration_mean  \\\n",
       "1         0.0  ...             17.0             39.0         24.782609   \n",
       "2         0.0  ...             45.0             86.0         67.031646   \n",
       "3         0.0  ...              6.0             42.0         16.927273   \n",
       "4         0.0  ...              5.0             41.0         16.349206   \n",
       "6         0.0  ...             12.0             33.0         20.025641   \n",
       "\n",
       "   numbedscategory  en_resCharting  target  gender  apacheadmissiondx  \\\n",
       "1                3               0    2250     847                 78   \n",
       "2                3               1     793    1311                 26   \n",
       "3                3               0    1121     847                 14   \n",
       "4                3               1    1369    1311                 13   \n",
       "6                1               1     476     847                 26   \n",
       "\n",
       "   unittype  unitadmitsource  \n",
       "1      1620             1225  \n",
       "2        71              250  \n",
       "3      1620             1225  \n",
       "4        71              250  \n",
       "6      1620              250  \n",
       "\n",
       "[5 rows x 31 columns]"
      ]
     },
     "execution_count": 123,
     "metadata": {},
     "output_type": "execute_result"
    }
   ],
   "source": [
    "data_v7.head()"
   ]
  },
  {
   "cell_type": "markdown",
   "metadata": {
    "id": "pkDXSlC0uQe6"
   },
   "source": [
    "## Split Train and Validation Data\n",
    "Antes de entrenar un modelo obviamente hay que hacer dos últimos pasos, eliminar los IDs de los pacientes que no aportan ningun valor al modelo y separar los conjuntos de datos en entrenamiento y validación y/o test."
   ]
  },
  {
   "cell_type": "code",
   "execution_count": 124,
   "metadata": {
    "id": "2j1L93ak9gkW"
   },
   "outputs": [],
   "source": [
    "data_v7.pop('patientunitstayid')\n",
    "data_v7.pop('target')\n",
    "target = data_v7.pop('target_dias')"
   ]
  },
  {
   "cell_type": "code",
   "execution_count": 125,
   "metadata": {
    "id": "7fJ2OBrouP9p"
   },
   "outputs": [],
   "source": [
    "X_train, X_test, y_train, y_test = train_test_split(data_v7, target, test_size=0.2, random_state=42)"
   ]
  },
  {
   "cell_type": "markdown",
   "metadata": {
    "id": "vXPOX5reuWsQ"
   },
   "source": [
    "# Train and Validation Model - Clasificacion en periodos\n",
    "\n",
    "Como ya he adelantado antes el modelo va a seguir el siguiente flujo:\n",
    "\n",
    "<img src=\"./img/Solucion Practica.PNG\">\n",
    "\n",
    "Primero se clasificará en dos grupos, los que vayan a estar más de 3 dias en la UCI o los que estarán 3 días o menos. Estos últimos pasarán por un segundo modelo de regresión para calcular el tiempo de estancia en horas."
   ]
  },
  {
   "cell_type": "markdown",
   "metadata": {
    "id": "Td7FZlo1uaQK"
   },
   "source": [
    "## Classifier - XGBoost\n",
    "\n",
    "Para la clasificación se han probado dos modelos (Radom Forest y XGBoost), y se ha decidido hacer tunnig de hiperparámetros con Grid Search para el que mejor a funcionado con el modelo base, que es el XGBoost Classifier. Dado el poco tiempo que teníamos no hemos podido profundizar todo lo que quisieramos en la elección de modelos y en el tunning de hiperparámetros, aún así hemos obtenido unos resultados que creemos positivos"
   ]
  },
  {
   "cell_type": "code",
   "execution_count": 126,
   "metadata": {
    "id": "TgqWXF0ouZ9l"
   },
   "outputs": [],
   "source": [
    "modelo = XGBClassifier(n_estimators=500, max_depth=3, learning_rate=0.01, gamma=5)"
   ]
  },
  {
   "cell_type": "code",
   "execution_count": 127,
   "metadata": {
    "colab": {
     "base_uri": "https://localhost:8080/"
    },
    "id": "ox4JjaaOPDhr",
    "outputId": "821108e4-11ea-425a-bac5-4d01050e0368"
   },
   "outputs": [
    {
     "name": "stdout",
     "output_type": "stream",
     "text": [
      "Accuracy: 0.8267898383371824\n"
     ]
    }
   ],
   "source": [
    "param_grid = {\n",
    "    'reg_alpha': [0, 0.1, 0.5, 1],\n",
    "    'reg_lambda': [0, 0.1, 0.5, 1],\n",
    "    'min_child_weight': [0, 1, 5, 10]\n",
    "}\n",
    "\n",
    "grid_search = GridSearchCV(modelo, param_grid, cv=5, scoring='accuracy', n_jobs=-1)\n",
    "\n",
    "grid_search.fit(X_train, y_train)\n",
    "\n",
    "best_model = grid_search.best_estimator_\n",
    "\n",
    "y_pred = best_model.predict(X_test)\n",
    "\n",
    "accuracy = accuracy_score(y_test, y_pred)\n",
    "print(\"Accuracy:\", accuracy)\n"
   ]
  },
  {
   "cell_type": "code",
   "execution_count": 128,
   "metadata": {
    "colab": {
     "base_uri": "https://localhost:8080/",
     "height": 248
    },
    "id": "X8gQ38QPQ3jD",
    "outputId": "a1ce8144-af52-4fb7-8af8-82ce5775bc12",
    "scrolled": false
   },
   "outputs": [
    {
     "data": {
      "text/plain": [
       "XGBClassifier(base_score=None, booster=None, callbacks=None,\n",
       "              colsample_bylevel=None, colsample_bynode=None,\n",
       "              colsample_bytree=None, early_stopping_rounds=None,\n",
       "              enable_categorical=False, eval_metric=None, feature_types=None,\n",
       "              gamma=5, gpu_id=None, grow_policy=None, importance_type=None,\n",
       "              interaction_constraints=None, learning_rate=0.01, max_bin=None,\n",
       "              max_cat_threshold=None, max_cat_to_onehot=None,\n",
       "              max_delta_step=None, max_depth=3, max_leaves=None,\n",
       "              min_child_weight=0, missing=nan, monotone_constraints=None,\n",
       "              n_estimators=500, n_jobs=None, num_parallel_tree=None,\n",
       "              predictor=None, random_state=None, ...)"
      ]
     },
     "execution_count": 128,
     "metadata": {},
     "output_type": "execute_result"
    }
   ],
   "source": [
    "grid_search.best_estimator_"
   ]
  },
  {
   "cell_type": "markdown",
   "metadata": {},
   "source": [
    "### Validation Model XGBoost\n",
    "\n",
    "Como creemos más importante que falle \"de menos\" en la clasificación de menos o igual a 3 días, hemos realizado un ajuste en el umbral de sensibilidad, aumentando el acierto a un 88% en la clasificación de paciente de <=3días."
   ]
  },
  {
   "cell_type": "code",
   "execution_count": 129,
   "metadata": {},
   "outputs": [],
   "source": [
    "modelo.fit(X_train, y_train)\n",
    "y_pred_proba = modelo.predict_proba(X_test)[:, 1]\n",
    "y_pred = (y_pred_proba > 0.35).astype(int)"
   ]
  },
  {
   "cell_type": "code",
   "execution_count": 130,
   "metadata": {},
   "outputs": [],
   "source": [
    "cm=confusion_matrix(y_test, y_pred)"
   ]
  },
  {
   "cell_type": "code",
   "execution_count": 131,
   "metadata": {},
   "outputs": [
    {
     "data": {
      "text/plain": [
       "0.8867313915857605"
      ]
     },
     "execution_count": 131,
     "metadata": {},
     "output_type": "execute_result"
    }
   ],
   "source": [
    "cm[0,0] / (cm[0,0]+cm[1,0])"
   ]
  },
  {
   "cell_type": "code",
   "execution_count": 132,
   "metadata": {},
   "outputs": [
    {
     "name": "stdout",
     "output_type": "stream",
     "text": [
      "Variable 0: 0.03959211707115173\n",
      "Variable 1: 0.03113166242837906\n",
      "Variable 2: 0.029247039929032326\n",
      "Variable 3: 0.0\n",
      "Variable 4: 0.024079684168100357\n",
      "Variable 5: 0.0\n",
      "Variable 6: 0.0\n",
      "Variable 7: 0.026427684351801872\n",
      "Variable 8: 0.0\n",
      "Variable 9: 0.0\n",
      "Variable 10: 0.0\n",
      "Variable 11: 0.04041332006454468\n",
      "Variable 12: 0.0\n",
      "Variable 13: 0.14036545157432556\n",
      "Variable 14: 0.06609632819890976\n",
      "Variable 15: 0.04732464253902435\n",
      "Variable 16: 0.06930377334356308\n",
      "Variable 17: 0.09669391065835953\n",
      "Variable 18: 0.038507942110300064\n",
      "Variable 19: 0.04251446947455406\n",
      "Variable 20: 0.08328305929899216\n",
      "Variable 21: 0.03726497292518616\n",
      "Variable 22: 0.035181865096092224\n",
      "Variable 23: 0.07168083637952805\n",
      "Variable 24: 0.0\n",
      "Variable 25: 0.03335084021091461\n",
      "Variable 26: 0.0\n",
      "Variable 27: 0.047540485858917236\n"
     ]
    }
   ],
   "source": [
    "importances = modelo.feature_importances_\n",
    "\n",
    "# Imprimir la importancia de cada variable\n",
    "for i in range(len(importances)):\n",
    "    print(f'Variable {i}: {importances[i]}')"
   ]
  },
  {
   "cell_type": "markdown",
   "metadata": {
    "id": "ZqDuKsoblG49"
   },
   "source": [
    "## Classifier - Random Forest "
   ]
  },
  {
   "cell_type": "code",
   "execution_count": 133,
   "metadata": {
    "colab": {
     "base_uri": "https://localhost:8080/"
    },
    "id": "iI0yazukk-Ue",
    "outputId": "34f952c6-3deb-4469-cf95-8468bc9dbea0"
   },
   "outputs": [
    {
     "data": {
      "text/plain": [
       "RandomForestClassifier(max_depth=5, random_state=42)"
      ]
     },
     "execution_count": 133,
     "metadata": {},
     "output_type": "execute_result"
    }
   ],
   "source": [
    "rf_model = RandomForestClassifier(n_estimators=100, max_depth=5, random_state=42)\n",
    "rf_model.fit(X_train, y_train)"
   ]
  },
  {
   "cell_type": "markdown",
   "metadata": {
    "id": "CZPc51Hvueew"
   },
   "source": [
    "## Validation Model"
   ]
  },
  {
   "cell_type": "code",
   "execution_count": 134,
   "metadata": {
    "id": "KxBp_SSzrme_"
   },
   "outputs": [],
   "source": [
    "y_pred_proba = rf_model.predict_proba(X_test)[:, 1]\n",
    "y_pred = (y_pred_proba > 0.35).astype(int)"
   ]
  },
  {
   "cell_type": "code",
   "execution_count": 135,
   "metadata": {
    "id": "xDUhj2WhqPmk"
   },
   "outputs": [],
   "source": [
    "cm=confusion_matrix(y_test, y_pred)"
   ]
  },
  {
   "cell_type": "code",
   "execution_count": 136,
   "metadata": {
    "colab": {
     "base_uri": "https://localhost:8080/"
    },
    "id": "bRyuSBhkBnsG",
    "outputId": "3cbd4b59-e282-4e69-fdf9-1c2861780650"
   },
   "outputs": [
    {
     "data": {
      "text/plain": [
       "0.8567073170731707"
      ]
     },
     "execution_count": 136,
     "metadata": {},
     "output_type": "execute_result"
    }
   ],
   "source": [
    "cm[0,0] / (cm[0,0]+cm[1,0])"
   ]
  },
  {
   "cell_type": "code",
   "execution_count": 137,
   "metadata": {
    "colab": {
     "base_uri": "https://localhost:8080/"
    },
    "id": "MSuoA3z6BrCp",
    "outputId": "f102ca54-594a-46ab-f8f3-93cacd703855"
   },
   "outputs": [
    {
     "data": {
      "text/plain": [
       "array([[281,  34],\n",
       "       [ 47,  71]], dtype=int64)"
      ]
     },
     "execution_count": 137,
     "metadata": {},
     "output_type": "execute_result"
    }
   ],
   "source": [
    "cm"
   ]
  },
  {
   "cell_type": "markdown",
   "metadata": {
    "id": "JHGOyNylDT9C"
   },
   "source": [
    "# Train and Validation 2nd Model"
   ]
  },
  {
   "cell_type": "code",
   "execution_count": 138,
   "metadata": {
    "id": "rbrdJ9lCFMXU"
   },
   "outputs": [],
   "source": [
    "#Transformación de la variable target\n",
    "data_v6_regres = data_v6.drop(data_v6.loc[data_v6['target_dias'] > 3].index)"
   ]
  },
  {
   "cell_type": "code",
   "execution_count": 139,
   "metadata": {
    "colab": {
     "base_uri": "https://localhost:8080/"
    },
    "id": "K0KbtJYEJ4k-",
    "outputId": "0185178d-35db-46b6-8586-7b26eac1fb44"
   },
   "outputs": [
    {
     "data": {
      "text/plain": [
       "count    1634.000000\n",
       "mean        1.339722\n",
       "std         0.742474\n",
       "min         0.000000\n",
       "25%         0.780903\n",
       "50%         1.173958\n",
       "75%         1.878125\n",
       "max         2.995833\n",
       "Name: target_dias, dtype: float64"
      ]
     },
     "execution_count": 139,
     "metadata": {},
     "output_type": "execute_result"
    }
   ],
   "source": [
    "data_v6_regres.describe()['target_dias']"
   ]
  },
  {
   "cell_type": "markdown",
   "metadata": {
    "id": "Q_umiV04FFlK"
   },
   "source": [
    "## Encoding Categorical"
   ]
  },
  {
   "cell_type": "code",
   "execution_count": 140,
   "metadata": {
    "id": "_3CGYBvJFFlK"
   },
   "outputs": [],
   "source": [
    "columns_categorical=['gender', 'apacheadmissiondx', 'unittype','unitadmitsource']\n",
    "count_encoder = CountEncoder()\n",
    "count_encoder.fit(data_v6_regres[columns_categorical])\n",
    "encoded_data = count_encoder.transform(data_v6_regres[columns_categorical])\n",
    "data_v7_regres = data_v6_regres.drop(columns_categorical, axis=1)\n",
    "data_v7_regres = pd.concat([data_v7_regres, encoded_data], axis=1)"
   ]
  },
  {
   "cell_type": "code",
   "execution_count": 141,
   "metadata": {
    "colab": {
     "base_uri": "https://localhost:8080/"
    },
    "id": "enFkRA1gFFlK",
    "outputId": "62497ed2-1de9-4e19-df3d-762d891baa9d"
   },
   "outputs": [
    {
     "data": {
      "text/plain": [
       "(1634, 31)"
      ]
     },
     "execution_count": 141,
     "metadata": {},
     "output_type": "execute_result"
    }
   ],
   "source": [
    "data_v7_regres.shape"
   ]
  },
  {
   "cell_type": "code",
   "execution_count": 142,
   "metadata": {
    "colab": {
     "base_uri": "https://localhost:8080/",
     "height": 334
    },
    "id": "p2bk_RoZFFlK",
    "outputId": "22972a82-3ce8-4eb4-e9d1-e3f94af954fd"
   },
   "outputs": [
    {
     "data": {
      "text/html": [
       "<div>\n",
       "<style scoped>\n",
       "    .dataframe tbody tr th:only-of-type {\n",
       "        vertical-align: middle;\n",
       "    }\n",
       "\n",
       "    .dataframe tbody tr th {\n",
       "        vertical-align: top;\n",
       "    }\n",
       "\n",
       "    .dataframe thead th {\n",
       "        text-align: right;\n",
       "    }\n",
       "</style>\n",
       "<table border=\"1\" class=\"dataframe\">\n",
       "  <thead>\n",
       "    <tr style=\"text-align: right;\">\n",
       "      <th></th>\n",
       "      <th>patientunitstayid</th>\n",
       "      <th>age</th>\n",
       "      <th>hospitalid</th>\n",
       "      <th>admissionheight</th>\n",
       "      <th>unitvisitnumber</th>\n",
       "      <th>target_dias</th>\n",
       "      <th>Cardiovascular (R)</th>\n",
       "      <th>Endocrine (R)</th>\n",
       "      <th>Gastrointestinal (R)</th>\n",
       "      <th>Hematology</th>\n",
       "      <th>...</th>\n",
       "      <th>respiration_min</th>\n",
       "      <th>respiration_max</th>\n",
       "      <th>respiration_mean</th>\n",
       "      <th>numbedscategory</th>\n",
       "      <th>en_resCharting</th>\n",
       "      <th>target</th>\n",
       "      <th>gender</th>\n",
       "      <th>apacheadmissiondx</th>\n",
       "      <th>unittype</th>\n",
       "      <th>unitadmitsource</th>\n",
       "    </tr>\n",
       "  </thead>\n",
       "  <tbody>\n",
       "    <tr>\n",
       "      <th>1</th>\n",
       "      <td>141765</td>\n",
       "      <td>87.0</td>\n",
       "      <td>59</td>\n",
       "      <td>157.5</td>\n",
       "      <td>1</td>\n",
       "      <td>1.562500</td>\n",
       "      <td>0.0</td>\n",
       "      <td>0.0</td>\n",
       "      <td>0.0</td>\n",
       "      <td>0.0</td>\n",
       "      <td>...</td>\n",
       "      <td>17.0</td>\n",
       "      <td>39.0</td>\n",
       "      <td>24.782609</td>\n",
       "      <td>3</td>\n",
       "      <td>0</td>\n",
       "      <td>2250</td>\n",
       "      <td>631</td>\n",
       "      <td>65</td>\n",
       "      <td>1232</td>\n",
       "      <td>964</td>\n",
       "    </tr>\n",
       "    <tr>\n",
       "      <th>2</th>\n",
       "      <td>143870</td>\n",
       "      <td>76.0</td>\n",
       "      <td>68</td>\n",
       "      <td>167.0</td>\n",
       "      <td>1</td>\n",
       "      <td>0.550694</td>\n",
       "      <td>0.0</td>\n",
       "      <td>0.0</td>\n",
       "      <td>0.0</td>\n",
       "      <td>0.0</td>\n",
       "      <td>...</td>\n",
       "      <td>45.0</td>\n",
       "      <td>86.0</td>\n",
       "      <td>67.031646</td>\n",
       "      <td>3</td>\n",
       "      <td>1</td>\n",
       "      <td>793</td>\n",
       "      <td>1000</td>\n",
       "      <td>26</td>\n",
       "      <td>54</td>\n",
       "      <td>198</td>\n",
       "    </tr>\n",
       "    <tr>\n",
       "      <th>3</th>\n",
       "      <td>144815</td>\n",
       "      <td>34.0</td>\n",
       "      <td>56</td>\n",
       "      <td>172.7</td>\n",
       "      <td>1</td>\n",
       "      <td>0.778472</td>\n",
       "      <td>0.0</td>\n",
       "      <td>0.0</td>\n",
       "      <td>0.0</td>\n",
       "      <td>0.0</td>\n",
       "      <td>...</td>\n",
       "      <td>6.0</td>\n",
       "      <td>42.0</td>\n",
       "      <td>16.927273</td>\n",
       "      <td>3</td>\n",
       "      <td>0</td>\n",
       "      <td>1121</td>\n",
       "      <td>631</td>\n",
       "      <td>13</td>\n",
       "      <td>1232</td>\n",
       "      <td>964</td>\n",
       "    </tr>\n",
       "    <tr>\n",
       "      <th>4</th>\n",
       "      <td>145427</td>\n",
       "      <td>61.0</td>\n",
       "      <td>68</td>\n",
       "      <td>177.8</td>\n",
       "      <td>1</td>\n",
       "      <td>0.950694</td>\n",
       "      <td>0.0</td>\n",
       "      <td>0.0</td>\n",
       "      <td>0.0</td>\n",
       "      <td>0.0</td>\n",
       "      <td>...</td>\n",
       "      <td>5.0</td>\n",
       "      <td>41.0</td>\n",
       "      <td>16.349206</td>\n",
       "      <td>3</td>\n",
       "      <td>1</td>\n",
       "      <td>1369</td>\n",
       "      <td>1000</td>\n",
       "      <td>11</td>\n",
       "      <td>54</td>\n",
       "      <td>198</td>\n",
       "    </tr>\n",
       "    <tr>\n",
       "      <th>6</th>\n",
       "      <td>147307</td>\n",
       "      <td>55.0</td>\n",
       "      <td>63</td>\n",
       "      <td>157.5</td>\n",
       "      <td>1</td>\n",
       "      <td>0.330556</td>\n",
       "      <td>0.0</td>\n",
       "      <td>0.0</td>\n",
       "      <td>0.0</td>\n",
       "      <td>0.0</td>\n",
       "      <td>...</td>\n",
       "      <td>12.0</td>\n",
       "      <td>33.0</td>\n",
       "      <td>20.025641</td>\n",
       "      <td>1</td>\n",
       "      <td>1</td>\n",
       "      <td>476</td>\n",
       "      <td>631</td>\n",
       "      <td>26</td>\n",
       "      <td>1232</td>\n",
       "      <td>198</td>\n",
       "    </tr>\n",
       "  </tbody>\n",
       "</table>\n",
       "<p>5 rows × 31 columns</p>\n",
       "</div>"
      ],
      "text/plain": [
       "   patientunitstayid   age  hospitalid  admissionheight  unitvisitnumber  \\\n",
       "1             141765  87.0          59            157.5                1   \n",
       "2             143870  76.0          68            167.0                1   \n",
       "3             144815  34.0          56            172.7                1   \n",
       "4             145427  61.0          68            177.8                1   \n",
       "6             147307  55.0          63            157.5                1   \n",
       "\n",
       "   target_dias  Cardiovascular (R)  Endocrine (R)  Gastrointestinal (R)  \\\n",
       "1     1.562500                 0.0            0.0                   0.0   \n",
       "2     0.550694                 0.0            0.0                   0.0   \n",
       "3     0.778472                 0.0            0.0                   0.0   \n",
       "4     0.950694                 0.0            0.0                   0.0   \n",
       "6     0.330556                 0.0            0.0                   0.0   \n",
       "\n",
       "   Hematology  ...  respiration_min  respiration_max  respiration_mean  \\\n",
       "1         0.0  ...             17.0             39.0         24.782609   \n",
       "2         0.0  ...             45.0             86.0         67.031646   \n",
       "3         0.0  ...              6.0             42.0         16.927273   \n",
       "4         0.0  ...              5.0             41.0         16.349206   \n",
       "6         0.0  ...             12.0             33.0         20.025641   \n",
       "\n",
       "   numbedscategory  en_resCharting  target  gender  apacheadmissiondx  \\\n",
       "1                3               0    2250     631                 65   \n",
       "2                3               1     793    1000                 26   \n",
       "3                3               0    1121     631                 13   \n",
       "4                3               1    1369    1000                 11   \n",
       "6                1               1     476     631                 26   \n",
       "\n",
       "   unittype  unitadmitsource  \n",
       "1      1232              964  \n",
       "2        54              198  \n",
       "3      1232              964  \n",
       "4        54              198  \n",
       "6      1232              198  \n",
       "\n",
       "[5 rows x 31 columns]"
      ]
     },
     "execution_count": 142,
     "metadata": {},
     "output_type": "execute_result"
    }
   ],
   "source": [
    "data_v7_regres.head()"
   ]
  },
  {
   "cell_type": "markdown",
   "metadata": {
    "id": "P5_DLaptFFlL"
   },
   "source": [
    "## Split Train and Validation Data"
   ]
  },
  {
   "cell_type": "code",
   "execution_count": 143,
   "metadata": {
    "id": "J2lZgad7FFlL"
   },
   "outputs": [],
   "source": [
    "data_v7_regres.pop('patientunitstayid')\n",
    "data_v7_regres.pop('target')\n",
    "target = data_v7_regres.pop('target_dias')"
   ]
  },
  {
   "cell_type": "code",
   "execution_count": 144,
   "metadata": {
    "id": "mstI9mTcFFlL"
   },
   "outputs": [],
   "source": [
    "X_trainR, X_testR, y_trainR, y_testR = train_test_split(data_v7_regres, target, test_size=0.2, random_state=42)"
   ]
  },
  {
   "cell_type": "markdown",
   "metadata": {
    "id": "pWftSUgwK898"
   },
   "source": [
    "## Regressor - XGBoost\n",
    "Por último, debemos entrenar el segundo modelo del flujo, el de regresión. Para no perder tiempo, ya que se nos echaba encima, hemos utilizado el mismo modelo que utilizamos para la clasificación, pero en su versión de regresisión, XGBoost Regressor."
   ]
  },
  {
   "cell_type": "code",
   "execution_count": 145,
   "metadata": {
    "id": "H81pJyNmK8-D"
   },
   "outputs": [],
   "source": [
    "modeloR = XGBRegressor(learning_rate= 0.1, max_depth=3, n_estimators=100, reg_alpha=0)"
   ]
  },
  {
   "cell_type": "code",
   "execution_count": 146,
   "metadata": {
    "colab": {
     "base_uri": "https://localhost:8080/"
    },
    "id": "0Gi1dYFXWH0X",
    "outputId": "fc7b703a-a11d-442b-a1c2-8ee2c334326f"
   },
   "outputs": [
    {
     "name": "stdout",
     "output_type": "stream",
     "text": [
      "{'gamma': 0.1, 'min_child_weight': 1, 'subsample': 1.0}\n"
     ]
    }
   ],
   "source": [
    "param_grid = {\n",
    "    'min_child_weight': [1, 3, 5],\n",
    "    'gamma': [0.0, 0.1, 0.2],\n",
    "    'subsample': [0.5, 0.7, 1.0]\n",
    "}\n",
    "grid_search = GridSearchCV(estimator=modeloR, param_grid=param_grid, cv=5)\n",
    "\n",
    "grid_search.fit(X_trainR, y_trainR)\n",
    "print(grid_search.best_params_)"
   ]
  },
  {
   "cell_type": "code",
   "execution_count": 147,
   "metadata": {
    "colab": {
     "base_uri": "https://localhost:8080/"
    },
    "id": "pLJQ9prJLC9r",
    "outputId": "e7e4181a-06f0-4b9a-e0a5-b24ce45867dc"
   },
   "outputs": [
    {
     "name": "stdout",
     "output_type": "stream",
     "text": [
      "Mean Squared Error: 0.4396229029125584\n"
     ]
    }
   ],
   "source": [
    "best_model = grid_search.best_estimator_\n",
    "\n",
    "y_pred = best_model.predict(X_testR)\n",
    "\n",
    "mse = mean_squared_error(y_testR, y_pred)\n",
    "print(\"Mean Squared Error:\", mse)"
   ]
  },
  {
   "cell_type": "markdown",
   "metadata": {},
   "source": [
    "Como se observa el resultado de la métrica MSE es de 0.43, esto nos dice que el error es menor a 10 horas de diferencia con el real, que visto desde el punto de vista de la gestión de la presión hospitalaria es un resultado aplicable a la vida real. Por último exponer el resumen de la solución desde una perspectiva más visual:\n",
    "\n",
    "<img src=\"./img/Solucion Tecnica.PNG\">\n"
   ]
  },
  {
   "cell_type": "markdown",
   "metadata": {},
   "source": [
    "Por último, como todo proyecto que se precie un resumen de próximos pasos, primero desde el punto de vista nuestro como desarrolladores de la solución con las herramientas que poseemos actualmente y posteriormente, desde el punto de vista más general y de proceso, como puede ser la estadarización de registro de datos, el análisis de planes de contingencia ante situaciones críticas, etcétera:\n",
    "\n",
    "<img src=\"./img/Proximos Pasos.PNG\">\n",
    "\n"
   ]
  },
  {
   "cell_type": "code",
   "execution_count": null,
   "metadata": {},
   "outputs": [],
   "source": []
  }
 ],
 "metadata": {
  "colab": {
   "provenance": []
  },
  "kernelspec": {
   "display_name": "Python 3 (ipykernel)",
   "language": "python",
   "name": "python3"
  },
  "language_info": {
   "codemirror_mode": {
    "name": "ipython",
    "version": 3
   },
   "file_extension": ".py",
   "mimetype": "text/x-python",
   "name": "python",
   "nbconvert_exporter": "python",
   "pygments_lexer": "ipython3",
   "version": "3.10.9"
  }
 },
 "nbformat": 4,
 "nbformat_minor": 1
}
